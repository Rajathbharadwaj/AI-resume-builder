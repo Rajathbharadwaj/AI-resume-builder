{
 "cells": [
  {
   "cell_type": "code",
   "execution_count": null,
   "id": "84e016ec-f292-4823-b1d5-3ad05d208bfe",
   "metadata": {},
   "outputs": [],
   "source": []
  },
  {
   "cell_type": "code",
   "execution_count": 1,
   "id": "3cf5f68e-6717-4e62-9ca6-512289b561b6",
   "metadata": {},
   "outputs": [],
   "source": [
    "import pandas as pd"
   ]
  },
  {
   "cell_type": "code",
   "execution_count": 2,
   "id": "8ef006d0-9717-4944-a5e1-a5048d336023",
   "metadata": {},
   "outputs": [],
   "source": [
    "job_csv = pd.read_csv('Latest.csv')\n"
   ]
  },
  {
   "cell_type": "code",
   "execution_count": 3,
   "id": "8be38369-4b58-489f-8b84-923a67059c8c",
   "metadata": {},
   "outputs": [
    {
     "data": {
      "text/plain": [
       "Index(['Unnamed: 0', 'site', 'job_url', 'job_url_direct', 'title', 'company',\n",
       "       'location', 'job_type', 'date_posted', 'interval', 'min_amount',\n",
       "       'max_amount', 'currency', 'is_remote', 'emails', 'description',\n",
       "       'company_url', 'company_url_direct', 'company_addresses',\n",
       "       'company_industry', 'company_num_employees', 'company_revenue',\n",
       "       'company_description', 'logo_photo_url', 'banner_photo_url', 'ceo_name',\n",
       "       'ceo_photo_url'],\n",
       "      dtype='object')"
      ]
     },
     "execution_count": 3,
     "metadata": {},
     "output_type": "execute_result"
    }
   ],
   "source": [
    "job_csv.columns"
   ]
  },
  {
   "cell_type": "code",
   "execution_count": 4,
   "id": "fe431ea7-6d74-4ced-b4e2-d2050c70e2ec",
   "metadata": {},
   "outputs": [],
   "source": [
    "job_csv['description'] = job_csv['description'].fillna(\"\")"
   ]
  },
  {
   "cell_type": "code",
   "execution_count": 5,
   "id": "e0a21dbf-a192-4d7f-b71b-20e8ea5afd9e",
   "metadata": {},
   "outputs": [],
   "source": [
    "def is_incomplete(description):\n",
    "    # Check if the description is below a certain length threshold or contains placeholder text\n",
    "    return len(description) < 100 or '...' in description"
   ]
  },
  {
   "cell_type": "code",
   "execution_count": 6,
   "id": "c54d6940-e57a-4944-ba68-1b75a5427491",
   "metadata": {},
   "outputs": [
    {
     "name": "stdout",
     "output_type": "stream",
     "text": [
      "\n",
      "Boolean Series indicating incomplete descriptions:\n",
      "0      False\n",
      "1      False\n",
      "2      False\n",
      "3      False\n",
      "4      False\n",
      "       ...  \n",
      "203     True\n",
      "204     True\n",
      "205     True\n",
      "206     True\n",
      "207     True\n",
      "Name: description, Length: 208, dtype: bool\n"
     ]
    }
   ],
   "source": [
    "incomplete_series = job_csv['description'].apply(is_incomplete)\n",
    "print(\"\\nBoolean Series indicating incomplete descriptions:\")\n",
    "print(incomplete_series)"
   ]
  },
  {
   "cell_type": "code",
   "execution_count": 7,
   "id": "6c7f587b-7fe2-493e-9c60-91be761edcac",
   "metadata": {},
   "outputs": [
    {
     "name": "stdout",
     "output_type": "stream",
     "text": [
      "\n",
      "Inverted Boolean Series indicating complete descriptions:\n",
      "0       True\n",
      "1       True\n",
      "2       True\n",
      "3       True\n",
      "4       True\n",
      "       ...  \n",
      "203    False\n",
      "204    False\n",
      "205    False\n",
      "206    False\n",
      "207    False\n",
      "Name: description, Length: 208, dtype: bool\n"
     ]
    }
   ],
   "source": [
    "# Invert the boolean Series to get the opposite\n",
    "complete_series = ~incomplete_series\n",
    "print(\"\\nInverted Boolean Series indicating complete descriptions:\")\n",
    "print(complete_series)"
   ]
  },
  {
   "cell_type": "code",
   "execution_count": 8,
   "id": "4d1baee9-1e51-4a53-8271-a28572739edb",
   "metadata": {},
   "outputs": [],
   "source": [
    "filtered_df = job_csv[complete_series]\n"
   ]
  },
  {
   "cell_type": "code",
   "execution_count": 9,
   "id": "838f9536-f1c2-46ef-bd5b-dd131337f9dd",
   "metadata": {},
   "outputs": [],
   "source": [
    "jds = filtered_df['description'].to_list()"
   ]
  },
  {
   "cell_type": "code",
   "execution_count": 27,
   "id": "ec395a7d-4d9e-4c30-8253-4de22d597727",
   "metadata": {},
   "outputs": [
    {
     "name": "stdout",
     "output_type": "stream",
     "text": [
      "Similarity Score: tensor([0.1138, 0.2432, 0.1403, 0.1053, 0.2194, 0.3495, 0.3177, 0.2638, 0.2974,\n",
      "        0.1106, 0.2004, 0.1958, 0.2196, 0.0894, 0.2600, 0.1870, 0.1760, 0.2453,\n",
      "        0.3254, 0.3070, 0.2921, 0.2029, 0.2424, 0.1727, 0.3618, 0.3034, 0.3471,\n",
      "        0.2794, 0.2369, 0.2467, 0.5443, 0.1106, 0.2328, 0.2683, 0.2410, 0.3766,\n",
      "        0.2981, 0.2959, 0.2265, 0.3392, 0.1875, 0.2191, 0.3518, 0.0592, 0.2578,\n",
      "        0.2449, 0.1275, 0.4202, 0.1687, 0.2203, 0.2811, 0.2662, 0.3130, 0.1670,\n",
      "        0.3152, 0.3152, 0.2465, 0.2830, 0.1978, 0.2078, 0.3294, 0.3083, 0.3243,\n",
      "        0.1577, 0.3160, 0.2945, 0.1761, 0.1047, 0.2287, 0.3499, 0.1163, 0.1632,\n",
      "        0.1757, 0.2186, 0.2485, 0.1765, 0.3061, 0.2022, 0.2265, 0.3255, 0.1616,\n",
      "        0.2859, 0.1912, 0.2896, 0.2697, 0.2204, 0.2874, 0.0512, 0.1585, 0.2101,\n",
      "        0.2461, 0.1541, 0.1930, 0.1623, 0.1618, 0.3219, 0.1829, 0.2036, 0.1455,\n",
      "        0.2004, 0.1687, 0.2600, 0.1760, 0.3130, 0.2608, 0.2497, 0.3254, 0.0592,\n",
      "        0.3070, 0.1727, 0.3392, 0.2191, 0.3152, 0.2432, 0.1106, 0.1106, 0.2683,\n",
      "        0.1875, 0.2328, 0.2906, 0.2203, 0.2196, 0.1892, 0.4202, 0.1670, 0.2739,\n",
      "        0.2410, 0.3766, 0.3334, 0.3034, 0.2811, 0.1917, 0.3495, 0.2453, 0.3650,\n",
      "        0.2265, 0.3602, 0.2662, 0.4104, 0.2424, 0.2029, 0.1870, 0.0894, 0.2638,\n",
      "        0.2449, 0.2255, 0.1138, 0.2491, 0.3471, 0.3518, 0.2239, 0.3152, 0.2465,\n",
      "        0.3253, 0.3177, 0.2194, 0.2974, 0.3618, 0.2981, 0.2959, 0.2369, 0.2578,\n",
      "        0.3580, 0.2241, 0.2265, 0.2650, 0.2449, 0.2794, 0.0512, 0.1630, 0.1163,\n",
      "        0.1541, 0.1577, 0.2586, 0.2503, 0.2762, 0.2287, 0.2971, 0.3160, 0.2485,\n",
      "        0.3159, 0.2098, 0.2874, 0.2697, 0.3022, 0.2078, 0.2921, 0.1616, 0.1757,\n",
      "        0.1047, 0.2197, 0.1053, 0.1403, 0.1275, 0.1958, 0.5443, 0.1893, 0.2467])\n"
     ]
    }
   ],
   "source": [
    "from sentence_transformers import SentenceTransformer, SimilarityFunction\n",
    "from sklearn.metrics.pairwise import cosine_similarity\n",
    "import pandas as pd\n",
    "import numpy as np\n",
    "\n",
    "# Resume text extracted from the PDF\n",
    "resume_text = \"\"\"\n",
    "Rajath Devadatta Bharadwaj Email: rjdevbharadwajb@gmail.com\n",
    "My Portfolio Mobile: +1-782-233-8008\n",
    "Github\n",
    "\n",
    "Education\n",
    "• Master of Science Computer Science - AI Specialization Windsor, ON\n",
    "University of Windsor - GPA:3.3/4.0 Sep 2022 - Present\n",
    "Courses: Intro to AI, Statistical Learning, Topics in AI, Neural Networks and Deep Learning\n",
    "• Bachelor of Engineering - Computer Science Bangalore, India\n",
    "Visvesvaraya Technological University (VTU) - GPA:8.51 Aug 2017 - Aug 2021\n",
    "Courses: Operating Systems, Data Structures, Analysis Of Algorithms, Artificial Intelligence, Networking, Databases, Java\n",
    "\n",
    "Profile of Skills\n",
    "• Languages: Python, JAVA, C++, SQL, Solidity\n",
    "• Frameworks: SpaCy, Streamlit, TensorFlow, PyTorch/Lightning, TensorRT, CUDA, Huggingface, numpy, sklearn\n",
    "• Tools: Kubernetes, Docker, GIT, NVIDIA NGC\n",
    "• Platforms: Linux, Web, NVIDIA Jetson, Raspberry, GCP\n",
    "• Crypto Technologies: DAOs, Web3, DeFi, NFTs, OpenZeppelin, Brownie\n",
    "\n",
    "Experience\n",
    "• Graduate Assistant In-person\n",
    "University of Windsor Sept 2022 - Present\n",
    "◦ Handling Labs: Teaching Masters in Applied Computing (MAC) students concepts of Advanced Computing Concepts\n",
    "using interactive Canva slides.\n",
    "◦ Projects: Assisted in developing practical projects related to ML model deployment and evaluation.\n",
    "◦ Debugging: Worked on building and debugging ML models to optimize performance and accuracy.\n",
    "• DL Fellow Remote\n",
    "Fellowship.ai Sept 2021 - Jan 2022\n",
    "◦ Conversational AI: Built an Athlete/Fitness coach bot using RASA. Blenderbot 2.0 was used to handle fallbacks\n",
    "RASA couldn’t handle.\n",
    "◦ Fallbacks: Semantic Document Search or SDS was leveraged in case both these bots weren’t able to convincingly answer\n",
    "a question.\n",
    "◦ Stable Pipelines: Designed and maintained stable pipelines for model training and evaluation, ensuring reproducible\n",
    "results.\n",
    "◦ Data Analytics: Used SQL, pandas, and Spark for data analytics and metric generation pipelines.\n",
    "• AI Solution Architect In-person\n",
    "BrainGrid Technologies Nov 2021 - Sept 2022\n",
    "◦ Optimizing Inference: Developed models on the TensorRT framework to reduce inference time loads resulting in\n",
    "increasing company’s efficiency to implement inference by 3%.\n",
    "◦ NVIDIA DGX: Led workshop for clients on NVIDIA’s DGX systems along with NGC Containers, received positive\n",
    "feedback on training with a business conversion around of 1%.\n",
    "◦ NVIDIA Jetson: Mentored clients on performing model inference using the Jetson Nano for edge use cases.\n",
    "◦ Systematic Debugging: Used a systematic approach to debug both data and system issues within ML models.\n",
    "\n",
    "Projects\n",
    "• EMO TalkGen (WIP): Enhancing Emotional Expressiveness in Talking Head Generation (Research). A research to enhance\n",
    "the emotion in Talking Head generation video using Diffusion Models. November 23 - Present\n",
    "• Automated Trading System: Developed an end-to-end automated trading system using DL and RL, achieving 79% trade\n",
    "accuracy. Tech: Python, Streamlit, Stable Baseline-3, OpenAI Gym, Selenium, TensorFlow, FBProphet. November 21 -\n",
    "Present\n",
    "• DL-based Gaming (Deep Learning, Computer Vision): Architected a DL model to analyze a game’s frames and predict\n",
    "the next move. Performed similarly to a newbie with an accuracy of 85%. Tech: Python, TensorFlow & OpenCV.\n",
    "• Action Recognition Tagging: Improved business revenue by 2% through accurate activity recognition in video frames using\n",
    "TensorFlow and OpenCV. Tech: Python, TensorFlow, OpenCV.\n",
    "• Conversational AI Chatbot: Created a chatbot for sports and fitness queries using Python, RASA, and Huggingface,\n",
    "improving user engagement. Tech: Python, RASA, Blenderbot, Huggingface\n",
    "• Autograder (Deep Learning, Computer Vision): An LSTM-CNN model to grade mathematics answer papers. Now\n",
    "using LLMs to grade the papers and enable automation Tech: Python, HuggingFace, Streamlit, LangChain\n",
    "\n",
    "Blogs/ Seminars & Tutorials\n",
    "• How does Orthogonalization relate to Machine Learning:\n",
    "• TF.data.experimental-service:\n",
    "• Auto Encoders using Tensorflow (SRM University, Chennai):\n",
    "• Reinforcement Learning:\n",
    "• YouTube:\n",
    "\"\"\"\n",
    "\n",
    "# Provided job description\n",
    "job_description = \"\"\"\n",
    "ATTENTION: LinkedIn is the only acceptable method to apply for this position. Limitless will contact the candidates selected. Please do not contact Limitless personnel via email or telephone. No other resumes will be considered using an alternative submission process.\n",
    "\n",
    "\n",
    "\n",
    "Our client is a well-established financial institution with a significant presence in North America. We are seeking a highly skilled Machine Learning and Artificial Intelligence Engineer to join their dynamic team. As a Machine Learning and AI Engineer, you will design, develop, and deploy state-of-the-art AI and machine learning models and algorithms. You will work closely with data scientists, software engineers, and domain experts to transform data into actionable insights and innovative solutions.\n",
    "\n",
    "\n",
    "\n",
    "Responsibilities:\n",
    "\n",
    "Design, implement, and evaluate machine learning and AI models and algorithms to solve complex problems.\n",
    "Gather, preprocess, and analyze large datasets to prepare them for model training and testing.\n",
    "Fine-tune and optimize algorithms for performance, scalability, and accuracy.\n",
    "Deploy AI and machine learning models into production environments, ensuring efficient operation and maintenance.\n",
    "Stay current with the latest research and advancements in AI and machine learning, and apply new techniques to existing and new projects.\n",
    "Work with cross-functional teams to understand business requirements and deliver tailored AI and machine learning solutions.\n",
    "Document processes, methodologies, and insights to support transparency and knowledge sharing within the team.\n",
    "\n",
    "\n",
    "Qualifications:\n",
    "\n",
    "Bachelor’s or Master’s degree in Computer Science, Data Science, Engineering, or a related field. A Ph.D. is a plus.\n",
    "Proven experience as a Machine Learning and AI Engineer or a similar role.\n",
    "Proficiency in Python and familiarity with libraries such as TensorFlow, PyTorch, and Scikit-Learn.\n",
    "Strong understanding of AI and machine learning algorithms, including deep learning, supervised, and unsupervised learning techniques.\n",
    "Experience with data preprocessing, feature engineering, model evaluation, and deployment.\n",
    "Knowledge of big data technologies (e.g., Hadoop, Spark) and cloud platforms (e.g., AWS, Azure) is a plus.\n",
    "Excellent problem-solving abilities and a strong analytical mindset.\n",
    "Ability to communicate complex technical concepts to non-technical stakeholders.\n",
    "Collaborative attitude and ability to work effectively\n",
    "\n",
    "\n",
    "Note: Position is for Limitless Staffing's client that will remain undisclosed until applicant is selected for interview.\n",
    "\"\"\"\n",
    "\n",
    "# Load pre-trained Sentence Transformer model\n",
    "model = SentenceTransformer('all-MiniLM-L6-v2', similarity_fn_name=SimilarityFunction.COSINE)\n",
    "\n",
    "# Encode the resume and job description\n",
    "resume_embedding = model.encode(resume_text)  # Encoding the resume\n",
    "# job_description_embedding = model.encode(job_description)  # Encoding the job description\n",
    "\n",
    "# Calculate cosine similarity\n",
    "# similarity_score = cosine_similarity([resume_embedding], [job_description_embedding])[0][0]\n",
    "\n",
    "#Display the similarity score\n",
    "\n",
    "# print(f\"Similarity Score: {similarity_score:.4f}\")\n",
    "\n",
    "# For multiple job descriptions, you can repeat the process and rank them by similarity score\n",
    "\n",
    "job_descriptions = jds  # Add more job descriptions as needed\n",
    "job_embeddings = model.encode(job_descriptions)  # Encoding all job descriptions\n",
    "\n",
    "# Calculate similarities for all job descriptions\n",
    "\n",
    "similarity_scores = model.similarity([resume_embedding], job_embeddings)[0]\n",
    "print(f\"Similarity Score: {similarity_scores}\")\n",
    "\n",
    "# Rank and filter the top k most suitable jobs\n",
    "\n",
    "k = 13  # Number of top jobs to select\n",
    "top_k_indices = np.argsort(np.array(similarity_scores))[::-1][:k]\n",
    "top_k_jobs = [job_descriptions[i] for i in top_k_indices]\n",
    "top_k_scores = [similarity_scores[i] for i in top_k_indices]\n",
    "\n",
    "#Display the top k most suitable jobs\n",
    "\n",
    "top_k_df = pd.DataFrame({\n",
    "'Job Description': top_k_jobs,\n",
    "'Similarity Score': top_k_scores\n",
    "})"
   ]
  },
  {
   "cell_type": "code",
   "execution_count": 26,
   "id": "67346f1f-37ea-4e53-91d8-ba30538a9377",
   "metadata": {},
   "outputs": [
    {
     "data": {
      "text/plain": [
       "array([ 30, 195,  47, 123, 138,  35, 127, 134, 157,  24, 136, 162, 149])"
      ]
     },
     "execution_count": 26,
     "metadata": {},
     "output_type": "execute_result"
    }
   ],
   "source": [
    "np.argsort(np.array(similarity_scores))[::-1][:k]"
   ]
  },
  {
   "cell_type": "code",
   "execution_count": 13,
   "id": "7f3abfe9-a23b-4a1d-9243-31f88297c24d",
   "metadata": {},
   "outputs": [
    {
     "data": {
      "text/plain": [
       "tensor([0.1138, 0.2432, 0.1403, 0.1053, 0.2194, 0.3495, 0.3177, 0.2638, 0.2974,\n",
       "        0.1106, 0.2004, 0.1958, 0.2196, 0.0894, 0.2600, 0.1870, 0.1760, 0.2453,\n",
       "        0.3254, 0.3070, 0.2921, 0.2029, 0.2424, 0.1727, 0.3618, 0.3034, 0.3471,\n",
       "        0.2794, 0.2369, 0.2467, 0.5443, 0.1106, 0.2328, 0.2683, 0.2410, 0.3766,\n",
       "        0.2981, 0.2959, 0.2265, 0.3392, 0.1875, 0.2191, 0.3518, 0.0592, 0.2578,\n",
       "        0.2449, 0.1275, 0.4202, 0.1687, 0.2203, 0.2811, 0.2662, 0.3130, 0.1670,\n",
       "        0.3152, 0.3152, 0.2465, 0.2830, 0.1978, 0.2078, 0.3294, 0.3083, 0.3243,\n",
       "        0.1577, 0.3160, 0.2945, 0.1761, 0.1047, 0.2287, 0.3499, 0.1163, 0.1632,\n",
       "        0.1757, 0.2186, 0.2485, 0.1765, 0.3061, 0.2022, 0.2265, 0.3255, 0.1616,\n",
       "        0.2859, 0.1912, 0.2896, 0.2697, 0.2204, 0.2874, 0.0512, 0.1585, 0.2101,\n",
       "        0.2461, 0.1541, 0.1930, 0.1623, 0.1618, 0.3219, 0.1829, 0.2036, 0.1455,\n",
       "        0.2004, 0.1687, 0.2600, 0.1760, 0.3130, 0.2608, 0.2497, 0.3254, 0.0592,\n",
       "        0.3070, 0.1727, 0.3392, 0.2191, 0.3152, 0.2432, 0.1106, 0.1106, 0.2683,\n",
       "        0.1875, 0.2328, 0.2906, 0.2203, 0.2196, 0.1892, 0.4202, 0.1670, 0.2739,\n",
       "        0.2410, 0.3766, 0.3334, 0.3034, 0.2811, 0.1917, 0.3495, 0.2453, 0.3650,\n",
       "        0.2265, 0.3602, 0.2662, 0.4104, 0.2424, 0.2029, 0.1870, 0.0894, 0.2638,\n",
       "        0.2449, 0.2255, 0.1138, 0.2491, 0.3471, 0.3518, 0.2239, 0.3152, 0.2465,\n",
       "        0.3253, 0.3177, 0.2194, 0.2974, 0.3618, 0.2981, 0.2959, 0.2369, 0.2578,\n",
       "        0.3580, 0.2241, 0.2265, 0.2650, 0.2449, 0.2794, 0.0512, 0.1630, 0.1163,\n",
       "        0.1541, 0.1577, 0.2586, 0.2503, 0.2762, 0.2287, 0.2971, 0.3160, 0.2485,\n",
       "        0.3159, 0.2098, 0.2874, 0.2697, 0.3022, 0.2078, 0.2921, 0.1616, 0.1757,\n",
       "        0.1047, 0.2197, 0.1053, 0.1403, 0.1275, 0.1958, 0.5443, 0.1893, 0.2467])"
      ]
     },
     "execution_count": 13,
     "metadata": {},
     "output_type": "execute_result"
    }
   ],
   "source": [
    "similarity_scores"
   ]
  },
  {
   "cell_type": "code",
   "execution_count": 31,
   "id": "509be147-1efb-485e-b1e8-5659424e3164",
   "metadata": {},
   "outputs": [
    {
     "data": {
      "text/plain": [
       "['### **Join FlexAI: Unleashing the Power of AI Through Purpose-Built Compute Systems**\\n\\n  \\n\\nAt FlexAI, we are on a mission to revolutionize the landscape of artificial intelligence by addressing the critical challenges in Large Language Model (LLM) training. Our motto \"More compute, less complexity\". With a commitment to sustainability, efficiency, and accessibility, we\\'ve gone back to the first principles of computer architecture to create a groundbreaking modular design. Our dedicated, cost-efficient, and open solutions for AI compute are engineered to deliver unparalleled performance per Total Cost of Ownership (TCO).\\n\\n\\nLed by two co-founders, with strong Silicon Valley DNA, bringing over 40 years of combined experience from industry giants (Intel, Apple, Tesla, Nvidia…), FlexAI is set to redefine the future of AI infrastructure.\\n\\n  \\n\\nIf you\\'re passionate about shaping the future of artificial intelligence, driving innovation, and contributing to a sustainable and inclusive AI ecosystem, **FlexAI is the place for you !**\\n\\n#### **Position Overview:**\\n\\n  \\n\\n***We are searching for an adept IT Manager who will play a pivotal role in our journey.***\\n\\n##### **Here\\'s your canvas:**\\n\\n* Lead and manage IT projects aligning with company goals.\\n* Manage a heterogeneous fleet of MacOS and Windows endpoints.\\n* Own Networking infrastructure and remote access (VPN) services.\\n* Maintain a secure and efficient IT infrastructure.\\n* Drive innovation in IT solutions to support evolving business needs.\\n* Ensure seamless user support and stakeholder communication.\\n* Develop and manage the IT budget, ensuring cost-effectiveness.\\n\\n  \\n\\n**You\\'ll thrive with us if you have these elements:**\\n\\n  \\n\\n* Proven experience as an IT Manager or similar role.\\n* Strong command of the English language (oral and written).\\n* Familiarity with MDM, ITSM, SSO, Active Directory and Cloud environment (AWS, Azure or GCP)\\n* Experience in IT project management and IT infrastructure maintenance.\\n* Ability to work collaboratively and receive candid feedback.\\n* Self-starter with a bias for action and impactful delivery.\\n* Curiosity and continuous learning mindset.\\n\\n **What we offer:**\\n\\n* Competitive salary and benefits package, crafted to reward your efforts and commitment.\\n* A chance to work alongside pioneers in AI and cloud computing, learning from the best and brightest.\\n* An environment that values innovation, collaboration, and respect in every interaction.\\n* Opportunities for personal and professional growth, encouraging you to stretch your abilities and make a lasting impact.\\n* A platform to contribute significantly to the AI revolution, shaping the cloud services that power tomorrow\\'s innovations.\\n  \\n\\n\\n\\n\\n**Who is a Flexer?**  \\n\\n  \\n\\nAt FlexAI, we\\'re passionate about propelling AI forward while ensuring a culture of diversity and enjoyment. We cherish every individual\\'s unique viewpoint, recognizing it as a catalyst for creativity and innovation. Committed to personal growth, we provide ongoing learning opportunities guided by our core values of ownership, optimism, and velocity. Join our dynamic, inclusive team, united by a common mission to achieve outstanding results while embracing the journey with joy.  \\n\\n  \\n\\n**Our Values :**\\n\\n **WE ARE (SERIOUSLY) OBSESSED BY OUR CUSTOMERS**  \\n\\nWe highly value our customers and are dedicated to meeting their needs. This commitment is reflected in our product development, customer service, and continuous feedback-seeking.\\n\\n**WE GET (BOLD) THINGS DONE**  \\n\\nWe prioritize productivity, efficiency, and proactive problem-solving. Encouraging innovative thinking, risk-taking, and goal-oriented execution.\\n\\n\\n**WE RISE TO (BIG) CHALLENGES**  \\n\\nWe embrace challenges as opportunities for growth and learning. Our determination drives us to overcome obstacles and strive for excellence.\\n\\n\\n\\u200d️ **WE ARE A (BADASS) TEAM**  \\n\\nWE ARE A (BADASS) TEAM symbolizes our unified strength, collaboration, and solidarity. Together, we bolster one another, exchange knowledge, and strive towards shared objectives. Each team member\\'s contribution is valued, recognizing that our collective effort is paramount to our success.\\n\\n\\n**WE CULTIVATE THE (SHARED) FUN**  \\n\\nWe foster a productive and enjoyable work environment. Fun promotes creativity, teamwork, and enhances employee satisfaction and retention.\\n\\n\\n️ **WE EMBRACE (360°) DIVERSITY**  \\n\\nWe appreciate and validate diverse perspectives. Recognizing diversity as our strength, fueling creativity and innovation.\\n\\n  \\n\\nFlexAI strongly believes in the power of human ingenuity and AI reliability to redefine boundaries. We embrace a culture of experimentation, teamwork, equality, humble confidence, and hard work. If these values resonate with you, **JOIN US** !\\n\\n#### **Offices :**\\n\\n\\nFlexAI has European roots but international scope from day one. Our main offices are in\\n\\n* Paris - HQ\\n* Silicon Valley - US office\\n* Bangalore - India office\\n* Remote friendly (*Meet at the Paris office at least once per quarter**)*\\n  \\n\\n#### \\n\\n#### **Recruitment Process :**\\n\\n* HR interview (Recruiter) - *30 min (Phone or Video)*\\n* #1 Technical Interview & Cultural fit (Dali, co-founder) - *45 min (Video)*\\n* #2 Technical Interview (Tech Member) - *45 min (Video)*\\n* #3 Technical Interview (Tech Member) - *45 min (Video)*\\n* Team Fit Interview (2 Tech Members)- 30 min (Video)\\n* Final Interview (Brijesh, co-founder) *-* *45 min (Video)*\\n* Referral check\\n* Offer\\n* Day 1 & Onboarding\\n  \\n\\n\\n\\n\\n*We\\'ve provided detailed insights into the role, and now it\\'s your turn to assess if it aligns with your aspirations. If you\\'re hesitating, we encourage you to apply – it could lead to a meaningful collaboration.*\\n\\n*We\\'re committed to diversity and inclusivity, offering equal opportunities* *regardless of gender, sexual orientation, origin, disabilities, veteran status, or any other traits that make you who you are**. Diversity enriches our workplace, making it more enjoyable for everyone !*',\n",
       " '### **Join FlexAI: Unleashing the Power of AI Through Purpose-Built Compute Systems**\\n\\n  \\n\\nAt FlexAI, we are on a mission to revolutionize the landscape of artificial intelligence by addressing the critical challenges in Large Language Model (LLM) training. Our motto \"More compute, less complexity\". With a commitment to sustainability, efficiency, and accessibility, we\\'ve gone back to the first principles of computer architecture to create a groundbreaking modular design. Our dedicated, cost-efficient, and open solutions for AI compute are engineered to deliver unparalleled performance per Total Cost of Ownership (TCO).\\n\\n\\nLed by two co-founders, with strong Silicon Valley DNA, bringing over 40 years of combined experience from industry giants (Intel, Apple, Tesla, Nvidia…), FlexAI is set to redefine the future of AI infrastructure.\\n\\n  \\n\\nIf you\\'re passionate about shaping the future of artificial intelligence, driving innovation, and contributing to a sustainable and inclusive AI ecosystem, **FlexAI is the place for you !**\\n\\n#### **Position Overview:**\\n\\n  \\n\\n***We are searching for an adept IT Manager who will play a pivotal role in our journey.***\\n\\n##### **Here\\'s your canvas:**\\n\\n* Lead and manage IT projects aligning with company goals.\\n* Manage a heterogeneous fleet of MacOS and Windows endpoints.\\n* Own Networking infrastructure and remote access (VPN) services.\\n* Maintain a secure and efficient IT infrastructure.\\n* Drive innovation in IT solutions to support evolving business needs.\\n* Ensure seamless user support and stakeholder communication.\\n* Develop and manage the IT budget, ensuring cost-effectiveness.\\n\\n  \\n\\n**You\\'ll thrive with us if you have these elements:**\\n\\n  \\n\\n* Proven experience as an IT Manager or similar role.\\n* Strong command of the English language (oral and written).\\n* Familiarity with MDM, ITSM, SSO, Active Directory and Cloud environment (AWS, Azure or GCP)\\n* Experience in IT project management and IT infrastructure maintenance.\\n* Ability to work collaboratively and receive candid feedback.\\n* Self-starter with a bias for action and impactful delivery.\\n* Curiosity and continuous learning mindset.\\n\\n **What we offer:**\\n\\n* Competitive salary and benefits package, crafted to reward your efforts and commitment.\\n* A chance to work alongside pioneers in AI and cloud computing, learning from the best and brightest.\\n* An environment that values innovation, collaboration, and respect in every interaction.\\n* Opportunities for personal and professional growth, encouraging you to stretch your abilities and make a lasting impact.\\n* A platform to contribute significantly to the AI revolution, shaping the cloud services that power tomorrow\\'s innovations.\\n  \\n\\n\\n\\n\\n**Who is a Flexer?**  \\n\\n  \\n\\nAt FlexAI, we\\'re passionate about propelling AI forward while ensuring a culture of diversity and enjoyment. We cherish every individual\\'s unique viewpoint, recognizing it as a catalyst for creativity and innovation. Committed to personal growth, we provide ongoing learning opportunities guided by our core values of ownership, optimism, and velocity. Join our dynamic, inclusive team, united by a common mission to achieve outstanding results while embracing the journey with joy.  \\n\\n  \\n\\n**Our Values :**\\n\\n **WE ARE (SERIOUSLY) OBSESSED BY OUR CUSTOMERS**  \\n\\nWe highly value our customers and are dedicated to meeting their needs. This commitment is reflected in our product development, customer service, and continuous feedback-seeking.\\n\\n**WE GET (BOLD) THINGS DONE**  \\n\\nWe prioritize productivity, efficiency, and proactive problem-solving. Encouraging innovative thinking, risk-taking, and goal-oriented execution.\\n\\n\\n**WE RISE TO (BIG) CHALLENGES**  \\n\\nWe embrace challenges as opportunities for growth and learning. Our determination drives us to overcome obstacles and strive for excellence.\\n\\n\\n\\u200d️ **WE ARE A (BADASS) TEAM**  \\n\\nWE ARE A (BADASS) TEAM symbolizes our unified strength, collaboration, and solidarity. Together, we bolster one another, exchange knowledge, and strive towards shared objectives. Each team member\\'s contribution is valued, recognizing that our collective effort is paramount to our success.\\n\\n\\n**WE CULTIVATE THE (SHARED) FUN**  \\n\\nWe foster a productive and enjoyable work environment. Fun promotes creativity, teamwork, and enhances employee satisfaction and retention.\\n\\n\\n️ **WE EMBRACE (360°) DIVERSITY**  \\n\\nWe appreciate and validate diverse perspectives. Recognizing diversity as our strength, fueling creativity and innovation.\\n\\n  \\n\\nFlexAI strongly believes in the power of human ingenuity and AI reliability to redefine boundaries. We embrace a culture of experimentation, teamwork, equality, humble confidence, and hard work. If these values resonate with you, **JOIN US** !\\n\\n#### **Offices :**\\n\\n\\nFlexAI has European roots but international scope from day one. Our main offices are in\\n\\n* Paris - HQ\\n* Silicon Valley - US office\\n* Bangalore - India office\\n* Remote friendly (*Meet at the Paris office at least once per quarter**)*\\n  \\n\\n#### \\n\\n#### **Recruitment Process :**\\n\\n* HR interview (Recruiter) - *30 min (Phone or Video)*\\n* #1 Technical Interview & Cultural fit (Dali, co-founder) - *45 min (Video)*\\n* #2 Technical Interview (Tech Member) - *45 min (Video)*\\n* #3 Technical Interview (Tech Member) - *45 min (Video)*\\n* Team Fit Interview (2 Tech Members)- 30 min (Video)\\n* Final Interview (Brijesh, co-founder) *-* *45 min (Video)*\\n* Referral check\\n* Offer\\n* Day 1 & Onboarding\\n  \\n\\n\\n\\n\\n*We\\'ve provided detailed insights into the role, and now it\\'s your turn to assess if it aligns with your aspirations. If you\\'re hesitating, we encourage you to apply – it could lead to a meaningful collaboration.*\\n\\n*We\\'re committed to diversity and inclusivity, offering equal opportunities* *regardless of gender, sexual orientation, origin, disabilities, veteran status, or any other traits that make you who you are**. Diversity enriches our workplace, making it more enjoyable for everyone !*',\n",
       " '**Job Summary**  \\n\\n  \\n\\n  \\n\\n  \\n\\n  \\n\\nExperience:\\n2 - 8 Years  \\n\\n  \\n\\nLocation:\\nBangalore,Chennai,Gurgaon,Pune  \\n\\n  \\n\\nDesignation:\\nSr Analyst/Account Manager/Sr Account Manager - Paid Social  \\n\\n  \\n\\nDegree:\\nBA, BBA, BBA/BMS, BBI, BCA, BCom, BCS, BDES, BE-Comp/IT, BEd, BE-Other, BFA, BFM, BIS  \\n\\n  \\n\\nEducational Level:\\nGraduate/Bachelors  \\n\\n  \\n\\nStream of Study:\\nComputer Science/IT  \\n\\n  \\n\\nIndustrial Type:\\nIT-Software/Software Services  \\n\\n  \\n\\nFunctional Area:\\nIT Software - E-Commerce / Internet Technologies  \\n\\n  \\n\\nKey Skills:\\nDCM,CM360  \\n\\n  \\n\\nJob Post Date:\\nTuesday, April 16, 2024  \\n\\n  \\n\\n  \\n\\n  \\n\\n  \\n\\n**Company Description**  \\n\\n  \\n\\n  \\n\\n  \\n\\n  \\n\\nWe create world-class solutions and services that unlock new opportunities for growth and business transformation across the entire customer journey\\n  \\n\\nOur global team of world-class agency brands delivers for you at every stage of your customer journey:\\n  \\n\\nCreative Media\\n  \\n\\nWe deliver Idea-Led Experiences, designed for the digital age, delivered at global scale.\\n  \\n\\nMedia\\n  \\n\\nWe design, create and optimise media experiences that connect people to brands  \\n\\n  \\n\\n  \\n\\n  \\n\\n  \\n\\n**Job Description**  \\n\\n  \\n\\n  \\n\\n  \\n\\n  \\n\\nAccount Manager - SEO  \\n\\n  \\n\\nExperience: 4 to 6 years  \\n\\n  \\n\\nJob Description  \\n\\nAwareness about various content marketing platforms of the Market Research Industry, and work on implementation of strategies  \\n\\nOptimize current copy on a client`s website (page titles, meta descriptions, h1s, alts, anchor text, etc.)  \\n\\nUtilize SEO (Search Engine Optimization) and keyword strategies to increase website traffic, Conduct keyword research, backlink building, guest posting, influencer outreach and use Off-Page SEO guidelines to increase web traffic  \\n\\nWrite and edit a variety of SEO friendly content including articles, blogs, buying guides, and other supportive text as per brand guidelines  \\n\\nBe responsible for Press release writing (as well as other forms of PR-media pitches, articles, etc.), Infographic creation and promotion, Slideshare creation, Video Transcriptions  \\n\\nResearch industry-related topics  \\n\\nWrite clear marketing copy to promote products/services  \\n\\nCoordinate with team to repository for various verticals  \\n\\nIdentify business needs and gaps in our content and recommend new topics  \\n\\nEnsure all-around consistency (style, fonts, images and tone)  \\n\\nProven work experience as on Off-Page SEO & Content Writing  \\n\\nDefine requirements, tasks, and resources associated to SEO strategy  \\n\\nHave superior research skills. (Keyword research & Planning, Backlinking, Guest Posting, Influencer Outreach)  \\n\\nHave a hands-on experience with basic SEO tools  \\n\\nPortfolio of published articles/blogs  \\n\\nHave superior research skills, experience doing research using multiple sources  \\n\\nFamiliarity with web publications  \\n\\nExcellent writing and editing skills in English  \\n\\n  \\n\\nQualifications  \\n\\n4 years of experience writing for a web-based audience as well as a working knowledge of search engine optimization best practices and how they apply to content marketing  \\n\\nPossess excellent verbal and written communication skills  \\n\\nWorking knowledge of SEO and how it applies to content marketing  \\n\\nBasic knowledge of HTML  \\n\\nAre creative & resourceful  \\n\\nHave extreme attention to detail  \\n\\nCan multitask and adhere to deadlines  \\n\\nHave flexibility to evolve strategies quickly & effectively  \\n\\nHave experience in Word press and Blogger (preferred)  \\n\\nTop equipped offices and ergonomic workplace',\n",
       " '**Job Summary**  \\n\\n  \\n\\n  \\n\\n  \\n\\n  \\n\\nExperience:\\n2 - 8 Years  \\n\\n  \\n\\nLocation:\\nBangalore,Chennai,Gurgaon,Pune  \\n\\n  \\n\\nDesignation:\\nSr Analyst/Account Manager/Sr Account Manager - Paid Social  \\n\\n  \\n\\nDegree:\\nBA, BBA, BBA/BMS, BBI, BCA, BCom, BCS, BDES, BE-Comp/IT, BEd, BE-Other, BFA, BFM, BIS  \\n\\n  \\n\\nEducational Level:\\nGraduate/Bachelors  \\n\\n  \\n\\nStream of Study:\\nComputer Science/IT  \\n\\n  \\n\\nIndustrial Type:\\nIT-Software/Software Services  \\n\\n  \\n\\nFunctional Area:\\nIT Software - E-Commerce / Internet Technologies  \\n\\n  \\n\\nKey Skills:\\nDCM,CM360  \\n\\n  \\n\\nJob Post Date:\\nTuesday, April 16, 2024  \\n\\n  \\n\\n  \\n\\n  \\n\\n  \\n\\n**Company Description**  \\n\\n  \\n\\n  \\n\\n  \\n\\n  \\n\\nWe create world-class solutions and services that unlock new opportunities for growth and business transformation across the entire customer journey\\n  \\n\\nOur global team of world-class agency brands delivers for you at every stage of your customer journey:\\n  \\n\\nCreative Media\\n  \\n\\nWe deliver Idea-Led Experiences, designed for the digital age, delivered at global scale.\\n  \\n\\nMedia\\n  \\n\\nWe design, create and optimise media experiences that connect people to brands  \\n\\n  \\n\\n  \\n\\n  \\n\\n  \\n\\n**Job Description**  \\n\\n  \\n\\n  \\n\\n  \\n\\n  \\n\\nAccount Manager - SEO  \\n\\n  \\n\\nExperience: 4 to 6 years  \\n\\n  \\n\\nJob Description  \\n\\nAwareness about various content marketing platforms of the Market Research Industry, and work on implementation of strategies  \\n\\nOptimize current copy on a client`s website (page titles, meta descriptions, h1s, alts, anchor text, etc.)  \\n\\nUtilize SEO (Search Engine Optimization) and keyword strategies to increase website traffic, Conduct keyword research, backlink building, guest posting, influencer outreach and use Off-Page SEO guidelines to increase web traffic  \\n\\nWrite and edit a variety of SEO friendly content including articles, blogs, buying guides, and other supportive text as per brand guidelines  \\n\\nBe responsible for Press release writing (as well as other forms of PR-media pitches, articles, etc.), Infographic creation and promotion, Slideshare creation, Video Transcriptions  \\n\\nResearch industry-related topics  \\n\\nWrite clear marketing copy to promote products/services  \\n\\nCoordinate with team to repository for various verticals  \\n\\nIdentify business needs and gaps in our content and recommend new topics  \\n\\nEnsure all-around consistency (style, fonts, images and tone)  \\n\\nProven work experience as on Off-Page SEO & Content Writing  \\n\\nDefine requirements, tasks, and resources associated to SEO strategy  \\n\\nHave superior research skills. (Keyword research & Planning, Backlinking, Guest Posting, Influencer Outreach)  \\n\\nHave a hands-on experience with basic SEO tools  \\n\\nPortfolio of published articles/blogs  \\n\\nHave superior research skills, experience doing research using multiple sources  \\n\\nFamiliarity with web publications  \\n\\nExcellent writing and editing skills in English  \\n\\n  \\n\\nQualifications  \\n\\n4 years of experience writing for a web-based audience as well as a working knowledge of search engine optimization best practices and how they apply to content marketing  \\n\\nPossess excellent verbal and written communication skills  \\n\\nWorking knowledge of SEO and how it applies to content marketing  \\n\\nBasic knowledge of HTML  \\n\\nAre creative & resourceful  \\n\\nHave extreme attention to detail  \\n\\nCan multitask and adhere to deadlines  \\n\\nHave flexibility to evolve strategies quickly & effectively  \\n\\nHave experience in Word press and Blogger (preferred)  \\n\\nTop equipped offices and ergonomic workplace',\n",
       " \"As an employee at Thomson Reuters, you will play a role in shaping and leading the global knowledge economy. Our technology drives global markets and helps professionals around the world make decisions that matter. As the world’s leading provider of intelligent information, we want your unique perspective to create the solutions that advance our business—and your career.\\nWe specialize in designing and implementing solutions and infrastructure for product analytics implementations, vendor engagements, and technical customizations. Leveraging years of experience at TR, we bring knowledge in data engineering, software development, and analytics to create scalable solutions, collaborate with stakeholders, and drive data-informed decision-making.\\n\\n**About the Role**  \\n\\nIn this opportunity as Senior Software Engineer, you will:\\n\\n* The Legal & Research Technology in Bangalore provides systems development and support for the content processing needs of WestLaw. The group oversees and executes a wide range of project types, ranging from cost-saving infrastructure to revenue-driving product development initiatives.\\n* We are looking for a highly motivated, innovative, and detailed oriented individual who will make an impact on a large-scale, enterprise-wide initiative to serve as a Technical Lead on this team.\\n* The key area of focus for this position is serving as a Sr Software Engineer for a multi-year project to deliver new and re-engineered systems with excellent proficiency in Java, J2EE\\\\ Full-stack development.\\n* The ideal candidate will possess strong organization, communication, and problem-solving skills. They must also possess effective oral and written communication skills, as well as strong interpersonal skills.\\n* Develop efficient and high-quality code while meeting product release deadlines.\\n* Contribute to the design discussions with architects and business providing insights into approaches and solutions.\\n* Translate architectural vision into the design and delivery of a functioning system.\\n* Ensure adherence to coding, design, and architectural standards.\\n* Develop deployment and rollout plans as needed.\\n* Prepare time estimates for projects and software design plans!\\n* Lead technical design discussions with the team and participate in the code reviews\\n* Involved in design all test cases to provide support to all systems and perform unit tests.\\n* Contribute to grooming the team technically and guide peers and the team.\\n* Responsible for working with the project managers in planning the sprints, providing feedback, and communicating any obstacles.\\n* Individuals must be proactive, self-motivated with the ability to prioritize multiple project tasks.\\n* Respond quickly to support issues and follow up till resolution.\\n* Conduct thorough troubleshooting and provide a quick resolution to production problems!\\n* Technical knowledge should include hands-on design and development of enterprise-class applications including design analysis, and implementation, and testing along with experience with troubleshooting and maintenance activities. Must be able to Effectively balance and prioritize multiple projects and tasks concurrently.\\n\\n **About You**  \\n\\nYou're a fit for the role of Senior Software Engineer if your background includes:\\n\\n* Candidates should possess 5+ years of background in software development with Java and J2EE technologies.\\n* 3 + years of experience in OOA and OO Design and Development using Design Patterns\\n* Understanding of iterative, use case driven development.\\n* Preferred or Desired Qualifications\\n* Core Java (Java 8), J2EE, App Server (WebSphere/Tomcat), Oracle/SQL\\n* Experience with frameworks such as Spring MVC, Spring Boot, JPA/Hibernate, Restful Web Services\\n* Experience with UI technologies such as JavaScript, AngularJS, ReactJS will be a big plus.\\n* Application of Object-Oriented Analysis and Design (OOAD) techniques and implementation using Design Patterns.\\n* Knowledge to create unit-level tests using Junit/Mockito and experience with Shell scripting.\\n* Experience with unit testing frameworks such as Junit/Mockito and continuous integration testing with Cruise Control/Junit\\n* Experience with Build tools such as Ant, IVY, Maven, Gradle, etc.\\n* Experience in the extensive use of source control tools such as GIT, TFS, etc.\\n* Ability to interact effectively within and across other teams.\\n* Strong technical acumen and communications skills\\n* Background in Test Driven Development, pair programming, and other agile/XP methodologies preferred.\\n* Candidates should also possess:\\n* Skills that demonstrate excellence in a dynamic fast-paced environment with a high degree of flexibility and accountability.\\n* A history of meeting aggressive deadlines in uncertain environments and maintaining strong customer relationships.\\n* Strong interpersonal and communication skills including both oral and written proficiency.\\n\\n**What's in it For You?**  \\n\\n  \\n\\nYou will join our inclusive culture of world-class talent, where we are committed to your personal and professional growth through:\\n\\n**Hybrid Work Model:** We’ve adopted a flexible hybrid working environment (2-3 days a week in the office depending on the role) for our office-based roles while delivering a seamless experience that is digitally and physically connected.\\n\\n**Wellbeing:** Comprehensive benefit plans; flexible and supportive benefits for work-life balance: flexible vacation, two company-wide Mental Health Days Off; work from another location for up to a total of 8 weeks in a year, 4 of those weeks can be out of the country and the remaining in the country, Headspace app subscription; retirement, savings, tuition reimbursement, and employee incentive programs; resources for mental, physical, and financial wellbeing.\\n\\n**Culture:** Globally recognized and award-winning reputation for equality, diversity and inclusion, flexibility, work-life balance, and more.\\n\\n**Learning & Development:** LinkedIn Learning access; internal Talent Marketplace with opportunities to work on projects cross-company; Ten Thousand Coffees Thomson Reuters café networking.\\n\\n**Social Impact:** Ten employee-driven Business Resource Groups; two paid volunteer days annually; Environmental, Social and Governance (ESG) initiatives for local and global impact.\\n\\n**Purpose Driven Work:** We have a superpower that we’ve never talked about with as much pride as we should – we are one of the only companies on the planet that helps its customers pursue justice, truth and transparency. Together, with the professionals and institutions we serve, we help uphold the rule of law, turn the wheels of commerce, catch bad actors, report the facts, and provide trusted, unbiased information to people all over the world.\\n\\n*Optional* - compensation. Compensation may only be relevant for certain positions and is recommended for use primarily by Sales:\\n\\n **Compensation** Base salary and a variable compensation that is directly related to your success.\\n\\n\\n#LI-GA1\\n\\n  \\n\\nDo you want to be part of a team helping re-invent the way knowledge professionals work? How about a team that works every day to create a more transparent, just and inclusive future? At Thomson Reuters, we’ve been doing just that for almost 160 years. Our industry-leading products and services include highly specialized information-enabled software and tools for legal, tax, accounting and compliance professionals combined with the world’s most global news services – Reuters. We help these professionals do their jobs better, creating more time for them to focus on the things that matter most: advising, advocating, negotiating, governing and informing.\\n\\n\\nWe are powered by the talents of 26,000 employees across more than 70 countries, where everyone has a chance to contribute and grow professionally in flexible work environments that celebrate diversity and inclusion. At a time when objectivity, accuracy, fairness and transparency are under attack, we consider it our duty to pursue them. Sound exciting? Join us and help shape the industries that move society forward.\\n\\n**Accessibility**\\n\\n\\nAs a global business, we rely on diversity of culture and thought to deliver on our goals. To ensure we can do that, we seek talented, qualified employees in all our operations around the world regardless of race, color, sex/gender, including pregnancy, gender identity and expression, national origin, religion, sexual orientation, disability, age, marital status, citizen status, veteran status, or any other protected classification under applicable law. Thomson Reuters is proud to be an Equal Employment Opportunity/Affirmative Action Employer providing a drug-free workplace.\\n\\n\\nWe also make reasonable accommodations for qualified individuals with disabilities and for sincerely held religious beliefs in accordance with applicable law.\\n\\n***Protect yourself from fraudulent job postings*** ***click here*** ***to know more.***\\n\\n\\nMore information about Thomson Reuters can be found on https://thomsonreuters.com.\",\n",
       " \"**About Us:**\\n\\n\\nThe Scalers is an Indo-French company building world-class software development teams in Bangalore for companies worldwide.\\n\\n\\nWe help businesses scale without limits by leveraging elite global talent, increasing development capacity and enabling faster delivery. Put simply, we provide innovation-ready businesses with the smarter way to go offshore.\\n\\n\\nWe custom build teams of exceptional engineers tailored to the exact technical requirements needed by our partners to deliver their digital and development strategies.\\n\\n\\nWe offer excellent international career opportunities and the ability to influence the direction and strategy of the organisation going forward. With operations in Dublin, Bangalore, Krakow and Bucharest — this is an exciting opportunity to join a fast-paced company with highly ambitious plans for the coming years.\\n\\n**Job Description:**\\n\\n\\nWe are seeking a motivated and skilled Talent Acquisition Specialist to join our team. As a Talent Acquisition Specialist, you will play a pivotal role in attracting, sourcing and hiring top talent to support our company's growth and objectives.\\n\\n**Responsibilities:**\\n\\n* Utilize various channels and platforms to proactively source, attract and engage with potential candidates.\\n* Conduct initial screenings and assessments to evaluate candidates' qualifications, skills and cultural fit.\\n* Schedule and coordinate interviews with candidates, hiring managers and other stakeholders.\\n* Contribute to employer branding efforts to enhance the company's reputation as an employer of choice.\\n* Build and maintain a pipeline of qualified candidates for current and future hiring needs.\\n* Ensure a positive candidate experience throughout the recruitment process, from initial contact to onboarding.\\n* Maintain accurate and up-to-date candidate records in the applicant tracking system (ATS) and other relevant databases.\\n* Ensure compliance with all applicable laws and regulations related to recruitment and hiring practices.\\n\\n**Requirements:**\\n\\n* Bachelor's degree in Human Resources, Business Administration, or a related field.\\n* 1+ years of experience in talent acquisition, recruitment, or a related field.\\n* Proven ability to source, attract and engage with candidates through various channels and platforms.\\n* Strong communication and interpersonal skills, with the ability to effectively communicate with candidates and collaborate with internal stakeholders.\\n* Detail-oriented with excellent organizational and time management skills.\\n* Ability to thrive in a fast-paced environment and manage multiple priorities simultaneously.\\n* Proficiency in applicant tracking systems (ATS) and other relevant recruitment tools and technologies.\\n\\n**If you are passionate about talent acquisition and thrive in a dynamic, fast-paced environment, we encourage you to apply for this exciting opportunity and become part of our team!**\\n\\n\\n  \\n#### **Stable and Growing**\\n\\n\\n**The Scalers** is a leader in its industry, with multiple offices across Europe and Asia.\\n\\n\\nWorking for The Scalers offers you a stable and rewarding career. Our international team in Bengaluru (Indian, French, American) and our Chief Happiness Officer will ensure we have a tremendous experience together!\\n#### **Neat Perks**\\n\\n\\n* Comprehensive **health insurance**\\n* A MacBook Pro or Lenovo T490\\n* **Business Trips** worldwide\\n* **Flexible timings**\\n* **Fun activities** round the year\\n* Training & development\\n\\nFreshly roasted coffee* ️\\n#### **Enhance Your Skills**\\n\\n\\n\\nAt The Scalers we use the latest technologies and will always welcome your ideas to make our product better.\\n\\n\\nOur **training and development programs** make sure you always stay ahead of the curve and enhance your profile!\",\n",
       " \"**About Us:**\\n\\n\\nThe Scalers is an Indo-French company building world-class software development teams in Bangalore for companies worldwide.\\n\\n\\nWe help businesses scale without limits by leveraging elite global talent, increasing development capacity and enabling faster delivery. Put simply, we provide innovation-ready businesses with the smarter way to go offshore.\\n\\n\\nWe custom build teams of exceptional engineers tailored to the exact technical requirements needed by our partners to deliver their digital and development strategies.\\n\\n\\nWe offer excellent international career opportunities and the ability to influence the direction and strategy of the organisation going forward. With operations in Dublin, Bangalore, Krakow and Bucharest — this is an exciting opportunity to join a fast-paced company with highly ambitious plans for the coming years.\\n\\n**Job Description:**\\n\\n\\nWe are seeking a motivated and skilled Talent Acquisition Specialist to join our team. As a Talent Acquisition Specialist, you will play a pivotal role in attracting, sourcing and hiring top talent to support our company's growth and objectives.\\n\\n**Responsibilities:**\\n\\n* Utilize various channels and platforms to proactively source, attract and engage with potential candidates.\\n* Conduct initial screenings and assessments to evaluate candidates' qualifications, skills and cultural fit.\\n* Schedule and coordinate interviews with candidates, hiring managers and other stakeholders.\\n* Contribute to employer branding efforts to enhance the company's reputation as an employer of choice.\\n* Build and maintain a pipeline of qualified candidates for current and future hiring needs.\\n* Ensure a positive candidate experience throughout the recruitment process, from initial contact to onboarding.\\n* Maintain accurate and up-to-date candidate records in the applicant tracking system (ATS) and other relevant databases.\\n* Ensure compliance with all applicable laws and regulations related to recruitment and hiring practices.\\n\\n**Requirements:**\\n\\n* Bachelor's degree in Human Resources, Business Administration, or a related field.\\n* 1+ years of experience in talent acquisition, recruitment, or a related field.\\n* Proven ability to source, attract and engage with candidates through various channels and platforms.\\n* Strong communication and interpersonal skills, with the ability to effectively communicate with candidates and collaborate with internal stakeholders.\\n* Detail-oriented with excellent organizational and time management skills.\\n* Ability to thrive in a fast-paced environment and manage multiple priorities simultaneously.\\n* Proficiency in applicant tracking systems (ATS) and other relevant recruitment tools and technologies.\\n\\n**If you are passionate about talent acquisition and thrive in a dynamic, fast-paced environment, we encourage you to apply for this exciting opportunity and become part of our team!**\\n\\n\\n  \\n#### **Stable and Growing**\\n\\n\\n**The Scalers** is a leader in its industry, with multiple offices across Europe and Asia.\\n\\n\\nWorking for The Scalers offers you a stable and rewarding career. Our international team in Bengaluru (Indian, French, American) and our Chief Happiness Officer will ensure we have a tremendous experience together!\\n#### **Neat Perks**\\n\\n\\n* Comprehensive **health insurance**\\n* A MacBook Pro or Lenovo T490\\n* **Business Trips** worldwide\\n* **Flexible timings**\\n* **Fun activities** round the year\\n* Training & development\\n\\nFreshly roasted coffee* ️\\n#### **Enhance Your Skills**\\n\\n\\n\\nAt The Scalers we use the latest technologies and will always welcome your ideas to make our product better.\\n\\n\\nOur **training and development programs** make sure you always stay ahead of the curve and enhance your profile!\",\n",
       " \"At EY, you’ll have the chance to build a career as unique as you are, with the global scale, support, inclusive culture and technology to become the best version of you. And we’re counting on your unique voice and perspective to help EY become even better, too. Join us and build an exceptional experience for yourself, and a better working world for all.\\n\\n **Career Family-EY-DET-FS**\\n\\n**Role Type-Cloud Microservices Engineer**\\n\\n**Role Rank-Cloud Microservices Manager**\\n\\n **The opportunity**\\n\\n\\nAs part of our EY-DET-FS team, you will help clients develop their next generation digital transformation strategies, solutioning, product development also cloud migration.\\n\\n  \\n\\n\\n\\nWe’re looking for Senior with expertise to build the highly available and heavy traffic fault tolerant applications using Java, Spring and Spring Boot technologies. You'll get to work with cutting-edge technologies like Kubernetes, Docker, and AWS/AZURE/GCP and will help design for banking, financial services and insurance sector. This is a fantastic opportunity to be part of a leading firm whilst being instrumental in the growth of a new service offering.\\n\\n **Your key responsibilities**\\n\\n* Strong experience in architecting and applying process orchestration and workflow automation principles to create business flows using Camunda.\\n* Experience on BPMN 2.0, Camunda process engine, Zeebe, Camunda Operate/Cockpit, Camunda DMN and Camunda Tasklists are mandatory.\\n* Strong experience on microservice architecture and SpringBoot application development to trigger Camunda workflows.\\n* Knowledge of applying object-oriented and functional programming styles to real-world software engineering problems.\\n* Hands on experience in Cloud API and Microservices design and development using any Cloud Platform.\\n* Real time experience in assessing existing large scale IT environments towards migration to Cloud.\\n* Proven experience of Designing and building Cloud solution architecture,\\n* Hands on experience in App Modernization and API development.\\n* Knowledge of a Container Technology such as Docker, Operating system like Linux and relational database like MySQL.\\n* Leveraging deep understanding and adoption of Agile software delivery techniques and technologies including Continuous Integration & Continuous Delivery (CI/CD).\\n* An appetite to learn new technologies and a drive for continual improvement.\\n* A keen interest in technology and self-improvement. Examples include having an active Github account or completion of relevant Coursera courses.\\n* Contributions to the technical community, either through blogs, internal workshops, meetups or conferences.\\n* Passion to build software products.\\n\\n **Managerial Responsibilities**:\\n\\n* Must ensure teams follow the correct procedures, policies and documentation requirements across project phases\\n* Task allocation and performance evaluation of team members\\n* Project scheduling and resource management\\n* Planning, budgeting and reporting on projects\\n* Make presentations on project status, present weekly, monthly and annual reports to senior management\\n* Communicate with client teams and gather requirements, conduct regular team meetings and track project progress\\n* Interview candidates and hire resources\\n* Provide an efficient working atmosphere to project teams and ensure objectives are met within stipulated time\\n* A background of working with development best practices\\n* A willingness to be flexible in responding to issues as they occur and the ability to identify product/deployment improvements to mitigate future occurrences\\n* Self-motivated, Strong communication and team building skills\\n* Work iteratively in a team with continuous collaboration\\n\\n **People Responsibilities**:\\n\\n* Foster teamwork and lead by example\\n* Participating in the organization-wide people initiatives\\n* Excellent written and oral communication skills; writing, publishing and conference-level presentation skills a plus\\n\\n **Skills and attributes for success**\\n\\n* A background of working with development best practices.\\n* A willingness to be flexible in responding to issues as they occur and the ability to identify product/deployment improvements to mitigate future occurrences.\\n* Self-motivated, Strong communication and team building skills.\\n* Work iteratively in a team with continuous collaboration.\\n* Handling client conversation and faster decision making.\\n\\n **To qualify for the role, you must have**\\n\\n* BTech/MTech OR Master’s in Computer Applications\\n* 8-10 years of sound industry experience.\\n* Mandatory skills:\\n\\t+ Java, J2EE, Java 17/ Java 21\\n\\t+ Camunda 7 or 8 (Tasklist, DMN and Process engine is must)\\n\\t+ BPMN 2.0 modelling\\n\\t+ Eclipse IDE, Spring boot, Spring Cloud\\n\\t+ Cloud Experience (AWS/AZURE/GCP/PCF)\\n\\t+ Docker, Swarm, Kubernetes\\n\\t+ REST/SOAP based API development\\n\\t+ Maven/Gradle\\n\\t+ Junit, Mockito\\n\\t+ ORM, Hibernate, MySQL\\n\\t+ XML, JSON\\n\\t+ JMS\\n\\t+ GIT, SVN or any Code repository tools\\n\\t+ SWAGGER 2.0\\n\\t+ OAUTH, SAML\\n\\t+ Design Patterns\\n\\t+ Caching (Redis/Memcache)\\n\\t+ NoSQL database (MongoDB/Cassandra/CouchDB)\\n\\t+ Postman/SoapUI\\n\\n **Ideally, you’ll also have**\\n\\n* Kafka\\n* Splunk or ELK\\n* Experience working on CMMI / Agile / SAFE methodologies\\n* Oracle, IBM DB2, SQL Server, MySQL\\n\\n **What we look for**\\n\\n* A Team of people with technical consulting and architecting experience and enthusiasm to learn new things in this fast-moving environment\\n* An opportunity to be a part of market-leading, multi-disciplinary team of 500 + professionals, in the only integrated global digital transformation business worldwide.\\n* Opportunities to work with EY DET-FS practices globally with leading businesses across a range of industries\\n\\n **What we offer**\\n\\n\\nEY Global Delivery Services (GDS) is a dynamic and truly global delivery network. We work across six locations – Argentina, China, India, the Philippines, Poland and the UK – and with teams from all EY service lines, geographies and sectors, playing a vital role in the delivery of the EY growth strategy. From accountants to coders to advisory consultants, we offer a wide variety of fulfilling career opportunities that span all business disciplines. In GDS, you will collaborate with EY teams on exciting projects and work with well-known brands from across the globe. We’ll introduce you to an ever-expanding ecosystem of people, learning, skills and insights that will stay with you throughout your career.\\n\\n\\n* **Continuous learning**: You’ll develop the mindset and skills to navigate whatever comes next.\\n* **Success as defined by you**: We’ll provide the tools and flexibility, so you can make a meaningful impact, your way.\\n* **Transformative leadership**: We’ll give you the insights, coaching and confidence to be the leader the world needs.\\n* **Diverse and inclusive culture**: You’ll be embraced for who you are and empowered to use your voice to help others find theirs.\\n\\n **EY | Building a better working world**\\n\\n  \\n\\n  \\n\\nEY exists to build a better working world, helping to create long-term value for clients, people and society and build trust in the capital markets.\\n\\n  \\n\\n  \\n\\nEnabled by data and technology, diverse EY teams in over 150 countries provide trust through assurance and help clients grow, transform and operate.\\n\\n  \\n\\n  \\n\\nWorking across assurance, consulting, law, strategy, tax and transactions, EY teams ask better questions to find new answers for the complex issues facing our world today.\",\n",
       " \"Req ID\\n4368\\nLocation(s)\\nBangalore, India;\\nWork arrangement(s)\\nHybrid (works from home and New Relic office throughout the week), Office (works primarily in a New Relic office)\\nYour opportunity\\nNew Relic is the industry’s largest and most comprehensive SaaS-based observability platform built to create more perfect software. We are passionate about providing solutions and tools that help development and operations teams supervise, troubleshoot, and optimize the performance of their applications and infrastructure.  \\n\\nIf you love the web, love open source, and want to contribute to one of the largest and fastest growing observability companies in the market, we want to hear from you: New Relic is looking for a Growth Web Engineer to join our web team.  \\n\\n\\nWhat you'll do\\nThe web team’s goal is to create phenomenal user experiences that inform and excite our visitors and ultimately convert them to users of our product. You’ll help build our brand and increase our user base by contributing in the following ways:* Drive acquisition, onboarding, monetization, organic growth, and retention across New Relic’s web properties.\\n* Improve our Drupal architecture and automated testing - our site is live on Drupal 10, and feature velocity is increasing. You’ll ensure it is ready to scale to our needs.\\n* Participate in the design process, offering technical feedback and suggestions to the creative team, and helping us improve the process along the way.\\n* Formulate efficient content models, security models, workflows, and templates, and develop Drupal components and modules.\\n* Contribute to all of the technical aspects of New Relic's public web properties to improve customer experience and content authoring.\\n* Improve the reliability and speed to delivery of new features and iterations via A/B testing, operational insights, and deep understanding of the data behind user behavior on the site.\\n* Lead and contribute to the architecture and implementation decisions within the team.\\n* Identify blockers and work across teams to resolve issues.\\n\\nThis role requires\\n* Bachelor's or 4 years professional work experience\\n* 4+ years of full-stack development experience front end and back-end (i.e. HTML, CSS, Javascript/React, Node.js, MVC, MySQL, NoSQL, RESTful APIs)\\n* Strong expertise in Drupal 9/10 development.\\n* Solid understanding of PHP, Symfony, Twig, CSS, Git and JavaScript.\\n* Comfortable in a fast-paced environment focused on delivering production code at a regular cadence using Agile techniques, tools and methodologies.\\n* Having a collaborative work style that includes colleagues in important decisions and leads to shared code ownership.\\n* Fluency in English.\\n\\nBonus points if you have\\n * Familiarity with Figma, Tailwind CSS, Eleventy, and/or Svelte JS.\\n* Familiarity working at enterprise scale across several tech stacks and partner teams.\\n* Experience in technical mentorship and support for helping level-up the skills of colleagues on the team.\\n\\nFostering a diverse, welcoming and inclusive environment is important to us. We work hard to make everyone feel comfortable bringing their best, most authentic selves to work every day. We celebrate our talented Relics’ different backgrounds and abilities, and recognize the different paths they took to reach us – including nontraditional ones. Their experiences and perspectives inspire us to make our products and company the best they can be. We’re looking for people who feel connected to our mission and values, not just candidates who check off all the boxes.\\n\\n\\nIf you require a reasonable accommodation to complete any part of the application or recruiting process, please visit https://newrelic.avature.net/accommodations to submit your request.\\n\\n **Our hiring process**\\n  \\n\\n  \\n\\nPlease note that visa sponsorship is not available for this position.\\n\\n\\nIn compliance with applicable law, all persons hired will be required to verify identity and eligibility to work and to complete employment eligibility verification. Note: Our stewardship of the data of thousands of customers’ means that a criminal background check is required to join New Relic.\\n\\n\\nHeadhunters and recruitment agencies may not submit resumes/CVs through this website or directly to managers. New Relic does not accept unsolicited headhunter and agency resumes, and will not pay fees to any third-party agency or company that does not have a signed agreement with New Relic.\\n\\n  \\n\\nNew Relic is proud to be an equal opportunity employer. We foster a diverse, equitable, and inclusive environment, free from all types of discrimination, so our Relics can thrive. We hire people with different backgrounds, experiences, abilities and perspectives.\\n\\n\\nCandidates are evaluated based on qualifications, regardless of race, religion, ethnicity, national origin, sex, sexual orientation, gender expression or identity, age, disability, neurodiversity, veteran or marital status, political viewpoint, or other legally protected characteristics.\\n\\n  \\n\\nReview our Applicant Privacy Notice at https://newrelic.com/termsandconditions/applicant-privacy-policy.\",\n",
       " \"Req ID\\n4368\\nLocation(s)\\nBangalore, India;\\nWork arrangement(s)\\nHybrid (works from home and New Relic office throughout the week), Office (works primarily in a New Relic office)\\nYour opportunity\\nNew Relic is the industry’s largest and most comprehensive SaaS-based observability platform built to create more perfect software. We are passionate about providing solutions and tools that help development and operations teams supervise, troubleshoot, and optimize the performance of their applications and infrastructure.  \\n\\nIf you love the web, love open source, and want to contribute to one of the largest and fastest growing observability companies in the market, we want to hear from you: New Relic is looking for a Growth Web Engineer to join our web team.  \\n\\n\\nWhat you'll do\\nThe web team’s goal is to create phenomenal user experiences that inform and excite our visitors and ultimately convert them to users of our product. You’ll help build our brand and increase our user base by contributing in the following ways:* Drive acquisition, onboarding, monetization, organic growth, and retention across New Relic’s web properties.\\n* Improve our Drupal architecture and automated testing - our site is live on Drupal 10, and feature velocity is increasing. You’ll ensure it is ready to scale to our needs.\\n* Participate in the design process, offering technical feedback and suggestions to the creative team, and helping us improve the process along the way.\\n* Formulate efficient content models, security models, workflows, and templates, and develop Drupal components and modules.\\n* Contribute to all of the technical aspects of New Relic's public web properties to improve customer experience and content authoring.\\n* Improve the reliability and speed to delivery of new features and iterations via A/B testing, operational insights, and deep understanding of the data behind user behavior on the site.\\n* Lead and contribute to the architecture and implementation decisions within the team.\\n* Identify blockers and work across teams to resolve issues.\\n\\nThis role requires\\n* Bachelor's or 4 years professional work experience\\n* 4+ years of full-stack development experience front end and back-end (i.e. HTML, CSS, Javascript/React, Node.js, MVC, MySQL, NoSQL, RESTful APIs)\\n* Strong expertise in Drupal 9/10 development.\\n* Solid understanding of PHP, Symfony, Twig, CSS, Git and JavaScript.\\n* Comfortable in a fast-paced environment focused on delivering production code at a regular cadence using Agile techniques, tools and methodologies.\\n* Having a collaborative work style that includes colleagues in important decisions and leads to shared code ownership.\\n* Fluency in English.\\n\\nBonus points if you have\\n * Familiarity with Figma, Tailwind CSS, Eleventy, and/or Svelte JS.\\n* Familiarity working at enterprise scale across several tech stacks and partner teams.\\n* Experience in technical mentorship and support for helping level-up the skills of colleagues on the team.\\n\\nFostering a diverse, welcoming and inclusive environment is important to us. We work hard to make everyone feel comfortable bringing their best, most authentic selves to work every day. We celebrate our talented Relics’ different backgrounds and abilities, and recognize the different paths they took to reach us – including nontraditional ones. Their experiences and perspectives inspire us to make our products and company the best they can be. We’re looking for people who feel connected to our mission and values, not just candidates who check off all the boxes.\\n\\n\\nIf you require a reasonable accommodation to complete any part of the application or recruiting process, please visit https://newrelic.avature.net/accommodations to submit your request.\\n\\n **Our hiring process**\\n  \\n\\n  \\n\\nPlease note that visa sponsorship is not available for this position.\\n\\n\\nIn compliance with applicable law, all persons hired will be required to verify identity and eligibility to work and to complete employment eligibility verification. Note: Our stewardship of the data of thousands of customers’ means that a criminal background check is required to join New Relic.\\n\\n\\nHeadhunters and recruitment agencies may not submit resumes/CVs through this website or directly to managers. New Relic does not accept unsolicited headhunter and agency resumes, and will not pay fees to any third-party agency or company that does not have a signed agreement with New Relic.\\n\\n  \\n\\nNew Relic is proud to be an equal opportunity employer. We foster a diverse, equitable, and inclusive environment, free from all types of discrimination, so our Relics can thrive. We hire people with different backgrounds, experiences, abilities and perspectives.\\n\\n\\nCandidates are evaluated based on qualifications, regardless of race, religion, ethnicity, national origin, sex, sexual orientation, gender expression or identity, age, disability, neurodiversity, veteran or marital status, political viewpoint, or other legally protected characteristics.\\n\\n  \\n\\nReview our Applicant Privacy Notice at https://newrelic.com/termsandconditions/applicant-privacy-policy.\",\n",
       " 'We are looking for talented Business Development Associate for our company. The goal is to reach out to the market and cultivate the customers interest in our products and services in ways that strengthen our reputation and facilitate our continuous growth.\\n\\n**Roles** **&\\\\*** Responsibilities\\\\*\\n\\n. Build & maintain relationships with customers\\n\\n. Build & maintain professional network with clients\\n\\n. Cold calling potential customers & selling the company products.\\n\\n. Working on monthly sales & revenue targets as set by the sales manager\\n\\n. Maintain follow up & generating sales\\n\\n. Helping students & parents to understand the online learning\\n\\n**Qualification.**\\n\\n. Bachelor‘s degree or equivalent\\n\\n. Excellent written & Verbal communication\\n\\nJob Type: Full-time\\n\\nPay: ₹10,000.00 - ₹12,000.00 per month\\n\\nSchedule:\\n\\n* Day shift\\n\\nLanguage:\\n\\n* Malayalam, English (Required)\\n\\nLocation:\\n\\n* Kannur, 670012 (Preferred)\\n\\nWork Location: In person',\n",
       " \"Req ID\\n4367\\nLocation(s)\\nBangalore, India;\\nWork arrangement(s)\\nHybrid (works from home and New Relic office throughout the week), Office (works primarily in a New Relic office)\\nYour opportunity\\nNew Relic is the industry’s largest and most comprehensive SaaS-based observability platform built to create more perfect software. We are passionate about providing solutions and tools that help development and operations teams supervise, troubleshoot, and optimize the performance of their applications and infrastructure.  \\n\\nIf you love the web, love open source, and want to contribute to one of the largest and fastest growing observability companies in the market, we want to hear from you: New Relic is looking for a Senior Growth Web Engineer to join our web team.  \\n\\n\\nWhat you'll do\\nThe web team’s goal is to create phenomenal user experiences that inform and excite our visitors and ultimately convert them to users of our product. You’ll help build our brand and increase our user base by contributing in the following ways:* Drive acquisition, onboarding, monetization, organic growth, and retention across New Relic’s web properties.\\n* Improve our Drupal architecture and automated testing - our site is live on Drupal 10, and feature velocity is increasing. You’ll ensure it is ready to scale to our needs.\\n* Participate in the design process, offering technical feedback and suggestions to the creative team, and helping us improve the process along the way.\\n* Formulate efficient content models, security models, workflows, and templates, and develop Drupal components and modules.\\n* Contribute to all of the technical aspects of New Relic's public web properties to improve customer experience and content authoring.\\n* Improve the reliability and speed to delivery of new features and iterations via A/B testing, operational insights, and deep understanding of the data behind user behavior on the site.\\n* Lead and contribute to the architecture and implementation decisions within the team.\\n* Identify blockers and work across teams to resolve issues.\\n  \\n\\nThis role requires\\n* Bachelor's or 6 years professional work experience\\n* 6+ years of full-stack development experience front end and back-end (i.e. HTML, CSS, Javascript/React, Node.js, MVC, MySQL, NoSQL, RESTful APIs)\\n* Strong expertise in Drupal 9/10 development.\\n* Solid understanding of PHP, Symfony, Twig, CSS, Git and JavaScript.\\n* Comfortable in a fast-paced environment focused on delivering production code at a regular cadence using Agile techniques, tools and methodologies.\\n* Having a collaborative work style that includes colleagues in important decisions and leads to shared code ownership.\\n* Fluency in English.\\n\\nBonus points if you have\\n * Familiarity with Figma, Tailwind CSS, Eleventy, and/or Svelte JS.\\n* Familiarity working at enterprise scale across several tech stacks and partner teams.\\n* Experience in technical mentorship and support for helping level-up the skills of colleagues on the team.\\n\\nFostering a diverse, welcoming and inclusive environment is important to us. We work hard to make everyone feel comfortable bringing their best, most authentic selves to work every day. We celebrate our talented Relics’ different backgrounds and abilities, and recognize the different paths they took to reach us – including nontraditional ones. Their experiences and perspectives inspire us to make our products and company the best they can be. We’re looking for people who feel connected to our mission and values, not just candidates who check off all the boxes.\\n\\n\\nIf you require a reasonable accommodation to complete any part of the application or recruiting process, please visit https://newrelic.avature.net/accommodations to submit your request.\\n\\n **Our hiring process**\\n  \\n\\n  \\n\\nPlease note that visa sponsorship is not available for this position.\\n\\n\\nIn compliance with applicable law, all persons hired will be required to verify identity and eligibility to work and to complete employment eligibility verification. Note: Our stewardship of the data of thousands of customers’ means that a criminal background check is required to join New Relic.\\n\\n\\nHeadhunters and recruitment agencies may not submit resumes/CVs through this website or directly to managers. New Relic does not accept unsolicited headhunter and agency resumes, and will not pay fees to any third-party agency or company that does not have a signed agreement with New Relic.\\n\\n  \\n\\nNew Relic is proud to be an equal opportunity employer. We foster a diverse, equitable, and inclusive environment, free from all types of discrimination, so our Relics can thrive. We hire people with different backgrounds, experiences, abilities and perspectives.\\n\\n\\nCandidates are evaluated based on qualifications, regardless of race, religion, ethnicity, national origin, sex, sexual orientation, gender expression or identity, age, disability, neurodiversity, veteran or marital status, political viewpoint, or other legally protected characteristics.\\n\\n  \\n\\nReview our Applicant Privacy Notice at https://newrelic.com/termsandconditions/applicant-privacy-policy.\",\n",
       " '**COMPANY PROFILE**  \\nAccrete Globus Technology is an India-based SAAS-product company that is involved in the Development and Marketing of 6Orbit - A Cloud-based process automation tool. The company operates in the Indian domestic market and offers an alternative to traditional ERP tools.\\n\\nCompany URL: http://accreteglobus.com/  \\nOur Product : 6Orbit (http://www.sixorbit.com/)\\n\\nEXPERIENCE : 06 months- 3 years experience in any sales industry.\\n\\nLocation:\\n\\nBangalore-3\\n\\nDelhi-3\\n\\nHyderabad- 3\\n\\nSalary: As mentioned in the job posting +incentives\\n\\n**PURPOSE OF JOB**  \\nTo maximize revenue growth for the company by achieving sales targets of its IT products/services and mining new business opportunities with existing and new clients.\\n\\n**KEY ROLES AND RESPONSIBILITIES;**\\n\\nWe are actively looking for people having experience in the following:  \\n1. Has experience in Lead Generation.  \\n2. Has acquired some experience in Sales.  \\n3. Can perform IT market research.  \\n4. Can come up with business development strategies to maximize Sales.  \\n5. Can build client relationships, Client Retention.  \\n6. Can identify new business opportunities.  \\n7. Ability to multitask and manage multiple projects at once.  \\n8. Is Willing to travel (within city & outside city)  \\n9. Prepare reports and providing feedback regularly to the Reporting Manager.\\n\\n**Required Experience and Qualifications and skills:**\\n\\n**PERSON SPECIFICATION**  \\n**Knowledge, Skills, Experience:**  \\n1. Minimum 6months of experience in sales.  \\n2. Excellent verbal and written communication and presentation skills.  \\n3. Has high degree of accuracy and is Proactive.  \\n4. Demonstrated ability to prioritize issues.  \\n5. Intellectual Demands.  \\n6. Must be a Graduate.  \\n7. Must be able to deal with technical product information.  \\n8. Ability to adopt procedures to a new and more effective way of working  \\n(in relation primarily to database management)  \\n9. Ability to build strong working relationships (internal/external)  \\n10. Ability to persuade, influence and negotiate effectively at all levels  \\nwithin and outside the organization.\\n\\n**Personality**\\n\\n* Determined\\n* Enthusiast\\n* Team Worker\\n* Reliable\\n* Sociable\\n* Self-motivated\\n* Achievement orientated\\n* Ability to use own initiative\\n* Ability to perform effectively when there are pressure peaks\\n* Sets high standards and consistently achieves them\\n\\n**Candidate Profile**  \\n06 months-3 years experience in lead sales/marketing preferably IT products/services.\\n\\n**Communication**  \\nEnglish: Read-Write-Speak  \\nHindi: Speak  \\nTelugu: Read-Write-Speak  \\nKannada: Read-Write-Speak\\n\\nJob Type: Full-time\\n\\nPay: ₹350,000.00 - ₹800,000.00 per year\\n\\nBenefits:\\n\\n* Cell phone reimbursement\\n\\nSchedule:\\n\\n* Day shift\\n* Fixed shift\\n\\nSupplemental pay types:\\n\\n* Performance bonus\\n* Yearly bonus\\n\\nAbility to commute/relocate:\\n\\n* JP Nagar, Bengaluru, Karnataka: Reliably commute or planning to relocate before starting work (Preferred)\\n\\nExperience:\\n\\n* total work: 1 year (Preferred)\\n* B2B sales: 1 year (Preferred)\\n\\nWillingness to travel:\\n\\n* 50% (Required)\\n\\nWork Location: In person\\n\\nExpected Start Date: 02/05/2024']"
      ]
     },
     "execution_count": 31,
     "metadata": {},
     "output_type": "execute_result"
    }
   ],
   "source": [
    "top_k_jobs"
   ]
  },
  {
   "cell_type": "code",
   "execution_count": 30,
   "id": "d9150802-1e86-4c6e-8ca0-a2fb9b1cd1ff",
   "metadata": {},
   "outputs": [
    {
     "data": {
      "text/html": [
       "<div>\n",
       "<style scoped>\n",
       "    .dataframe tbody tr th:only-of-type {\n",
       "        vertical-align: middle;\n",
       "    }\n",
       "\n",
       "    .dataframe tbody tr th {\n",
       "        vertical-align: top;\n",
       "    }\n",
       "\n",
       "    .dataframe thead th {\n",
       "        text-align: right;\n",
       "    }\n",
       "</style>\n",
       "<table border=\"1\" class=\"dataframe\">\n",
       "  <thead>\n",
       "    <tr style=\"text-align: right;\">\n",
       "      <th></th>\n",
       "      <th>Job Description</th>\n",
       "      <th>Similarity Score</th>\n",
       "    </tr>\n",
       "  </thead>\n",
       "  <tbody>\n",
       "    <tr>\n",
       "      <th>0</th>\n",
       "      <td>### **Join FlexAI: Unleashing the Power of AI ...</td>\n",
       "      <td>tensor(0.5443)</td>\n",
       "    </tr>\n",
       "    <tr>\n",
       "      <th>2</th>\n",
       "      <td>**Job Summary**  \\n\\n  \\n\\n  \\n\\n  \\n\\n  \\n\\nE...</td>\n",
       "      <td>tensor(0.4202)</td>\n",
       "    </tr>\n",
       "    <tr>\n",
       "      <th>4</th>\n",
       "      <td>As an employee at Thomson Reuters, you will pl...</td>\n",
       "      <td>tensor(0.4104)</td>\n",
       "    </tr>\n",
       "    <tr>\n",
       "      <th>5</th>\n",
       "      <td>**About Us:**\\n\\n\\nThe Scalers is an Indo-Fren...</td>\n",
       "      <td>tensor(0.3766)</td>\n",
       "    </tr>\n",
       "    <tr>\n",
       "      <th>7</th>\n",
       "      <td>At EY, you’ll have the chance to build a caree...</td>\n",
       "      <td>tensor(0.3650)</td>\n",
       "    </tr>\n",
       "    <tr>\n",
       "      <th>8</th>\n",
       "      <td>Req ID\\n4368\\nLocation(s)\\nBangalore, India;\\n...</td>\n",
       "      <td>tensor(0.3618)</td>\n",
       "    </tr>\n",
       "    <tr>\n",
       "      <th>10</th>\n",
       "      <td>We are looking for talented Business Developme...</td>\n",
       "      <td>tensor(0.3602)</td>\n",
       "    </tr>\n",
       "    <tr>\n",
       "      <th>11</th>\n",
       "      <td>Req ID\\n4367\\nLocation(s)\\nBangalore, India;\\n...</td>\n",
       "      <td>tensor(0.3580)</td>\n",
       "    </tr>\n",
       "    <tr>\n",
       "      <th>12</th>\n",
       "      <td>**COMPANY PROFILE**  \\nAccrete Globus Technolo...</td>\n",
       "      <td>tensor(0.3518)</td>\n",
       "    </tr>\n",
       "  </tbody>\n",
       "</table>\n",
       "</div>"
      ],
      "text/plain": [
       "                                      Job Description Similarity Score\n",
       "0   ### **Join FlexAI: Unleashing the Power of AI ...   tensor(0.5443)\n",
       "2   **Job Summary**  \\n\\n  \\n\\n  \\n\\n  \\n\\n  \\n\\nE...   tensor(0.4202)\n",
       "4   As an employee at Thomson Reuters, you will pl...   tensor(0.4104)\n",
       "5   **About Us:**\\n\\n\\nThe Scalers is an Indo-Fren...   tensor(0.3766)\n",
       "7   At EY, you’ll have the chance to build a caree...   tensor(0.3650)\n",
       "8   Req ID\\n4368\\nLocation(s)\\nBangalore, India;\\n...   tensor(0.3618)\n",
       "10  We are looking for talented Business Developme...   tensor(0.3602)\n",
       "11  Req ID\\n4367\\nLocation(s)\\nBangalore, India;\\n...   tensor(0.3580)\n",
       "12  **COMPANY PROFILE**  \\nAccrete Globus Technolo...   tensor(0.3518)"
      ]
     },
     "execution_count": 30,
     "metadata": {},
     "output_type": "execute_result"
    }
   ],
   "source": [
    "top_k_df.drop_duplicates(subset=['Job Description'])"
   ]
  },
  {
   "cell_type": "code",
   "execution_count": 32,
   "id": "3ad30178",
   "metadata": {},
   "outputs": [
    {
     "data": {
      "text/html": [
       "<div>\n",
       "<style scoped>\n",
       "    .dataframe tbody tr th:only-of-type {\n",
       "        vertical-align: middle;\n",
       "    }\n",
       "\n",
       "    .dataframe tbody tr th {\n",
       "        vertical-align: top;\n",
       "    }\n",
       "\n",
       "    .dataframe thead th {\n",
       "        text-align: right;\n",
       "    }\n",
       "</style>\n",
       "<table border=\"1\" class=\"dataframe\">\n",
       "  <thead>\n",
       "    <tr style=\"text-align: right;\">\n",
       "      <th></th>\n",
       "      <th>Job Description</th>\n",
       "      <th>Similarity Score</th>\n",
       "    </tr>\n",
       "  </thead>\n",
       "  <tbody>\n",
       "    <tr>\n",
       "      <th>0</th>\n",
       "      <td>### **Join FlexAI: Unleashing the Power of AI ...</td>\n",
       "      <td>tensor(0.5443)</td>\n",
       "    </tr>\n",
       "    <tr>\n",
       "      <th>1</th>\n",
       "      <td>### **Join FlexAI: Unleashing the Power of AI ...</td>\n",
       "      <td>tensor(0.5443)</td>\n",
       "    </tr>\n",
       "    <tr>\n",
       "      <th>2</th>\n",
       "      <td>**Job Summary**  \\n\\n  \\n\\n  \\n\\n  \\n\\n  \\n\\nE...</td>\n",
       "      <td>tensor(0.4202)</td>\n",
       "    </tr>\n",
       "    <tr>\n",
       "      <th>3</th>\n",
       "      <td>**Job Summary**  \\n\\n  \\n\\n  \\n\\n  \\n\\n  \\n\\nE...</td>\n",
       "      <td>tensor(0.4202)</td>\n",
       "    </tr>\n",
       "    <tr>\n",
       "      <th>4</th>\n",
       "      <td>As an employee at Thomson Reuters, you will pl...</td>\n",
       "      <td>tensor(0.4104)</td>\n",
       "    </tr>\n",
       "    <tr>\n",
       "      <th>5</th>\n",
       "      <td>**About Us:**\\n\\n\\nThe Scalers is an Indo-Fren...</td>\n",
       "      <td>tensor(0.3766)</td>\n",
       "    </tr>\n",
       "    <tr>\n",
       "      <th>6</th>\n",
       "      <td>**About Us:**\\n\\n\\nThe Scalers is an Indo-Fren...</td>\n",
       "      <td>tensor(0.3766)</td>\n",
       "    </tr>\n",
       "    <tr>\n",
       "      <th>7</th>\n",
       "      <td>At EY, you’ll have the chance to build a caree...</td>\n",
       "      <td>tensor(0.3650)</td>\n",
       "    </tr>\n",
       "    <tr>\n",
       "      <th>8</th>\n",
       "      <td>Req ID\\n4368\\nLocation(s)\\nBangalore, India;\\n...</td>\n",
       "      <td>tensor(0.3618)</td>\n",
       "    </tr>\n",
       "    <tr>\n",
       "      <th>9</th>\n",
       "      <td>Req ID\\n4368\\nLocation(s)\\nBangalore, India;\\n...</td>\n",
       "      <td>tensor(0.3618)</td>\n",
       "    </tr>\n",
       "    <tr>\n",
       "      <th>10</th>\n",
       "      <td>We are looking for talented Business Developme...</td>\n",
       "      <td>tensor(0.3602)</td>\n",
       "    </tr>\n",
       "    <tr>\n",
       "      <th>11</th>\n",
       "      <td>Req ID\\n4367\\nLocation(s)\\nBangalore, India;\\n...</td>\n",
       "      <td>tensor(0.3580)</td>\n",
       "    </tr>\n",
       "    <tr>\n",
       "      <th>12</th>\n",
       "      <td>**COMPANY PROFILE**  \\nAccrete Globus Technolo...</td>\n",
       "      <td>tensor(0.3518)</td>\n",
       "    </tr>\n",
       "  </tbody>\n",
       "</table>\n",
       "</div>"
      ],
      "text/plain": [
       "                                      Job Description Similarity Score\n",
       "0   ### **Join FlexAI: Unleashing the Power of AI ...   tensor(0.5443)\n",
       "1   ### **Join FlexAI: Unleashing the Power of AI ...   tensor(0.5443)\n",
       "2   **Job Summary**  \\n\\n  \\n\\n  \\n\\n  \\n\\n  \\n\\nE...   tensor(0.4202)\n",
       "3   **Job Summary**  \\n\\n  \\n\\n  \\n\\n  \\n\\n  \\n\\nE...   tensor(0.4202)\n",
       "4   As an employee at Thomson Reuters, you will pl...   tensor(0.4104)\n",
       "5   **About Us:**\\n\\n\\nThe Scalers is an Indo-Fren...   tensor(0.3766)\n",
       "6   **About Us:**\\n\\n\\nThe Scalers is an Indo-Fren...   tensor(0.3766)\n",
       "7   At EY, you’ll have the chance to build a caree...   tensor(0.3650)\n",
       "8   Req ID\\n4368\\nLocation(s)\\nBangalore, India;\\n...   tensor(0.3618)\n",
       "9   Req ID\\n4368\\nLocation(s)\\nBangalore, India;\\n...   tensor(0.3618)\n",
       "10  We are looking for talented Business Developme...   tensor(0.3602)\n",
       "11  Req ID\\n4367\\nLocation(s)\\nBangalore, India;\\n...   tensor(0.3580)\n",
       "12  **COMPANY PROFILE**  \\nAccrete Globus Technolo...   tensor(0.3518)"
      ]
     },
     "execution_count": 32,
     "metadata": {},
     "output_type": "execute_result"
    }
   ],
   "source": [
    "top_k_df"
   ]
  },
  {
   "cell_type": "code",
   "execution_count": 22,
   "id": "22249405-0851-4319-801d-be3ea72be77f",
   "metadata": {},
   "outputs": [
    {
     "name": "stdout",
     "output_type": "stream",
     "text": [
      "197    ### **Join FlexAI: Unleashing the Power of AI ...\n",
      "196    ### **Join FlexAI: Unleashing the Power of AI ...\n",
      "195    **Job Summary**  \\n\\n  \\n\\n  \\n\\n  \\n\\n  \\n\\nE...\n",
      "194    **Job Summary**  \\n\\n  \\n\\n  \\n\\n  \\n\\n  \\n\\nE...\n",
      "193    As an employee at Thomson Reuters, you will pl...\n",
      "192    **About Us:**\\n\\n\\nThe Scalers is an Indo-Fren...\n",
      "191    **About Us:**\\n\\n\\nThe Scalers is an Indo-Fren...\n",
      "190    At EY, you’ll have the chance to build a caree...\n",
      "189    Req ID\\n4368\\nLocation(s)\\nBangalore, India;\\n...\n",
      "188    Req ID\\n4368\\nLocation(s)\\nBangalore, India;\\n...\n",
      "187    We are looking for talented Business Developme...\n",
      "186    Req ID\\n4367\\nLocation(s)\\nBangalore, India;\\n...\n",
      "185    **COMPANY PROFILE**  \\nAccrete Globus Technolo...\n",
      "Name: Job Description, dtype: object\n"
     ]
    }
   ],
   "source": [
    "print(top_k_df.tail(k)['Job Description'][::-1])"
   ]
  },
  {
   "cell_type": "code",
   "execution_count": 18,
   "id": "aa94068f-5ad0-4c22-a5a9-8e949f7b13dd",
   "metadata": {},
   "outputs": [
    {
     "data": {
      "text/plain": [
       "'Let\\'s think step by step about who the first man on the moon was!\\n\\nStep 1: NASA sent a mission to the moon...\\n\\n* The Apollo program, which ran from 1961 to 1972, was tasked with landing humans on the moon.\\n\\nStep 2: The mission included several manned spaceflights...\\n\\n* Between 1969 and 1972, six manned missions were sent to orbit around the moon (Apollo 7 to Apollo 10). These flights tested equipment, spacecraft systems, and astronaut skills.\\n\\nStep 3: One of these missions was specifically designed for a lunar landing...\\n\\n* Apollo 11, launched on July 16, 1969, was the first mission to land humans on the moon. The crew consisted of three astronauts:\\n\\n\\t+ Neil Armstrong (Commander)\\n\\t+ Edwin \"Buzz\" Aldrin (Lunar Module Pilot)\\n\\t+ Michael Collins (Command Module Pilot)\\n\\nStep 4: The lunar module Eagle landed on the moon...\\n\\n* On July 20, 1969, at 20:17 UTC (Coordinated Universal Time), the Eagle lunar module touched down on the moon\\'s surface in the Sea of Tranquility.\\n\\nStep 5: Neil Armstrong became the first person to set foot on the moon...\\n\\n* At 02:56 UTC on July 21, 1969, Armstrong stepped out of the lunar module and famously declared, \"That\\'s one small step for man, one giant leap for mankind.\"\\n\\nSo, to summarize, the first man on the moon was Neil Armstrong!'"
      ]
     },
     "execution_count": 18,
     "metadata": {},
     "output_type": "execute_result"
    }
   ],
   "source": [
    "from langchain_community.llms import Ollama\n",
    "\n",
    "llm = Ollama(model=\"llama3\")\n",
    "llm.invoke(\"The first man on the moon was ... think step by step\")"
   ]
  },
  {
   "cell_type": "code",
   "execution_count": 2,
   "id": "0942760a-b9ce-45aa-a197-aab4eed1cdf3",
   "metadata": {},
   "outputs": [],
   "source": [
    "import fitz\n",
    "doc = fitz.open('resume.pdf')\n",
    "text = \"\"\n",
    "for page in doc:\n",
    "    text+=page.get_text()"
   ]
  },
  {
   "cell_type": "code",
   "execution_count": 4,
   "id": "7e562fd7",
   "metadata": {},
   "outputs": [],
   "source": [
    "jds = [\"AWS Cloud Infrastructure, Serverless, Security, Compliance, and Observability\\n\\n**Position Overview:**\\n\\nFundMore is seeking a talented and dedicated DevOps Engineer to join our dynamic team. The ideal candidate will play a crucial role in managing our AWS-based cloud infrastructure, enhancing our security and compliance measures, continuously improving our observability stack and monitoring practices, and collaborating with partners and customers. This position requires a deep understanding of AWS services, serverless technologies, security best practices, and modern observability tools, as well as experience with NodeJS, NestJS, and PostgreSQL.\\n\\n**Key Responsibilities:**\\n\\n* **AWS Cloud Infrastructure Management:**\\n* Design, implement, and manage scalable, secure AWS cloud infrastructure.\\n* Utilize AWS services such as EC2, S3, RDS, Lambda, API Gateway, CloudFront, and Cognito to build robust, serverless solutions.\\n* Ensure high availability, fault tolerance, and disaster recovery capabilities of AWS systems.\\n* Automate infrastructure provisioning and management using Serverless Framework and AWS CloudFormation.\\n* **System Architecture:**\\n* Develop and maintain cloud applications using AWS Lambda and other serverless services.\\n* Optimize cloud deployments for performance, cost, and scalability.\\n* Implement best practices for cloud based, serverless microservice application development and deployment.\\n* **Security and Compliance:**\\n* Implement and enforce security best practices and compliance standards (SOC 2, GDPR, ISO).\\n* Manage IAM roles and policies to ensure least privilege access.\\n* Conduct regular security audits, vulnerability assessments, and penetration testing.\\n* Maintain comprehensive documentation of security and compliance measures.\\n* **Observability and Monitoring:**\\n* Develop and enhance the observability stack, including logging, monitoring, and alerting systems.\\n* Implement and manage monitoring tools such as AWS CloudWatch, GuardDuty, Security Hub, Prometheus, and Grafana.\\n* Ensure comprehensive visibility into system performance, availability, and security.\\n* Set up automated alerts for key metrics and incidents.\\n* **CI/CD Pipeline Management:**\\n* Maintain and optimize CI/CD pipelines using tools like AWS CodePipeline, CodeBuild, and GitHub Actions.\\n* Ensure seamless integration and deployment processes with automated testing and validation.\\n* **Collaboration and Communication:**\\n* Work closely with development teams to integrate security and observability into the development lifecycle (DevSecOps).\\n* Conduct regular training sessions on security practices, compliance requirements, and observability tools.\\n* Participate in daily scrums, sprint planning, and retrospectives to align on project goals and deliverables.\\n* **Partner and Customer Integration Support:**\\n* Collaborate with partners to support and implement integrations with FundMore's platform.\\n* Work with customers' internal IT teams to ensure smooth integration and operation of FundMore’s solutions.\\n* Assist the Customer Success team in answering technical operations questions and resolving issues related to infrastructure, security, and performance.\\n\\n**Qualifications:**\\n\\n* Bachelor’s degree in Computer Science, Information Technology, or related field.\\n* 5+ years of experience in DevOps roles, with a focus on AWS cloud infrastructure, serverless technologies, security, and observability.\\n* Proficiency in AWS services, including Lambda, API Gateway, CloudFront, S3, RDS, and IAM.\\n* Experience with automation and configuration management tools like Serverless Framework, AWS CloudFormation, Terraform, or Ansible.\\n* Strong understanding of network and data security principles, including encryption, IAM, and security monitoring.\\n* Familiarity with compliance frameworks such as SOC 2, GDPR, and ISO.\\n* Proven experience with observability tools such as AWS CloudWatch, GuardDuty, Prometheus, and Grafana.\\n* Experience with NodeJS, NestJS, and PostgreSQL.\\n* Excellent problem-solving skills and the ability to perform under pressure.\\n* Strong communication and collaboration skills.\\n\\n**Preferred Skills:**\\n\\n* AWS certifications (e.g., AWS Certified Solutions Architect, AWS Certified DevOps Engineer).\\n* Knowledge of microservices architecture.\\n* Experience with modern CI/CD tools and practices.\\n* Familiarity with agile development methodologies and tools like Github and Jira.\\n\\n**Why FundMore:**\\n\\n* Competitive salary and benefits package.\\n* Opportunity to work with cutting-edge technologies in a dynamic and innovative environment.\\n* Collaborative and inclusive company culture.\\n* Continuous learning and professional development opportunities.\\n\\n**How to Apply:**\\n\\nInterested candidates are invited to submit their resume and cover letter detailing their relevant experience and interest in the position to HR@fundmore.ai.\\n\\nFundMore is an equal opportunity employer. We celebrate diversity and are committed to creating an inclusive environment for all employees.\\n\\nJob Type: Full-time\\n\\nBenefits:\\n\\n* Dental care\\n* Extended health care\\n* Paid time off\\n\\nExperience:\\n\\n* DevOps: 3 years (required)\\n\\nWork Location: Hybrid remote in Toronto, ON M5J 2P1\\n\\nApplication deadline: 2024-08-01  \\nExpected start date: 2024-09-01\", 'ARE YOU READY to step up and take your technology expertise to the next level?  \\n\\nThere is never a typical day at Accenture, but that’s why we love it here! This is an extraordinary chance to create a rewarding career at Accenture Technology. Working in a digitally driven, innovation-led environment where you can help clients shift to the New using leading-edge technologies on some of the coolest projects you can imagine.\\n\\n\\nWe are:  \\n\\nAccenture’s SAP practice, and we bring the New to life using design thinking, agile development methodologies, and the latest smart tech like IoT, automation, and AI. We even built myConcerto, a mix of SAP and Accenture that helps lead our clients to big wins. Ready to learn as much as you can? We train our people on \"new\" SAP like SAP Leonardo, S/4HANA and Cloud, and we offer classes and support through our 50,000+ member community. It’s also nice to know our hard work doesn’t go unrecognized. We’ve got over 70 SAP awards—more than any other partner—and we’re the leading business partner for SAP SuccessFactors, SAP Ariba, SAP Hybris, SAP FieldGlass, SAP Concur, and more. Visit us here to find out more about Accenture\\'s SAP practice.\\n\\n\\nProject Role Description:  \\n\\nDesign business processes, including characteristics and key performance indicators (KPIs), to meet process and functional requirements. Work closely with the Application Architect to create the process blueprint and establish business process requirements to drive out application requirements and metrics. Role includes implementing, customizing, and maintaining SAP solutions in the areas of Production Planning and Quality Management. Work involves close interactions with clients to understand their business requirements, translate them into functional specifications, and leverage your expertise to configure and optimize SAP PP/QM modules.\\n\\n\\nKey Responsibilities:  \\n\\n* Blueprint, Design, Build of SAP S4 PP & QM environment to meet business process and application requirements. Provide Solutioning to specific client requirements\\n* Should be able to drive discussion with the client and conduct workshops\\n* Should be able to drive SAP PP & QM project deliverables and liaison with partner teams\\n* Collaborate with stakeholders to gather and analyze business requirements related to Production Planning and Quality Management.\\n* Play the role of stream lead for individual SAP PP & QM functionalities and establishing business processes\\n* Implement and deploy SAP solutions, including integration with other SAP modules and external systems.\\n* Conduct system testing, assist in user acceptance testing (UAT), and provide post-go-live support.\\n* Develop and maintain technical documentation, process flow diagrams, and training materials.\\n* Provide guidance and support to end-users on SAP PP/QM functionality, troubleshooting issues as they arise.\\n* Stay updated with SAP releases, new features, and industry trends to recommend and implement continuous improvements.\\n* Collaborate with cross-functional teams, including SAP developers, business analysts, and project managers, to deliver high-quality solutions.\\n\\n  \\n\\nHere’s what you need:  \\n\\n* Minimum of 7 years experience in end to end SAP PP and QM implementation as well as experience integrating with other SAP modules.\\n* Minimum of 2 years experience with S/4 Hana\\n* Minimum of 1 year experience managing teams in a Global Delivery module\\n* Bachelor\\'s degree or equivalent\\n* Ability to act as a Functional Solution Architect within the functional area, providing high-level design expertise.\\n* Extensive experience in SAP S/4 transformations and a track record of successful project implementations.\\n* Proven capability in defining functional roadmaps and strategies for clients.\\n* Experience in leading business process reengineering efforts to optimize finance-related workflows and enhance process efficiency.\\n* Ability to collaborate with stakeholders at various levels, including C-suite executives, to present functional strategies and gain buy-in.\\n* English is required for this position as this role will regularly interact with stakeholders across\\n\\n\\nCanada, US and other countries across our Global footprint where English is the common  \\n\\nlanguage. Due to the significant high volume of interactions with these English-speaking  \\n\\nstakeholders, which is inherent to this position, it is not possible to reorganize the company\\'s  \\n\\nactivities to avoid this requirement\\nBonus points if:  \\n\\n* You are fluent in French\\n* You’ve got external consulting experience\\n* You know how SAP’s business development process works and you can help clients understand how SAP will help their company do more\\n\\n#LI-NA  \\n\\n#LI-MP', \"### **About NeuraFlash:**\\n\\n\\n\\nWe are a leading AI and Consulting Partner of Amazon & Salesforce obsessed with helping our customers transform their contact centers with AI Powered Experiences. Our expertise spans across the Amazon ecosystem with Amazon Connect, Lex & Contact Lens and Salesforce ecosystem with Service Cloud Voice, Einstein Bots and Digital Channels, Service Cloud, Field Service, CPQ, MuleSoft, and Einstein Analytics. We are experts in building experiences grounded in data that transform and optimize the employee and customer journey.\\n\\n\\n### **What sets NeuraFlash apart?**\\n\\n\\n\\nJoin NeuraFlash, where growth is not just a goal, but a way of life! Since our inception in 2016, we've been on a rocket ship, soaring to an average of 35%+ growth year over year. This rapid expansion has unlocked a world of exciting career opportunities for our team.\\n\\n\\n\\nImagine stepping into the heart of innovation, working with cutting-edge technologies like Salesforce, GenAI, and Amazon. Here, you won't just keep pace with the industry; you'll set it!\\n\\n\\n\\nBut growth isn't just about the company; it's about you. At NeuraFlash, we believe in endless learning. Our technical boot camps are your gateway to mastering new skills and technologies. Whether you're diving into GenAI or conquering Service Cloud Voice, we've got your back.\\n\\n\\n\\nOur success is rooted in the satisfaction of our customers, and our exceptional CSAT score reflects that. Join our team, and you'll play a pivotal role in leading these impactful initiatives, contributing to meaningful change.\\n\\n\\n\\nWe are committed to nurturing positive working relationships, enabling us to harness the full potential of our team and drive success collectively. Through annual meet-ups in North America and India, as well as quarterly events online or in various regions, you'll build strong, cross-border relationships with teammates around the world.\\n\\n\\n\\nReady to become part of the NeuraFlash team? Let's redefine growth and innovation together!\\n\\n\\nWe are looking for a Solution Architect (CPQ) to join our amazing Lead-to-Cash team! You'll bring Salesforce Sales Cloud & CPQ project implementations to life by working with our customers to understand their business, identify their requirements, then leading the team through design, development, QA and launch of their solutions. We are building a best-in-class team and this role will have the opportunity to make significant contributions working with the rest of our talented team, exciting customers, and partnering closely with our Salesforce and AI Teams! As the Architect on the project, you will own overall design success and lead the development team in building awesome client solutions.\\n\\n\\n**You'll have the opportunity to:**\\n\\n\\n* Work with our customers to define requirements, propose & deliver solutions related to their Sales processes\\n* Support architecture and own configuring best-in-class implementations of CPQ and Sales Cloud.\\n* Configure Salesforce Solutions using point and click tools available on the platform eg. Process Builder and Visual Flows\\n* Understand and leverage Salesforce Platform to implement scalable solutions\\n* Partner with our Artificial Intelligence team to create innovative Salesforce solutions for our customers\\n* Coach and mentor your junior team members on best practices to deliver your projects\\n* Interface directly with Salesforce to craft new solution perspectives\\n* Support our Pre-Sales team with industry perspectives, demos, and deal execution\\n* Craft thought leadership pieces that accelerate the NeuraFlash brand within the Sales Transformations space\\n* Quickly acquire new technical expertise and understanding of latest Salesforce features and major launches\\n\\n\\n**Requirements:**\\n\\n\\n* 5+ years project experience in a hands-on position\\n* 10+ implementations experience of Salesforce CPQ or Sales Cloud\\n* 5+ years of experience with Salesforce in a development or configuration capacity\\n* Understanding of Sales, Sales Operations, Product, and Business Operations with experience solving Complex Use Cases utilizing the breadth of the Salesforce Platform\\n* Hands-on experience on building Salesforce CPQ package elements, Custom Applications, Lightning Experience, Visual Flows, Process Builders, and other Salesforce platform tools.\\n* Understanding of Release Management, Application Lifecycle Management, Development Lifecycle and Deployment Best Practices and Governance.\\n* Client Facing Experience in the following areas: Pre-Sales Activities, Project Management/Ownership, Discovery and Design, Delivering Solution Options to Customers, Enterprise Application Architecture.\\n* Solid understanding of Salesforce Platform and its architecture.\\n\\n\\n**Preferred Skills:**\\n\\n\\n* Experience coaching and mentoring Salesforce talent\\n* Attention towards detail – detail oriented\\n* Strong team player\\n* Great communication skills\\n* Keep an open mind and must be flexible to change\\n* Any Salesforce Certifications is a Plus, preferably Salesforce CPQ , Service Cloud, Experience Cloud, Sales Cloud or Field Service Consultant.\\n\\n### **What's it like to be a part of NeuraFlash?**\\n\\n\\n* Remote & In-Person: Whether you work out of our HQ in Massachusetts, one of our regional hubs, our India office, or you're one of over half of our NeuraFlash Family who work remotely, we're focused on keeping everyone connected and unified as one team.\\n* Travel: Get ready to pack your bags and hit the road! For certain roles, travel is an exciting part of the job, with an anticipated travel commitment of up to 25%. So, if you have a passion for adventure and don't mind a little jet-setting, this opportunity could be your ticket to exploring new places while making a positive impact on clients.\\n* Flexibility: Do you have to take the dog to the vet, pick up the kids from school, or the in-laws from the airport? We know that a perfect 9-5 isn't possible. So you have to jump out to do any of those, no problem! We build a culture of trust and understanding. We value good work not the hours in which you get it done\\n* Collaboration: You have a voice here! If you work with a team of smart people like we do, it's a no-brainer to take suggestions and feedback on how to keep NeuraFlash thriving. Our executive team holds town halls & company meetings where they address any suggestions or questions asked, no matter how big or small.\\n* Celebrate Often: We take our work seriously, but we don't take ourselves too seriously. Whether it is an arm wrestling contest, costume party, or ugly holiday sweaters our teams love to have fun. And while we work hard, we don't forget to slow down and celebrate the big things and the small things together.\\n\\n\\n*Location: NeuraFlash strives to provide you with the flexibility to work in the location that makes the most sense for your lifestyle. For those that prefer an office setting, this role may be based in any of our hub locations within the United States, and India. If you prefer to work from your home, we can accommodate remote locations anywhere in the United States for our U.S. based employees, anywhere within British Columbia and Ontario for our Canadian employees, and anywhere within Colombia for our Colombian based employees!*\", \"### **About NeuraFlash:**\\n\\n\\n\\nWe are a leading AI and Consulting Partner of Amazon & Salesforce obsessed with helping our customers transform their contact centers with AI Powered Experiences. Our expertise spans across the Amazon ecosystem with Amazon Connect, Lex & Contact Lens and Salesforce ecosystem with Service Cloud Voice, Einstein Bots and Digital Channels, Service Cloud, Field Service, CPQ, MuleSoft, and Einstein Analytics. We are experts in building experiences grounded in data that transform and optimize the employee and customer journey.\\n\\n\\n### **What sets NeuraFlash apart?**\\n\\n\\n\\nJoin NeuraFlash, where growth is not just a goal, but a way of life! Since our inception in 2016, we've been on a rocket ship, soaring to an average of 35%+ growth year over year. This rapid expansion has unlocked a world of exciting career opportunities for our team.\\n\\n\\n\\nImagine stepping into the heart of innovation, working with cutting-edge technologies like Salesforce, GenAI, and Amazon. Here, you won't just keep pace with the industry; you'll set it!\\n\\n\\n\\nBut growth isn't just about the company; it's about you. At NeuraFlash, we believe in endless learning. Our technical boot camps are your gateway to mastering new skills and technologies. Whether you're diving into GenAI or conquering Service Cloud Voice, we've got your back.\\n\\n\\n\\nOur success is rooted in the satisfaction of our customers, and our exceptional CSAT score reflects that. Join our team, and you'll play a pivotal role in leading these impactful initiatives, contributing to meaningful change.\\n\\n\\n\\nWe are committed to nurturing positive working relationships, enabling us to harness the full potential of our team and drive success collectively. Through annual meet-ups in North America and India, as well as quarterly events online or in various regions, you'll build strong, cross-border relationships with teammates around the world.\\n\\n\\n\\nReady to become part of the NeuraFlash team? Let's redefine growth and innovation together!\\n\\n\\nWe are looking for a Solution Architect (CPQ) to join our amazing Lead-to-Cash team! You'll bring Salesforce Sales Cloud & CPQ project implementations to life by working with our customers to understand their business, identify their requirements, then leading the team through design, development, QA and launch of their solutions. We are building a best-in-class team and this role will have the opportunity to make significant contributions working with the rest of our talented team, exciting customers, and partnering closely with our Salesforce and AI Teams! As the Architect on the project, you will own overall design success and lead the development team in building awesome client solutions.\\n\\n\\n**You'll have the opportunity to:**\\n\\n\\n* Work with our customers to define requirements, propose & deliver solutions related to their Sales processes\\n* Support architecture and own configuring best-in-class implementations of CPQ and Sales Cloud.\\n* Configure Salesforce Solutions using point and click tools available on the platform eg. Process Builder and Visual Flows\\n* Understand and leverage Salesforce Platform to implement scalable solutions\\n* Partner with our Artificial Intelligence team to create innovative Salesforce solutions for our customers\\n* Coach and mentor your junior team members on best practices to deliver your projects\\n* Interface directly with Salesforce to craft new solution perspectives\\n* Support our Pre-Sales team with industry perspectives, demos, and deal execution\\n* Craft thought leadership pieces that accelerate the NeuraFlash brand within the Sales Transformations space\\n* Quickly acquire new technical expertise and understanding of latest Salesforce features and major launches\\n\\n\\n**Requirements:**\\n\\n\\n* 5+ years project experience in a hands-on position\\n* 10+ implementations experience of Salesforce CPQ or Sales Cloud\\n* 5+ years of experience with Salesforce in a development or configuration capacity\\n* Understanding of Sales, Sales Operations, Product, and Business Operations with experience solving Complex Use Cases utilizing the breadth of the Salesforce Platform\\n* Hands-on experience on building Salesforce CPQ package elements, Custom Applications, Lightning Experience, Visual Flows, Process Builders, and other Salesforce platform tools.\\n* Understanding of Release Management, Application Lifecycle Management, Development Lifecycle and Deployment Best Practices and Governance.\\n* Client Facing Experience in the following areas: Pre-Sales Activities, Project Management/Ownership, Discovery and Design, Delivering Solution Options to Customers, Enterprise Application Architecture.\\n* Solid understanding of Salesforce Platform and its architecture.\\n\\n\\n**Preferred Skills:**\\n\\n\\n* Experience coaching and mentoring Salesforce talent\\n* Attention towards detail – detail oriented\\n* Strong team player\\n* Great communication skills\\n* Keep an open mind and must be flexible to change\\n* Any Salesforce Certifications is a Plus, preferably Salesforce CPQ , Service Cloud, Experience Cloud, Sales Cloud or Field Service Consultant.\\n\\n### **What's it like to be a part of NeuraFlash?**\\n\\n\\n* Remote & In-Person: Whether you work out of our HQ in Massachusetts, one of our regional hubs, our India office, or you're one of over half of our NeuraFlash Family who work remotely, we're focused on keeping everyone connected and unified as one team.\\n* Travel: Get ready to pack your bags and hit the road! For certain roles, travel is an exciting part of the job, with an anticipated travel commitment of up to 25%. So, if you have a passion for adventure and don't mind a little jet-setting, this opportunity could be your ticket to exploring new places while making a positive impact on clients.\\n* Flexibility: Do you have to take the dog to the vet, pick up the kids from school, or the in-laws from the airport? We know that a perfect 9-5 isn't possible. So you have to jump out to do any of those, no problem! We build a culture of trust and understanding. We value good work not the hours in which you get it done\\n* Collaboration: You have a voice here! If you work with a team of smart people like we do, it's a no-brainer to take suggestions and feedback on how to keep NeuraFlash thriving. Our executive team holds town halls & company meetings where they address any suggestions or questions asked, no matter how big or small.\\n* Celebrate Often: We take our work seriously, but we don't take ourselves too seriously. Whether it is an arm wrestling contest, costume party, or ugly holiday sweaters our teams love to have fun. And while we work hard, we don't forget to slow down and celebrate the big things and the small things together.\\n\\n\\n*Location: NeuraFlash strives to provide you with the flexibility to work in the location that makes the most sense for your lifestyle. For those that prefer an office setting, this role may be based in any of our hub locations within the United States, and India. If you prefer to work from your home, we can accommodate remote locations anywhere in the United States for our U.S. based employees, anywhere within British Columbia and Ontario for our Canadian employees, and anywhere within Colombia for our Colombian based employees!*\", 'ARE YOU READY to step up and take your technology expertise to the next level?  \\n\\nThere is never a typical day at Accenture, but that’s why we love it here! This is an extraordinary chance to create a rewarding career at Accenture Technology. Working in a digitally driven, innovation-led environment where you can help clients shift to the New using leading-edge technologies on some of the coolest projects you can imagine.\\n\\n\\nWe are:  \\n\\nAccenture’s SAP practice, and we bring the New to life using design thinking, agile development methodologies, and the latest smart tech like IoT, automation, and AI. We even built myConcerto, a mix of SAP and Accenture that helps lead our clients to big wins. Ready to learn as much as you can? We train our people on \"new\" SAP like SAP Leonardo, S/4HANA and Cloud, and we offer classes and support through our 50,000+ member community. It’s also nice to know our hard work doesn’t go unrecognized. We’ve got over 70 SAP awards—more than any other partner—and we’re the leading business partner for SAP SuccessFactors, SAP Ariba, SAP Hybris, SAP FieldGlass, SAP Concur, and more. Visit us here to find out more about Accenture\\'s SAP practice.\\n\\n\\nProject Role Description:  \\n\\nDesign business processes, including characteristics and key performance indicators (KPIs), to meet process and functional requirements. Work closely with the Application Architect to create the process blueprint and establish business process requirements to drive out application requirements and metrics. Role includes implementing, customizing, and maintaining SAP solutions in the areas of Production Planning and Quality Management. Work involves close interactions with clients to understand their business requirements, translate them into functional specifications, and leverage your expertise to configure and optimize SAP PP/QM modules.\\n\\n\\nKey Responsibilities:  \\n\\n* Blueprint, Design, Build of SAP S4 PP & QM environment to meet business process and application requirements. Provide Solutioning to specific client requirements\\n* Should be able to drive discussion with the client and conduct workshops\\n* Should be able to drive SAP PP & QM project deliverables and liaison with partner teams\\n* Collaborate with stakeholders to gather and analyze business requirements related to Production Planning and Quality Management.\\n* Play the role of stream lead for individual SAP PP & QM functionalities and establishing business processes\\n* Implement and deploy SAP solutions, including integration with other SAP modules and external systems.\\n* Conduct system testing, assist in user acceptance testing (UAT), and provide post-go-live support.\\n* Develop and maintain technical documentation, process flow diagrams, and training materials.\\n* Provide guidance and support to end-users on SAP PP/QM functionality, troubleshooting issues as they arise.\\n* Stay updated with SAP releases, new features, and industry trends to recommend and implement continuous improvements.\\n* Collaborate with cross-functional teams, including SAP developers, business analysts, and project managers, to deliver high-quality solutions.\\n\\n  \\n\\nHere’s what you need:  \\n\\n* Minimum of 7 years experience in end to end SAP PP and QM implementation as well as experience integrating with other SAP modules.\\n* Minimum of 2 years experience with S/4 Hana\\n* Minimum of 1 year experience managing teams in a Global Delivery module\\n* Bachelor\\'s degree or equivalent\\n* Ability to act as a Functional Solution Architect within the functional area, providing high-level design expertise.\\n* Extensive experience in SAP S/4 transformations and a track record of successful project implementations.\\n* Proven capability in defining functional roadmaps and strategies for clients.\\n* Experience in leading business process reengineering efforts to optimize finance-related workflows and enhance process efficiency.\\n* Ability to collaborate with stakeholders at various levels, including C-suite executives, to present functional strategies and gain buy-in.\\n* English is required for this position as this role will regularly interact with stakeholders across\\n\\n\\nCanada, US and other countries across our Global footprint where English is the common  \\n\\nlanguage. Due to the significant high volume of interactions with these English-speaking  \\n\\nstakeholders, which is inherent to this position, it is not possible to reorganize the company\\'s  \\n\\nactivities to avoid this requirement\\nBonus points if:  \\n\\n* You are fluent in French\\n* You’ve got external consulting experience\\n* You know how SAP’s business development process works and you can help clients understand how SAP will help their company do more\\n\\n#LI-NA  \\n\\n#LI-MP', \"AWS Cloud Infrastructure, Serverless, Security, Compliance, and Observability\\n\\n**Position Overview:**\\n\\nFundMore is seeking a talented and dedicated DevOps Engineer to join our dynamic team. The ideal candidate will play a crucial role in managing our AWS-based cloud infrastructure, enhancing our security and compliance measures, continuously improving our observability stack and monitoring practices, and collaborating with partners and customers. This position requires a deep understanding of AWS services, serverless technologies, security best practices, and modern observability tools, as well as experience with NodeJS, NestJS, and PostgreSQL.\\n\\n**Key Responsibilities:**\\n\\n* **AWS Cloud Infrastructure Management:**\\n* Design, implement, and manage scalable, secure AWS cloud infrastructure.\\n* Utilize AWS services such as EC2, S3, RDS, Lambda, API Gateway, CloudFront, and Cognito to build robust, serverless solutions.\\n* Ensure high availability, fault tolerance, and disaster recovery capabilities of AWS systems.\\n* Automate infrastructure provisioning and management using Serverless Framework and AWS CloudFormation.\\n* **System Architecture:**\\n* Develop and maintain cloud applications using AWS Lambda and other serverless services.\\n* Optimize cloud deployments for performance, cost, and scalability.\\n* Implement best practices for cloud based, serverless microservice application development and deployment.\\n* **Security and Compliance:**\\n* Implement and enforce security best practices and compliance standards (SOC 2, GDPR, ISO).\\n* Manage IAM roles and policies to ensure least privilege access.\\n* Conduct regular security audits, vulnerability assessments, and penetration testing.\\n* Maintain comprehensive documentation of security and compliance measures.\\n* **Observability and Monitoring:**\\n* Develop and enhance the observability stack, including logging, monitoring, and alerting systems.\\n* Implement and manage monitoring tools such as AWS CloudWatch, GuardDuty, Security Hub, Prometheus, and Grafana.\\n* Ensure comprehensive visibility into system performance, availability, and security.\\n* Set up automated alerts for key metrics and incidents.\\n* **CI/CD Pipeline Management:**\\n* Maintain and optimize CI/CD pipelines using tools like AWS CodePipeline, CodeBuild, and GitHub Actions.\\n* Ensure seamless integration and deployment processes with automated testing and validation.\\n* **Collaboration and Communication:**\\n* Work closely with development teams to integrate security and observability into the development lifecycle (DevSecOps).\\n* Conduct regular training sessions on security practices, compliance requirements, and observability tools.\\n* Participate in daily scrums, sprint planning, and retrospectives to align on project goals and deliverables.\\n* **Partner and Customer Integration Support:**\\n* Collaborate with partners to support and implement integrations with FundMore's platform.\\n* Work with customers' internal IT teams to ensure smooth integration and operation of FundMore’s solutions.\\n* Assist the Customer Success team in answering technical operations questions and resolving issues related to infrastructure, security, and performance.\\n\\n**Qualifications:**\\n\\n* Bachelor’s degree in Computer Science, Information Technology, or related field.\\n* 5+ years of experience in DevOps roles, with a focus on AWS cloud infrastructure, serverless technologies, security, and observability.\\n* Proficiency in AWS services, including Lambda, API Gateway, CloudFront, S3, RDS, and IAM.\\n* Experience with automation and configuration management tools like Serverless Framework, AWS CloudFormation, Terraform, or Ansible.\\n* Strong understanding of network and data security principles, including encryption, IAM, and security monitoring.\\n* Familiarity with compliance frameworks such as SOC 2, GDPR, and ISO.\\n* Proven experience with observability tools such as AWS CloudWatch, GuardDuty, Prometheus, and Grafana.\\n* Experience with NodeJS, NestJS, and PostgreSQL.\\n* Excellent problem-solving skills and the ability to perform under pressure.\\n* Strong communication and collaboration skills.\\n\\n**Preferred Skills:**\\n\\n* AWS certifications (e.g., AWS Certified Solutions Architect, AWS Certified DevOps Engineer).\\n* Knowledge of microservices architecture.\\n* Experience with modern CI/CD tools and practices.\\n* Familiarity with agile development methodologies and tools like Github and Jira.\\n\\n**Why FundMore:**\\n\\n* Competitive salary and benefits package.\\n* Opportunity to work with cutting-edge technologies in a dynamic and innovative environment.\\n* Collaborative and inclusive company culture.\\n* Continuous learning and professional development opportunities.\\n\\n**How to Apply:**\\n\\nInterested candidates are invited to submit their resume and cover letter detailing their relevant experience and interest in the position to HR@fundmore.ai.\\n\\nFundMore is an equal opportunity employer. We celebrate diversity and are committed to creating an inclusive environment for all employees.\\n\\nJob Type: Full-time\\n\\nBenefits:\\n\\n* Dental care\\n* Extended health care\\n* Paid time off\\n\\nExperience:\\n\\n* DevOps: 3 years (required)\\n\\nWork Location: Hybrid remote in Toronto, ON M5J 2P1\\n\\nApplication deadline: 2024-08-01  \\nExpected start date: 2024-09-01\"]\n"
   ]
  },
  {
   "cell_type": "code",
   "execution_count": null,
   "id": "ae9e4104",
   "metadata": {},
   "outputs": [],
   "source": []
  },
  {
   "cell_type": "code",
   "execution_count": 5,
   "id": "0e43040a",
   "metadata": {},
   "outputs": [
    {
     "data": {
      "text/plain": [
       "[\"AWS Cloud Infrastructure, Serverless, Security, Compliance, and Observability\\n\\n**Position Overview:**\\n\\nFundMore is seeking a talented and dedicated DevOps Engineer to join our dynamic team. The ideal candidate will play a crucial role in managing our AWS-based cloud infrastructure, enhancing our security and compliance measures, continuously improving our observability stack and monitoring practices, and collaborating with partners and customers. This position requires a deep understanding of AWS services, serverless technologies, security best practices, and modern observability tools, as well as experience with NodeJS, NestJS, and PostgreSQL.\\n\\n**Key Responsibilities:**\\n\\n* **AWS Cloud Infrastructure Management:**\\n* Design, implement, and manage scalable, secure AWS cloud infrastructure.\\n* Utilize AWS services such as EC2, S3, RDS, Lambda, API Gateway, CloudFront, and Cognito to build robust, serverless solutions.\\n* Ensure high availability, fault tolerance, and disaster recovery capabilities of AWS systems.\\n* Automate infrastructure provisioning and management using Serverless Framework and AWS CloudFormation.\\n* **System Architecture:**\\n* Develop and maintain cloud applications using AWS Lambda and other serverless services.\\n* Optimize cloud deployments for performance, cost, and scalability.\\n* Implement best practices for cloud based, serverless microservice application development and deployment.\\n* **Security and Compliance:**\\n* Implement and enforce security best practices and compliance standards (SOC 2, GDPR, ISO).\\n* Manage IAM roles and policies to ensure least privilege access.\\n* Conduct regular security audits, vulnerability assessments, and penetration testing.\\n* Maintain comprehensive documentation of security and compliance measures.\\n* **Observability and Monitoring:**\\n* Develop and enhance the observability stack, including logging, monitoring, and alerting systems.\\n* Implement and manage monitoring tools such as AWS CloudWatch, GuardDuty, Security Hub, Prometheus, and Grafana.\\n* Ensure comprehensive visibility into system performance, availability, and security.\\n* Set up automated alerts for key metrics and incidents.\\n* **CI/CD Pipeline Management:**\\n* Maintain and optimize CI/CD pipelines using tools like AWS CodePipeline, CodeBuild, and GitHub Actions.\\n* Ensure seamless integration and deployment processes with automated testing and validation.\\n* **Collaboration and Communication:**\\n* Work closely with development teams to integrate security and observability into the development lifecycle (DevSecOps).\\n* Conduct regular training sessions on security practices, compliance requirements, and observability tools.\\n* Participate in daily scrums, sprint planning, and retrospectives to align on project goals and deliverables.\\n* **Partner and Customer Integration Support:**\\n* Collaborate with partners to support and implement integrations with FundMore's platform.\\n* Work with customers' internal IT teams to ensure smooth integration and operation of FundMore’s solutions.\\n* Assist the Customer Success team in answering technical operations questions and resolving issues related to infrastructure, security, and performance.\\n\\n**Qualifications:**\\n\\n* Bachelor’s degree in Computer Science, Information Technology, or related field.\\n* 5+ years of experience in DevOps roles, with a focus on AWS cloud infrastructure, serverless technologies, security, and observability.\\n* Proficiency in AWS services, including Lambda, API Gateway, CloudFront, S3, RDS, and IAM.\\n* Experience with automation and configuration management tools like Serverless Framework, AWS CloudFormation, Terraform, or Ansible.\\n* Strong understanding of network and data security principles, including encryption, IAM, and security monitoring.\\n* Familiarity with compliance frameworks such as SOC 2, GDPR, and ISO.\\n* Proven experience with observability tools such as AWS CloudWatch, GuardDuty, Prometheus, and Grafana.\\n* Experience with NodeJS, NestJS, and PostgreSQL.\\n* Excellent problem-solving skills and the ability to perform under pressure.\\n* Strong communication and collaboration skills.\\n\\n**Preferred Skills:**\\n\\n* AWS certifications (e.g., AWS Certified Solutions Architect, AWS Certified DevOps Engineer).\\n* Knowledge of microservices architecture.\\n* Experience with modern CI/CD tools and practices.\\n* Familiarity with agile development methodologies and tools like Github and Jira.\\n\\n**Why FundMore:**\\n\\n* Competitive salary and benefits package.\\n* Opportunity to work with cutting-edge technologies in a dynamic and innovative environment.\\n* Collaborative and inclusive company culture.\\n* Continuous learning and professional development opportunities.\\n\\n**How to Apply:**\\n\\nInterested candidates are invited to submit their resume and cover letter detailing their relevant experience and interest in the position to HR@fundmore.ai.\\n\\nFundMore is an equal opportunity employer. We celebrate diversity and are committed to creating an inclusive environment for all employees.\\n\\nJob Type: Full-time\\n\\nBenefits:\\n\\n* Dental care\\n* Extended health care\\n* Paid time off\\n\\nExperience:\\n\\n* DevOps: 3 years (required)\\n\\nWork Location: Hybrid remote in Toronto, ON M5J 2P1\\n\\nApplication deadline: 2024-08-01  \\nExpected start date: 2024-09-01\",\n",
       " 'ARE YOU READY to step up and take your technology expertise to the next level?  \\n\\nThere is never a typical day at Accenture, but that’s why we love it here! This is an extraordinary chance to create a rewarding career at Accenture Technology. Working in a digitally driven, innovation-led environment where you can help clients shift to the New using leading-edge technologies on some of the coolest projects you can imagine.\\n\\n\\nWe are:  \\n\\nAccenture’s SAP practice, and we bring the New to life using design thinking, agile development methodologies, and the latest smart tech like IoT, automation, and AI. We even built myConcerto, a mix of SAP and Accenture that helps lead our clients to big wins. Ready to learn as much as you can? We train our people on \"new\" SAP like SAP Leonardo, S/4HANA and Cloud, and we offer classes and support through our 50,000+ member community. It’s also nice to know our hard work doesn’t go unrecognized. We’ve got over 70 SAP awards—more than any other partner—and we’re the leading business partner for SAP SuccessFactors, SAP Ariba, SAP Hybris, SAP FieldGlass, SAP Concur, and more. Visit us here to find out more about Accenture\\'s SAP practice.\\n\\n\\nProject Role Description:  \\n\\nDesign business processes, including characteristics and key performance indicators (KPIs), to meet process and functional requirements. Work closely with the Application Architect to create the process blueprint and establish business process requirements to drive out application requirements and metrics. Role includes implementing, customizing, and maintaining SAP solutions in the areas of Production Planning and Quality Management. Work involves close interactions with clients to understand their business requirements, translate them into functional specifications, and leverage your expertise to configure and optimize SAP PP/QM modules.\\n\\n\\nKey Responsibilities:  \\n\\n* Blueprint, Design, Build of SAP S4 PP & QM environment to meet business process and application requirements. Provide Solutioning to specific client requirements\\n* Should be able to drive discussion with the client and conduct workshops\\n* Should be able to drive SAP PP & QM project deliverables and liaison with partner teams\\n* Collaborate with stakeholders to gather and analyze business requirements related to Production Planning and Quality Management.\\n* Play the role of stream lead for individual SAP PP & QM functionalities and establishing business processes\\n* Implement and deploy SAP solutions, including integration with other SAP modules and external systems.\\n* Conduct system testing, assist in user acceptance testing (UAT), and provide post-go-live support.\\n* Develop and maintain technical documentation, process flow diagrams, and training materials.\\n* Provide guidance and support to end-users on SAP PP/QM functionality, troubleshooting issues as they arise.\\n* Stay updated with SAP releases, new features, and industry trends to recommend and implement continuous improvements.\\n* Collaborate with cross-functional teams, including SAP developers, business analysts, and project managers, to deliver high-quality solutions.\\n\\n  \\n\\nHere’s what you need:  \\n\\n* Minimum of 7 years experience in end to end SAP PP and QM implementation as well as experience integrating with other SAP modules.\\n* Minimum of 2 years experience with S/4 Hana\\n* Minimum of 1 year experience managing teams in a Global Delivery module\\n* Bachelor\\'s degree or equivalent\\n* Ability to act as a Functional Solution Architect within the functional area, providing high-level design expertise.\\n* Extensive experience in SAP S/4 transformations and a track record of successful project implementations.\\n* Proven capability in defining functional roadmaps and strategies for clients.\\n* Experience in leading business process reengineering efforts to optimize finance-related workflows and enhance process efficiency.\\n* Ability to collaborate with stakeholders at various levels, including C-suite executives, to present functional strategies and gain buy-in.\\n* English is required for this position as this role will regularly interact with stakeholders across\\n\\n\\nCanada, US and other countries across our Global footprint where English is the common  \\n\\nlanguage. Due to the significant high volume of interactions with these English-speaking  \\n\\nstakeholders, which is inherent to this position, it is not possible to reorganize the company\\'s  \\n\\nactivities to avoid this requirement\\nBonus points if:  \\n\\n* You are fluent in French\\n* You’ve got external consulting experience\\n* You know how SAP’s business development process works and you can help clients understand how SAP will help their company do more\\n\\n#LI-NA  \\n\\n#LI-MP',\n",
       " \"### **About NeuraFlash:**\\n\\n\\n\\nWe are a leading AI and Consulting Partner of Amazon & Salesforce obsessed with helping our customers transform their contact centers with AI Powered Experiences. Our expertise spans across the Amazon ecosystem with Amazon Connect, Lex & Contact Lens and Salesforce ecosystem with Service Cloud Voice, Einstein Bots and Digital Channels, Service Cloud, Field Service, CPQ, MuleSoft, and Einstein Analytics. We are experts in building experiences grounded in data that transform and optimize the employee and customer journey.\\n\\n\\n### **What sets NeuraFlash apart?**\\n\\n\\n\\nJoin NeuraFlash, where growth is not just a goal, but a way of life! Since our inception in 2016, we've been on a rocket ship, soaring to an average of 35%+ growth year over year. This rapid expansion has unlocked a world of exciting career opportunities for our team.\\n\\n\\n\\nImagine stepping into the heart of innovation, working with cutting-edge technologies like Salesforce, GenAI, and Amazon. Here, you won't just keep pace with the industry; you'll set it!\\n\\n\\n\\nBut growth isn't just about the company; it's about you. At NeuraFlash, we believe in endless learning. Our technical boot camps are your gateway to mastering new skills and technologies. Whether you're diving into GenAI or conquering Service Cloud Voice, we've got your back.\\n\\n\\n\\nOur success is rooted in the satisfaction of our customers, and our exceptional CSAT score reflects that. Join our team, and you'll play a pivotal role in leading these impactful initiatives, contributing to meaningful change.\\n\\n\\n\\nWe are committed to nurturing positive working relationships, enabling us to harness the full potential of our team and drive success collectively. Through annual meet-ups in North America and India, as well as quarterly events online or in various regions, you'll build strong, cross-border relationships with teammates around the world.\\n\\n\\n\\nReady to become part of the NeuraFlash team? Let's redefine growth and innovation together!\\n\\n\\nWe are looking for a Solution Architect (CPQ) to join our amazing Lead-to-Cash team! You'll bring Salesforce Sales Cloud & CPQ project implementations to life by working with our customers to understand their business, identify their requirements, then leading the team through design, development, QA and launch of their solutions. We are building a best-in-class team and this role will have the opportunity to make significant contributions working with the rest of our talented team, exciting customers, and partnering closely with our Salesforce and AI Teams! As the Architect on the project, you will own overall design success and lead the development team in building awesome client solutions.\\n\\n\\n**You'll have the opportunity to:**\\n\\n\\n* Work with our customers to define requirements, propose & deliver solutions related to their Sales processes\\n* Support architecture and own configuring best-in-class implementations of CPQ and Sales Cloud.\\n* Configure Salesforce Solutions using point and click tools available on the platform eg. Process Builder and Visual Flows\\n* Understand and leverage Salesforce Platform to implement scalable solutions\\n* Partner with our Artificial Intelligence team to create innovative Salesforce solutions for our customers\\n* Coach and mentor your junior team members on best practices to deliver your projects\\n* Interface directly with Salesforce to craft new solution perspectives\\n* Support our Pre-Sales team with industry perspectives, demos, and deal execution\\n* Craft thought leadership pieces that accelerate the NeuraFlash brand within the Sales Transformations space\\n* Quickly acquire new technical expertise and understanding of latest Salesforce features and major launches\\n\\n\\n**Requirements:**\\n\\n\\n* 5+ years project experience in a hands-on position\\n* 10+ implementations experience of Salesforce CPQ or Sales Cloud\\n* 5+ years of experience with Salesforce in a development or configuration capacity\\n* Understanding of Sales, Sales Operations, Product, and Business Operations with experience solving Complex Use Cases utilizing the breadth of the Salesforce Platform\\n* Hands-on experience on building Salesforce CPQ package elements, Custom Applications, Lightning Experience, Visual Flows, Process Builders, and other Salesforce platform tools.\\n* Understanding of Release Management, Application Lifecycle Management, Development Lifecycle and Deployment Best Practices and Governance.\\n* Client Facing Experience in the following areas: Pre-Sales Activities, Project Management/Ownership, Discovery and Design, Delivering Solution Options to Customers, Enterprise Application Architecture.\\n* Solid understanding of Salesforce Platform and its architecture.\\n\\n\\n**Preferred Skills:**\\n\\n\\n* Experience coaching and mentoring Salesforce talent\\n* Attention towards detail – detail oriented\\n* Strong team player\\n* Great communication skills\\n* Keep an open mind and must be flexible to change\\n* Any Salesforce Certifications is a Plus, preferably Salesforce CPQ , Service Cloud, Experience Cloud, Sales Cloud or Field Service Consultant.\\n\\n### **What's it like to be a part of NeuraFlash?**\\n\\n\\n* Remote & In-Person: Whether you work out of our HQ in Massachusetts, one of our regional hubs, our India office, or you're one of over half of our NeuraFlash Family who work remotely, we're focused on keeping everyone connected and unified as one team.\\n* Travel: Get ready to pack your bags and hit the road! For certain roles, travel is an exciting part of the job, with an anticipated travel commitment of up to 25%. So, if you have a passion for adventure and don't mind a little jet-setting, this opportunity could be your ticket to exploring new places while making a positive impact on clients.\\n* Flexibility: Do you have to take the dog to the vet, pick up the kids from school, or the in-laws from the airport? We know that a perfect 9-5 isn't possible. So you have to jump out to do any of those, no problem! We build a culture of trust and understanding. We value good work not the hours in which you get it done\\n* Collaboration: You have a voice here! If you work with a team of smart people like we do, it's a no-brainer to take suggestions and feedback on how to keep NeuraFlash thriving. Our executive team holds town halls & company meetings where they address any suggestions or questions asked, no matter how big or small.\\n* Celebrate Often: We take our work seriously, but we don't take ourselves too seriously. Whether it is an arm wrestling contest, costume party, or ugly holiday sweaters our teams love to have fun. And while we work hard, we don't forget to slow down and celebrate the big things and the small things together.\\n\\n\\n*Location: NeuraFlash strives to provide you with the flexibility to work in the location that makes the most sense for your lifestyle. For those that prefer an office setting, this role may be based in any of our hub locations within the United States, and India. If you prefer to work from your home, we can accommodate remote locations anywhere in the United States for our U.S. based employees, anywhere within British Columbia and Ontario for our Canadian employees, and anywhere within Colombia for our Colombian based employees!*\",\n",
       " \"### **About NeuraFlash:**\\n\\n\\n\\nWe are a leading AI and Consulting Partner of Amazon & Salesforce obsessed with helping our customers transform their contact centers with AI Powered Experiences. Our expertise spans across the Amazon ecosystem with Amazon Connect, Lex & Contact Lens and Salesforce ecosystem with Service Cloud Voice, Einstein Bots and Digital Channels, Service Cloud, Field Service, CPQ, MuleSoft, and Einstein Analytics. We are experts in building experiences grounded in data that transform and optimize the employee and customer journey.\\n\\n\\n### **What sets NeuraFlash apart?**\\n\\n\\n\\nJoin NeuraFlash, where growth is not just a goal, but a way of life! Since our inception in 2016, we've been on a rocket ship, soaring to an average of 35%+ growth year over year. This rapid expansion has unlocked a world of exciting career opportunities for our team.\\n\\n\\n\\nImagine stepping into the heart of innovation, working with cutting-edge technologies like Salesforce, GenAI, and Amazon. Here, you won't just keep pace with the industry; you'll set it!\\n\\n\\n\\nBut growth isn't just about the company; it's about you. At NeuraFlash, we believe in endless learning. Our technical boot camps are your gateway to mastering new skills and technologies. Whether you're diving into GenAI or conquering Service Cloud Voice, we've got your back.\\n\\n\\n\\nOur success is rooted in the satisfaction of our customers, and our exceptional CSAT score reflects that. Join our team, and you'll play a pivotal role in leading these impactful initiatives, contributing to meaningful change.\\n\\n\\n\\nWe are committed to nurturing positive working relationships, enabling us to harness the full potential of our team and drive success collectively. Through annual meet-ups in North America and India, as well as quarterly events online or in various regions, you'll build strong, cross-border relationships with teammates around the world.\\n\\n\\n\\nReady to become part of the NeuraFlash team? Let's redefine growth and innovation together!\\n\\n\\nWe are looking for a Solution Architect (CPQ) to join our amazing Lead-to-Cash team! You'll bring Salesforce Sales Cloud & CPQ project implementations to life by working with our customers to understand their business, identify their requirements, then leading the team through design, development, QA and launch of their solutions. We are building a best-in-class team and this role will have the opportunity to make significant contributions working with the rest of our talented team, exciting customers, and partnering closely with our Salesforce and AI Teams! As the Architect on the project, you will own overall design success and lead the development team in building awesome client solutions.\\n\\n\\n**You'll have the opportunity to:**\\n\\n\\n* Work with our customers to define requirements, propose & deliver solutions related to their Sales processes\\n* Support architecture and own configuring best-in-class implementations of CPQ and Sales Cloud.\\n* Configure Salesforce Solutions using point and click tools available on the platform eg. Process Builder and Visual Flows\\n* Understand and leverage Salesforce Platform to implement scalable solutions\\n* Partner with our Artificial Intelligence team to create innovative Salesforce solutions for our customers\\n* Coach and mentor your junior team members on best practices to deliver your projects\\n* Interface directly with Salesforce to craft new solution perspectives\\n* Support our Pre-Sales team with industry perspectives, demos, and deal execution\\n* Craft thought leadership pieces that accelerate the NeuraFlash brand within the Sales Transformations space\\n* Quickly acquire new technical expertise and understanding of latest Salesforce features and major launches\\n\\n\\n**Requirements:**\\n\\n\\n* 5+ years project experience in a hands-on position\\n* 10+ implementations experience of Salesforce CPQ or Sales Cloud\\n* 5+ years of experience with Salesforce in a development or configuration capacity\\n* Understanding of Sales, Sales Operations, Product, and Business Operations with experience solving Complex Use Cases utilizing the breadth of the Salesforce Platform\\n* Hands-on experience on building Salesforce CPQ package elements, Custom Applications, Lightning Experience, Visual Flows, Process Builders, and other Salesforce platform tools.\\n* Understanding of Release Management, Application Lifecycle Management, Development Lifecycle and Deployment Best Practices and Governance.\\n* Client Facing Experience in the following areas: Pre-Sales Activities, Project Management/Ownership, Discovery and Design, Delivering Solution Options to Customers, Enterprise Application Architecture.\\n* Solid understanding of Salesforce Platform and its architecture.\\n\\n\\n**Preferred Skills:**\\n\\n\\n* Experience coaching and mentoring Salesforce talent\\n* Attention towards detail – detail oriented\\n* Strong team player\\n* Great communication skills\\n* Keep an open mind and must be flexible to change\\n* Any Salesforce Certifications is a Plus, preferably Salesforce CPQ , Service Cloud, Experience Cloud, Sales Cloud or Field Service Consultant.\\n\\n### **What's it like to be a part of NeuraFlash?**\\n\\n\\n* Remote & In-Person: Whether you work out of our HQ in Massachusetts, one of our regional hubs, our India office, or you're one of over half of our NeuraFlash Family who work remotely, we're focused on keeping everyone connected and unified as one team.\\n* Travel: Get ready to pack your bags and hit the road! For certain roles, travel is an exciting part of the job, with an anticipated travel commitment of up to 25%. So, if you have a passion for adventure and don't mind a little jet-setting, this opportunity could be your ticket to exploring new places while making a positive impact on clients.\\n* Flexibility: Do you have to take the dog to the vet, pick up the kids from school, or the in-laws from the airport? We know that a perfect 9-5 isn't possible. So you have to jump out to do any of those, no problem! We build a culture of trust and understanding. We value good work not the hours in which you get it done\\n* Collaboration: You have a voice here! If you work with a team of smart people like we do, it's a no-brainer to take suggestions and feedback on how to keep NeuraFlash thriving. Our executive team holds town halls & company meetings where they address any suggestions or questions asked, no matter how big or small.\\n* Celebrate Often: We take our work seriously, but we don't take ourselves too seriously. Whether it is an arm wrestling contest, costume party, or ugly holiday sweaters our teams love to have fun. And while we work hard, we don't forget to slow down and celebrate the big things and the small things together.\\n\\n\\n*Location: NeuraFlash strives to provide you with the flexibility to work in the location that makes the most sense for your lifestyle. For those that prefer an office setting, this role may be based in any of our hub locations within the United States, and India. If you prefer to work from your home, we can accommodate remote locations anywhere in the United States for our U.S. based employees, anywhere within British Columbia and Ontario for our Canadian employees, and anywhere within Colombia for our Colombian based employees!*\",\n",
       " 'ARE YOU READY to step up and take your technology expertise to the next level?  \\n\\nThere is never a typical day at Accenture, but that’s why we love it here! This is an extraordinary chance to create a rewarding career at Accenture Technology. Working in a digitally driven, innovation-led environment where you can help clients shift to the New using leading-edge technologies on some of the coolest projects you can imagine.\\n\\n\\nWe are:  \\n\\nAccenture’s SAP practice, and we bring the New to life using design thinking, agile development methodologies, and the latest smart tech like IoT, automation, and AI. We even built myConcerto, a mix of SAP and Accenture that helps lead our clients to big wins. Ready to learn as much as you can? We train our people on \"new\" SAP like SAP Leonardo, S/4HANA and Cloud, and we offer classes and support through our 50,000+ member community. It’s also nice to know our hard work doesn’t go unrecognized. We’ve got over 70 SAP awards—more than any other partner—and we’re the leading business partner for SAP SuccessFactors, SAP Ariba, SAP Hybris, SAP FieldGlass, SAP Concur, and more. Visit us here to find out more about Accenture\\'s SAP practice.\\n\\n\\nProject Role Description:  \\n\\nDesign business processes, including characteristics and key performance indicators (KPIs), to meet process and functional requirements. Work closely with the Application Architect to create the process blueprint and establish business process requirements to drive out application requirements and metrics. Role includes implementing, customizing, and maintaining SAP solutions in the areas of Production Planning and Quality Management. Work involves close interactions with clients to understand their business requirements, translate them into functional specifications, and leverage your expertise to configure and optimize SAP PP/QM modules.\\n\\n\\nKey Responsibilities:  \\n\\n* Blueprint, Design, Build of SAP S4 PP & QM environment to meet business process and application requirements. Provide Solutioning to specific client requirements\\n* Should be able to drive discussion with the client and conduct workshops\\n* Should be able to drive SAP PP & QM project deliverables and liaison with partner teams\\n* Collaborate with stakeholders to gather and analyze business requirements related to Production Planning and Quality Management.\\n* Play the role of stream lead for individual SAP PP & QM functionalities and establishing business processes\\n* Implement and deploy SAP solutions, including integration with other SAP modules and external systems.\\n* Conduct system testing, assist in user acceptance testing (UAT), and provide post-go-live support.\\n* Develop and maintain technical documentation, process flow diagrams, and training materials.\\n* Provide guidance and support to end-users on SAP PP/QM functionality, troubleshooting issues as they arise.\\n* Stay updated with SAP releases, new features, and industry trends to recommend and implement continuous improvements.\\n* Collaborate with cross-functional teams, including SAP developers, business analysts, and project managers, to deliver high-quality solutions.\\n\\n  \\n\\nHere’s what you need:  \\n\\n* Minimum of 7 years experience in end to end SAP PP and QM implementation as well as experience integrating with other SAP modules.\\n* Minimum of 2 years experience with S/4 Hana\\n* Minimum of 1 year experience managing teams in a Global Delivery module\\n* Bachelor\\'s degree or equivalent\\n* Ability to act as a Functional Solution Architect within the functional area, providing high-level design expertise.\\n* Extensive experience in SAP S/4 transformations and a track record of successful project implementations.\\n* Proven capability in defining functional roadmaps and strategies for clients.\\n* Experience in leading business process reengineering efforts to optimize finance-related workflows and enhance process efficiency.\\n* Ability to collaborate with stakeholders at various levels, including C-suite executives, to present functional strategies and gain buy-in.\\n* English is required for this position as this role will regularly interact with stakeholders across\\n\\n\\nCanada, US and other countries across our Global footprint where English is the common  \\n\\nlanguage. Due to the significant high volume of interactions with these English-speaking  \\n\\nstakeholders, which is inherent to this position, it is not possible to reorganize the company\\'s  \\n\\nactivities to avoid this requirement\\nBonus points if:  \\n\\n* You are fluent in French\\n* You’ve got external consulting experience\\n* You know how SAP’s business development process works and you can help clients understand how SAP will help their company do more\\n\\n#LI-NA  \\n\\n#LI-MP',\n",
       " \"AWS Cloud Infrastructure, Serverless, Security, Compliance, and Observability\\n\\n**Position Overview:**\\n\\nFundMore is seeking a talented and dedicated DevOps Engineer to join our dynamic team. The ideal candidate will play a crucial role in managing our AWS-based cloud infrastructure, enhancing our security and compliance measures, continuously improving our observability stack and monitoring practices, and collaborating with partners and customers. This position requires a deep understanding of AWS services, serverless technologies, security best practices, and modern observability tools, as well as experience with NodeJS, NestJS, and PostgreSQL.\\n\\n**Key Responsibilities:**\\n\\n* **AWS Cloud Infrastructure Management:**\\n* Design, implement, and manage scalable, secure AWS cloud infrastructure.\\n* Utilize AWS services such as EC2, S3, RDS, Lambda, API Gateway, CloudFront, and Cognito to build robust, serverless solutions.\\n* Ensure high availability, fault tolerance, and disaster recovery capabilities of AWS systems.\\n* Automate infrastructure provisioning and management using Serverless Framework and AWS CloudFormation.\\n* **System Architecture:**\\n* Develop and maintain cloud applications using AWS Lambda and other serverless services.\\n* Optimize cloud deployments for performance, cost, and scalability.\\n* Implement best practices for cloud based, serverless microservice application development and deployment.\\n* **Security and Compliance:**\\n* Implement and enforce security best practices and compliance standards (SOC 2, GDPR, ISO).\\n* Manage IAM roles and policies to ensure least privilege access.\\n* Conduct regular security audits, vulnerability assessments, and penetration testing.\\n* Maintain comprehensive documentation of security and compliance measures.\\n* **Observability and Monitoring:**\\n* Develop and enhance the observability stack, including logging, monitoring, and alerting systems.\\n* Implement and manage monitoring tools such as AWS CloudWatch, GuardDuty, Security Hub, Prometheus, and Grafana.\\n* Ensure comprehensive visibility into system performance, availability, and security.\\n* Set up automated alerts for key metrics and incidents.\\n* **CI/CD Pipeline Management:**\\n* Maintain and optimize CI/CD pipelines using tools like AWS CodePipeline, CodeBuild, and GitHub Actions.\\n* Ensure seamless integration and deployment processes with automated testing and validation.\\n* **Collaboration and Communication:**\\n* Work closely with development teams to integrate security and observability into the development lifecycle (DevSecOps).\\n* Conduct regular training sessions on security practices, compliance requirements, and observability tools.\\n* Participate in daily scrums, sprint planning, and retrospectives to align on project goals and deliverables.\\n* **Partner and Customer Integration Support:**\\n* Collaborate with partners to support and implement integrations with FundMore's platform.\\n* Work with customers' internal IT teams to ensure smooth integration and operation of FundMore’s solutions.\\n* Assist the Customer Success team in answering technical operations questions and resolving issues related to infrastructure, security, and performance.\\n\\n**Qualifications:**\\n\\n* Bachelor’s degree in Computer Science, Information Technology, or related field.\\n* 5+ years of experience in DevOps roles, with a focus on AWS cloud infrastructure, serverless technologies, security, and observability.\\n* Proficiency in AWS services, including Lambda, API Gateway, CloudFront, S3, RDS, and IAM.\\n* Experience with automation and configuration management tools like Serverless Framework, AWS CloudFormation, Terraform, or Ansible.\\n* Strong understanding of network and data security principles, including encryption, IAM, and security monitoring.\\n* Familiarity with compliance frameworks such as SOC 2, GDPR, and ISO.\\n* Proven experience with observability tools such as AWS CloudWatch, GuardDuty, Prometheus, and Grafana.\\n* Experience with NodeJS, NestJS, and PostgreSQL.\\n* Excellent problem-solving skills and the ability to perform under pressure.\\n* Strong communication and collaboration skills.\\n\\n**Preferred Skills:**\\n\\n* AWS certifications (e.g., AWS Certified Solutions Architect, AWS Certified DevOps Engineer).\\n* Knowledge of microservices architecture.\\n* Experience with modern CI/CD tools and practices.\\n* Familiarity with agile development methodologies and tools like Github and Jira.\\n\\n**Why FundMore:**\\n\\n* Competitive salary and benefits package.\\n* Opportunity to work with cutting-edge technologies in a dynamic and innovative environment.\\n* Collaborative and inclusive company culture.\\n* Continuous learning and professional development opportunities.\\n\\n**How to Apply:**\\n\\nInterested candidates are invited to submit their resume and cover letter detailing their relevant experience and interest in the position to HR@fundmore.ai.\\n\\nFundMore is an equal opportunity employer. We celebrate diversity and are committed to creating an inclusive environment for all employees.\\n\\nJob Type: Full-time\\n\\nBenefits:\\n\\n* Dental care\\n* Extended health care\\n* Paid time off\\n\\nExperience:\\n\\n* DevOps: 3 years (required)\\n\\nWork Location: Hybrid remote in Toronto, ON M5J 2P1\\n\\nApplication deadline: 2024-08-01  \\nExpected start date: 2024-09-01\"]"
      ]
     },
     "execution_count": 5,
     "metadata": {},
     "output_type": "execute_result"
    }
   ],
   "source": [
    "jds"
   ]
  },
  {
   "cell_type": "code",
   "execution_count": 9,
   "id": "eeb54743",
   "metadata": {},
   "outputs": [],
   "source": [
    "from similarity import get_similarity"
   ]
  },
  {
   "cell_type": "code",
   "execution_count": 10,
   "id": "83e935b2",
   "metadata": {},
   "outputs": [
    {
     "name": "stdout",
     "output_type": "stream",
     "text": [
      "Similarity Score: tensor([0.2979, 0.3569, 0.4027, 0.4027, 0.3569, 0.2979])\n"
     ]
    }
   ],
   "source": [
    "get_similarity(text, jds)"
   ]
  },
  {
   "cell_type": "code",
   "execution_count": null,
   "id": "72ceb927",
   "metadata": {},
   "outputs": [],
   "source": []
  }
 ],
 "metadata": {
  "kernelspec": {
   "display_name": "Python 3 (ipykernel)",
   "language": "python",
   "name": "python3"
  },
  "language_info": {
   "codemirror_mode": {
    "name": "ipython",
    "version": 3
   },
   "file_extension": ".py",
   "mimetype": "text/x-python",
   "name": "python",
   "nbconvert_exporter": "python",
   "pygments_lexer": "ipython3",
   "version": "3.12.7"
  }
 },
 "nbformat": 4,
 "nbformat_minor": 5
}
