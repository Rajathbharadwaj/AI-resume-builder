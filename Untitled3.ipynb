{
 "cells": [
  {
   "cell_type": "code",
   "execution_count": 1,
   "id": "84e016ec-f292-4823-b1d5-3ad05d208bfe",
   "metadata": {},
   "outputs": [
    {
     "name": "stderr",
     "output_type": "stream",
     "text": [
      "/Users/rajathdb/miniconda3/envs/lc/lib/python3.10/site-packages/sentence_transformers/cross_encoder/CrossEncoder.py:11: TqdmExperimentalWarning: Using `tqdm.autonotebook.tqdm` in notebook mode. Use `tqdm.tqdm` instead to force console mode (e.g. in jupyter console)\n",
      "  from tqdm.autonotebook import tqdm, trange\n"
     ]
    },
    {
     "data": {
      "application/vnd.jupyter.widget-view+json": {
       "model_id": "fa7ccdfca3654acf957d80938479b886",
       "version_major": 2,
       "version_minor": 0
      },
      "text/plain": [
       "modules.json:   0%|          | 0.00/229 [00:00<?, ?B/s]"
      ]
     },
     "metadata": {},
     "output_type": "display_data"
    },
    {
     "data": {
      "application/vnd.jupyter.widget-view+json": {
       "model_id": "fa536194249041abbddb32ea4050163f",
       "version_major": 2,
       "version_minor": 0
      },
      "text/plain": [
       "config_sentence_transformers.json:   0%|          | 0.00/122 [00:00<?, ?B/s]"
      ]
     },
     "metadata": {},
     "output_type": "display_data"
    },
    {
     "data": {
      "application/vnd.jupyter.widget-view+json": {
       "model_id": "13950a71f0b94a90b31eb9aaaf0338bb",
       "version_major": 2,
       "version_minor": 0
      },
      "text/plain": [
       "README.md:   0%|          | 0.00/3.99k [00:00<?, ?B/s]"
      ]
     },
     "metadata": {},
     "output_type": "display_data"
    },
    {
     "data": {
      "application/vnd.jupyter.widget-view+json": {
       "model_id": "848de49ff5164148b331a184124461b7",
       "version_major": 2,
       "version_minor": 0
      },
      "text/plain": [
       "sentence_bert_config.json:   0%|          | 0.00/53.0 [00:00<?, ?B/s]"
      ]
     },
     "metadata": {},
     "output_type": "display_data"
    },
    {
     "data": {
      "application/vnd.jupyter.widget-view+json": {
       "model_id": "76599d0ef704418f9a1cab9522e53886",
       "version_major": 2,
       "version_minor": 0
      },
      "text/plain": [
       "config.json:   0%|          | 0.00/625 [00:00<?, ?B/s]"
      ]
     },
     "metadata": {},
     "output_type": "display_data"
    },
    {
     "data": {
      "application/vnd.jupyter.widget-view+json": {
       "model_id": "6a79e2bd628b448989071feeb489231a",
       "version_major": 2,
       "version_minor": 0
      },
      "text/plain": [
       "model.safetensors:   0%|          | 0.00/438M [00:00<?, ?B/s]"
      ]
     },
     "metadata": {},
     "output_type": "display_data"
    },
    {
     "data": {
      "application/vnd.jupyter.widget-view+json": {
       "model_id": "e17b4f2468fe452b8325429fb5807f03",
       "version_major": 2,
       "version_minor": 0
      },
      "text/plain": [
       "tokenizer_config.json:   0%|          | 0.00/399 [00:00<?, ?B/s]"
      ]
     },
     "metadata": {},
     "output_type": "display_data"
    },
    {
     "data": {
      "application/vnd.jupyter.widget-view+json": {
       "model_id": "c357353ef0a24af7986ce8e3194711f4",
       "version_major": 2,
       "version_minor": 0
      },
      "text/plain": [
       "vocab.txt:   0%|          | 0.00/232k [00:00<?, ?B/s]"
      ]
     },
     "metadata": {},
     "output_type": "display_data"
    },
    {
     "data": {
      "application/vnd.jupyter.widget-view+json": {
       "model_id": "a73e246c322e4176b533b699c0b78d7e",
       "version_major": 2,
       "version_minor": 0
      },
      "text/plain": [
       "tokenizer.json:   0%|          | 0.00/466k [00:00<?, ?B/s]"
      ]
     },
     "metadata": {},
     "output_type": "display_data"
    },
    {
     "data": {
      "application/vnd.jupyter.widget-view+json": {
       "model_id": "0e3000c0b5df44ab9bba999cf632d768",
       "version_major": 2,
       "version_minor": 0
      },
      "text/plain": [
       "added_tokens.json:   0%|          | 0.00/2.00 [00:00<?, ?B/s]"
      ]
     },
     "metadata": {},
     "output_type": "display_data"
    },
    {
     "data": {
      "application/vnd.jupyter.widget-view+json": {
       "model_id": "c5a8bdb9fff64ed9b3fd8be63620d706",
       "version_major": 2,
       "version_minor": 0
      },
      "text/plain": [
       "special_tokens_map.json:   0%|          | 0.00/112 [00:00<?, ?B/s]"
      ]
     },
     "metadata": {},
     "output_type": "display_data"
    },
    {
     "data": {
      "application/vnd.jupyter.widget-view+json": {
       "model_id": "bd37fc87d0244a7980f50982af51acd4",
       "version_major": 2,
       "version_minor": 0
      },
      "text/plain": [
       "1_Pooling/config.json:   0%|          | 0.00/190 [00:00<?, ?B/s]"
      ]
     },
     "metadata": {},
     "output_type": "display_data"
    },
    {
     "name": "stdout",
     "output_type": "stream",
     "text": [
      "Similarity Score: 0.3643\n"
     ]
    },
    {
     "data": {
      "text/html": [
       "<pre style=\"white-space:pre;overflow-x:auto;line-height:normal;font-family:Menlo,'DejaVu Sans Mono',consolas,'Courier New',monospace\"><span style=\"color: #800000; text-decoration-color: #800000\">╭─────────────────────────────── </span><span style=\"color: #800000; text-decoration-color: #800000; font-weight: bold\">Traceback </span><span style=\"color: #bf7f7f; text-decoration-color: #bf7f7f; font-weight: bold\">(most recent call last)</span><span style=\"color: #800000; text-decoration-color: #800000\"> ────────────────────────────────╮</span>\n",
       "<span style=\"color: #800000; text-decoration-color: #800000\">│</span> in <span style=\"color: #00ff00; text-decoration-color: #00ff00\">&lt;module&gt;</span>:<span style=\"color: #0000ff; text-decoration-color: #0000ff\">93</span>                                                                                   <span style=\"color: #800000; text-decoration-color: #800000\">│</span>\n",
       "<span style=\"color: #800000; text-decoration-color: #800000\">│</span>                                                                                                  <span style=\"color: #800000; text-decoration-color: #800000\">│</span>\n",
       "<span style=\"color: #800000; text-decoration-color: #800000\">│</span>   <span style=\"color: #7f7f7f; text-decoration-color: #7f7f7f\">90 </span><span style=\"color: #7f7f7f; text-decoration-color: #7f7f7f\">│   </span><span style=\"color: #808000; text-decoration-color: #808000\">'Similarity Score'</span>: top_k_scores                                                        <span style=\"color: #800000; text-decoration-color: #800000\">│</span>\n",
       "<span style=\"color: #800000; text-decoration-color: #800000\">│</span>   <span style=\"color: #7f7f7f; text-decoration-color: #7f7f7f\">91 </span>})                                                                                          <span style=\"color: #800000; text-decoration-color: #800000\">│</span>\n",
       "<span style=\"color: #800000; text-decoration-color: #800000\">│</span>   <span style=\"color: #7f7f7f; text-decoration-color: #7f7f7f\">92 </span>                                                                                            <span style=\"color: #800000; text-decoration-color: #800000\">│</span>\n",
       "<span style=\"color: #800000; text-decoration-color: #800000\">│</span> <span style=\"color: #800000; text-decoration-color: #800000\">❱ </span>93 <span style=\"color: #0000ff; text-decoration-color: #0000ff\">import</span> <span style=\"color: #00ffff; text-decoration-color: #00ffff; text-decoration: underline\">ace_tools</span> <span style=\"color: #0000ff; text-decoration-color: #0000ff\">as</span> <span style=\"color: #00ffff; text-decoration-color: #00ffff; text-decoration: underline\">tools</span>; tools.display_dataframe_to_user(name=<span style=\"color: #808000; text-decoration-color: #808000\">\"Top k Suitable Jobs usi</span>    <span style=\"color: #800000; text-decoration-color: #800000\">│</span>\n",
       "<span style=\"color: #800000; text-decoration-color: #800000\">│</span>   <span style=\"color: #7f7f7f; text-decoration-color: #7f7f7f\">94 </span>                                                                                            <span style=\"color: #800000; text-decoration-color: #800000\">│</span>\n",
       "<span style=\"color: #800000; text-decoration-color: #800000\">│</span>   <span style=\"color: #7f7f7f; text-decoration-color: #7f7f7f\">95 </span><span style=\"color: #00ffff; text-decoration-color: #00ffff\">print</span>(top_k_df)                                                                             <span style=\"color: #800000; text-decoration-color: #800000\">│</span>\n",
       "<span style=\"color: #800000; text-decoration-color: #800000\">│</span>   <span style=\"color: #7f7f7f; text-decoration-color: #7f7f7f\">96 </span>                                                                                            <span style=\"color: #800000; text-decoration-color: #800000\">│</span>\n",
       "<span style=\"color: #800000; text-decoration-color: #800000\">╰──────────────────────────────────────────────────────────────────────────────────────────────────╯</span>\n",
       "<span style=\"color: #ff0000; text-decoration-color: #ff0000; font-weight: bold\">ModuleNotFoundError: </span>No module named <span style=\"color: #008000; text-decoration-color: #008000\">'ace_tools'</span>\n",
       "</pre>\n"
      ],
      "text/plain": [
       "\u001b[31m╭─\u001b[0m\u001b[31m──────────────────────────────\u001b[0m\u001b[31m \u001b[0m\u001b[1;31mTraceback \u001b[0m\u001b[1;2;31m(most recent call last)\u001b[0m\u001b[31m \u001b[0m\u001b[31m───────────────────────────────\u001b[0m\u001b[31m─╮\u001b[0m\n",
       "\u001b[31m│\u001b[0m in \u001b[92m<module>\u001b[0m:\u001b[94m93\u001b[0m                                                                                   \u001b[31m│\u001b[0m\n",
       "\u001b[31m│\u001b[0m                                                                                                  \u001b[31m│\u001b[0m\n",
       "\u001b[31m│\u001b[0m   \u001b[2m90 \u001b[0m\u001b[2m│   \u001b[0m\u001b[33m'\u001b[0m\u001b[33mSimilarity Score\u001b[0m\u001b[33m'\u001b[0m: top_k_scores                                                        \u001b[31m│\u001b[0m\n",
       "\u001b[31m│\u001b[0m   \u001b[2m91 \u001b[0m})                                                                                          \u001b[31m│\u001b[0m\n",
       "\u001b[31m│\u001b[0m   \u001b[2m92 \u001b[0m                                                                                            \u001b[31m│\u001b[0m\n",
       "\u001b[31m│\u001b[0m \u001b[31m❱ \u001b[0m93 \u001b[94mimport\u001b[0m \u001b[4;96mace_tools\u001b[0m \u001b[94mas\u001b[0m \u001b[4;96mtools\u001b[0m; tools.display_dataframe_to_user(name=\u001b[33m\"\u001b[0m\u001b[33mTop k Suitable Jobs usi\u001b[0m    \u001b[31m│\u001b[0m\n",
       "\u001b[31m│\u001b[0m   \u001b[2m94 \u001b[0m                                                                                            \u001b[31m│\u001b[0m\n",
       "\u001b[31m│\u001b[0m   \u001b[2m95 \u001b[0m\u001b[96mprint\u001b[0m(top_k_df)                                                                             \u001b[31m│\u001b[0m\n",
       "\u001b[31m│\u001b[0m   \u001b[2m96 \u001b[0m                                                                                            \u001b[31m│\u001b[0m\n",
       "\u001b[31m╰──────────────────────────────────────────────────────────────────────────────────────────────────╯\u001b[0m\n",
       "\u001b[1;91mModuleNotFoundError: \u001b[0mNo module named \u001b[32m'ace_tools'\u001b[0m\n"
      ]
     },
     "metadata": {},
     "output_type": "display_data"
    }
   ],
   "source": [
    "from sentence_transformers import SentenceTransformer\n",
    "from sklearn.metrics.pairwise import cosine_similarity\n",
    "import pandas as pd\n",
    "import numpy as np\n",
    "\n",
    "# Sample resume\n",
    "resume = \"Experienced machine learning engineer with expertise in computer vision and natural language processing.\"\n",
    "\n",
    "# Detailed job description\n",
    "job_description = \"\"\"\n",
    "**Working Title:** Software Engineer/ Back End Developer  \n",
    "\n",
    "**Employment Status:** [[filter10]]  \n",
    "\n",
    "**Starting Hourly Rate:** [[cusHourlyRate]]  \n",
    "\n",
    "**Address:** [[req\\\\_streetAddress]] Mississauga ON L5W 0B3  \n",
    "\n",
    "**New Hire Schedule:** [[req\\\\_newHireSchedule]]\n",
    "\n",
    "You might not know our name, but you know where we are. That’s because Compass Group Canada is part of a global foodservice and support services company that’s the 6th largest employer in the world, with 625,000 employees.\n",
    "\n",
    "You’ll find us in schools, colleges, hospitals, office buildings, senior living communities, tourist attractions, sports venues, remote camps and military installations and more. We’re in all major cities, at remote work sites and everywhere in between – doing business in Canada and 50+ other countries where you can learn and grow. Join us now and point your career forward!\n",
    "\n",
    "**Why work with Compass Digital?** We are a member of Compass Group North America the leading foodservice and support services company. We create remarkable customer experiences through the innovative design and development of technology products and services. Compass Digital began as an innovation startup and the team has since rapidly grown and now supports technology and innovation across all of North America. Compass digital is comprised of user experience designers, developers, data scientists, project managers, business analysts, marketers and technology implementation managers, all of whom look at the world from a human perspective to rethink what's possible in the areas of technology innovation and consumer engagement within the foodservice and hospitality industries. Join us.\n",
    "\n",
    "**Job Summary**\n",
    "---------------\n",
    "\n",
    "We are seeking a talented **Software Engineer** to join our dynamic team. The ideal candidate will be passionate about developing innovative solutions, possess a strong technical background, and thrive in a collaborative environment. As a Software Engineer, you will be responsible for designing, developing, and maintaining both front-end and back-end systems to meet our company's needs.\n",
    "\n",
    "Our group specializes in taking full advantage of large data sets to explore and discover new insights that would have not been possible with traditional analytics and delivering them to clients through our Data & AI platforms.\n",
    "\n",
    "This Role will work with our Data Scientists, Analytics Engineers, Front-End Engineers, and ML Engineers to build new AI powered applications. You will design, build, and deploy cloud native backend systems and infrastructure. Your work will be creating foundations for a new product to deliver Data Analytics and AI capabilities.\n",
    "\n",
    "Think you have what it takes to be our **Software Engineer**? We’re committed to hiring the best talent for the role. Here’s how we’ll know you’ll be successful in the role:\n",
    "\n",
    "* Bachelor's degree in Computer Science, Engineering, or equivalent experience;\n",
    "* Proficiency in front-end technologies such as HTML, CSS, JavaScript, Typescript, and modern frameworks like React or Vue.js.\n",
    "* Strong back-end development skills with expertise in one or more server-side languages such as Node.js and Python.\n",
    "* Experience with database systems (e.g., SQL, NoSQL) and ORM frameworks.\n",
    "* Familiarity with RESTful APIs, microservices architecture, and cloud computing platforms (e.g., AWS and GCP preferred).\n",
    "* Knowledge of version control systems (e.g., Git) and agile development methodologies.\n",
    "* Excellent problem-solving skills, attention to detail, and ability to work independently or in a team environment.\n",
    "* Excellent written and verbal communication skills with experience in relaying complex concepts to non-technical users\n",
    "\n",
    "Now, if you were to come onboard as our **Software Engineer**, we’d ask you to do the following for us:\n",
    "\n",
    "* Develop and maintain scalable web applications from concept to deployment.\n",
    "* Collaborate with cross-functional teams to define, design, and ship new features.\n",
    "* Architect and implement efficient and reusable systems.\n",
    "* Write clean, well-documented, and maintainable code following best practices.\n",
    "* Conduct code reviews, provide constructive feedback and mentor junior team members.\n",
    "* Stay up-to-date with emerging technologies and industry trends to drive continuous improvement.\n",
    "\n",
    "Compass Group Canada is committed to nurturing a diverse workforce representative of the communities within which we operate. We encourage and are pleased to consider all qualified candidates, without regard to race, colour, citizenship, religion, sex, marital / family status, sexual orientation, gender identity, aboriginal status, age, disability or persons who may require an accommodation, to apply.\n",
    "\n",
    "For accommodation requests during the hiring process, please contact PeopleHub@compass-canada.com for further information.\n",
    "\"\"\"\n",
    "\n",
    "# Load pre-trained Sentence Transformer model\n",
    "model = SentenceTransformer('bert-base-nli-mean-tokens')\n",
    "\n",
    "# Encode the resume and job description\n",
    "resume_embedding = model.encode(resume)  # Encoding the resume\n",
    "job_description_embedding = model.encode(job_description)  # Encoding the job description\n",
    "\n",
    "# Calculate cosine similarity\n",
    "similarity_score = cosine_similarity([resume_embedding], [job_description_embedding])[0][0]\n",
    "\n",
    "# Display the similarity score\n",
    "print(f\"Similarity Score: {similarity_score:.4f}\")\n",
    "\n",
    "# For multiple job descriptions, you can repeat the process and rank them by similarity score\n",
    "job_descriptions = [job_description]  # Add more job descriptions as needed\n",
    "job_embeddings = model.encode(job_descriptions)  # Encoding all job descriptions\n",
    "\n",
    "# Calculate similarities for all job descriptions\n",
    "similarity_scores = cosine_similarity([resume_embedding], job_embeddings)[0]\n",
    "\n",
    "# Rank and filter the top k most suitable jobs\n",
    "k = 3  # Number of top jobs to select\n",
    "top_k_indices = np.argsort(similarity_scores)[::-1][:k]\n",
    "top_k_jobs = [job_descriptions[i] for i in top_k_indices]\n",
    "top_k_scores = [similarity_scores[i] for i in top_k_indices]\n",
    "\n",
    "# Display the top k most suitable jobs\n",
    "top_k_df = pd.DataFrame({\n",
    "    'Job Description': top_k_jobs,\n",
    "    'Similarity Score': top_k_scores\n",
    "})\n",
    "\n",
    "import ace_tools as tools; tools.display_dataframe_to_user(name=\"Top k Suitable Jobs using Sentence Transformers\", dataframe=top_k_df)\n",
    "\n",
    "print(top_k_df)"
   ]
  },
  {
   "cell_type": "code",
   "execution_count": 1,
   "id": "3cf5f68e-6717-4e62-9ca6-512289b561b6",
   "metadata": {},
   "outputs": [],
   "source": [
    "import pandas as pd"
   ]
  },
  {
   "cell_type": "code",
   "execution_count": 2,
   "id": "8ef006d0-9717-4944-a5e1-a5048d336023",
   "metadata": {},
   "outputs": [],
   "source": [
    "job_csv = pd.read_csv('jobs.csv')\n"
   ]
  },
  {
   "cell_type": "code",
   "execution_count": 3,
   "id": "8be38369-4b58-489f-8b84-923a67059c8c",
   "metadata": {},
   "outputs": [
    {
     "data": {
      "text/plain": [
       "Index(['site', 'job_url', 'job_url_direct', 'title', 'company', 'location',\n",
       "       'job_type', 'date_posted', 'interval', 'min_amount', 'max_amount',\n",
       "       'currency', 'is_remote', 'emails', 'description', 'company_url',\n",
       "       'company_url_direct', 'company_addresses', 'company_industry',\n",
       "       'company_num_employees', 'company_revenue', 'company_description',\n",
       "       'logo_photo_url', 'banner_photo_url', 'ceo_name', 'ceo_photo_url'],\n",
       "      dtype='object')"
      ]
     },
     "execution_count": 3,
     "metadata": {},
     "output_type": "execute_result"
    }
   ],
   "source": [
    "job_csv.columns"
   ]
  },
  {
   "cell_type": "code",
   "execution_count": 4,
   "id": "fe431ea7-6d74-4ced-b4e2-d2050c70e2ec",
   "metadata": {},
   "outputs": [],
   "source": [
    "job_csv['description'] = job_csv['description'].fillna(\"\")"
   ]
  },
  {
   "cell_type": "code",
   "execution_count": 5,
   "id": "e0a21dbf-a192-4d7f-b71b-20e8ea5afd9e",
   "metadata": {},
   "outputs": [],
   "source": [
    "def is_incomplete(description):\n",
    "    # Check if the description is below a certain length threshold or contains placeholder text\n",
    "    return len(description) < 100 or '...' in description"
   ]
  },
  {
   "cell_type": "code",
   "execution_count": 6,
   "id": "c54d6940-e57a-4944-ba68-1b75a5427491",
   "metadata": {},
   "outputs": [
    {
     "name": "stdout",
     "output_type": "stream",
     "text": [
      "\n",
      "Boolean Series indicating incomplete descriptions:\n",
      "0     False\n",
      "1     False\n",
      "2     False\n",
      "3     False\n",
      "4     False\n",
      "      ...  \n",
      "69    False\n",
      "70     True\n",
      "71    False\n",
      "72     True\n",
      "73     True\n",
      "Name: description, Length: 74, dtype: bool\n"
     ]
    }
   ],
   "source": [
    "incomplete_series = job_csv['description'].apply(is_incomplete)\n",
    "print(\"\\nBoolean Series indicating incomplete descriptions:\")\n",
    "print(incomplete_series)"
   ]
  },
  {
   "cell_type": "code",
   "execution_count": 7,
   "id": "6c7f587b-7fe2-493e-9c60-91be761edcac",
   "metadata": {},
   "outputs": [
    {
     "name": "stdout",
     "output_type": "stream",
     "text": [
      "\n",
      "Inverted Boolean Series indicating complete descriptions:\n",
      "0      True\n",
      "1      True\n",
      "2      True\n",
      "3      True\n",
      "4      True\n",
      "      ...  \n",
      "69     True\n",
      "70    False\n",
      "71     True\n",
      "72    False\n",
      "73    False\n",
      "Name: description, Length: 74, dtype: bool\n"
     ]
    }
   ],
   "source": [
    "# Invert the boolean Series to get the opposite\n",
    "complete_series = ~incomplete_series\n",
    "print(\"\\nInverted Boolean Series indicating complete descriptions:\")\n",
    "print(complete_series)"
   ]
  },
  {
   "cell_type": "code",
   "execution_count": 8,
   "id": "4d1baee9-1e51-4a53-8271-a28572739edb",
   "metadata": {},
   "outputs": [],
   "source": [
    "filtered_df = job_csv[complete_series]\n"
   ]
  },
  {
   "cell_type": "code",
   "execution_count": 9,
   "id": "838f9536-f1c2-46ef-bd5b-dd131337f9dd",
   "metadata": {},
   "outputs": [],
   "source": [
    "jds = filtered_df['description'].to_list()"
   ]
  },
  {
   "cell_type": "code",
   "execution_count": 10,
   "id": "ec395a7d-4d9e-4c30-8253-4de22d597727",
   "metadata": {},
   "outputs": [
    {
     "name": "stderr",
     "output_type": "stream",
     "text": [
      "/Users/rajathdb/miniconda3/envs/lc/lib/python3.10/site-packages/sentence_transformers/cross_encoder/CrossEncoder.py:11: TqdmExperimentalWarning: Using `tqdm.autonotebook.tqdm` in notebook mode. Use `tqdm.tqdm` instead to force console mode (e.g. in jupyter console)\n",
      "  from tqdm.autonotebook import tqdm, trange\n"
     ]
    },
    {
     "name": "stdout",
     "output_type": "stream",
     "text": [
      "Similarity Score: tensor([0.3644, 0.4424, 0.2495, 0.3400, 0.3511, 0.2308, 0.3742, 0.5389, 0.3129,\n",
      "        0.3644, 0.2495, 0.4424, 0.3400, 0.3511, 0.3742, 0.5389, 0.2308, 0.3129,\n",
      "        0.2443, 0.2645, 0.2645, 0.3175, 0.3175, 0.3175, 0.2779, 0.2163, 0.2738,\n",
      "        0.2791])\n"
     ]
    },
    {
     "name": "stderr",
     "output_type": "stream",
     "text": [
      "/Users/rajathdb/miniconda3/envs/lc/lib/python3.10/site-packages/sentence_transformers/util.py:33: UserWarning: Creating a tensor from a list of numpy.ndarrays is extremely slow. Please consider converting the list to a single numpy.ndarray with numpy.array() before converting to a tensor. (Triggered internally at /Users/runner/work/pytorch/pytorch/pytorch/torch/csrc/utils/tensor_new.cpp:278.)\n",
      "  a = torch.tensor(a)\n"
     ]
    }
   ],
   "source": [
    "from sentence_transformers import SentenceTransformer, SimilarityFunction\n",
    "from sklearn.metrics.pairwise import cosine_similarity\n",
    "import pandas as pd\n",
    "import numpy as np\n",
    "\n",
    "# Resume text extracted from the PDF\n",
    "resume_text = \"\"\"\n",
    "Rajath Devadatta Bharadwaj Email: rjdevbharadwajb@gmail.com\n",
    "My Portfolio Mobile: +1-782-233-8008\n",
    "Github\n",
    "\n",
    "Education\n",
    "• Master of Science Computer Science - AI Specialization Windsor, ON\n",
    "University of Windsor - GPA:3.3/4.0 Sep 2022 - Present\n",
    "Courses: Intro to AI, Statistical Learning, Topics in AI, Neural Networks and Deep Learning\n",
    "• Bachelor of Engineering - Computer Science Bangalore, India\n",
    "Visvesvaraya Technological University (VTU) - GPA:8.51 Aug 2017 - Aug 2021\n",
    "Courses: Operating Systems, Data Structures, Analysis Of Algorithms, Artificial Intelligence, Networking, Databases, Java\n",
    "\n",
    "Profile of Skills\n",
    "• Languages: Python, JAVA, C++, SQL, Solidity\n",
    "• Frameworks: SpaCy, Streamlit, TensorFlow, PyTorch/Lightning, TensorRT, CUDA, Huggingface, numpy, sklearn\n",
    "• Tools: Kubernetes, Docker, GIT, NVIDIA NGC\n",
    "• Platforms: Linux, Web, NVIDIA Jetson, Raspberry, GCP\n",
    "• Crypto Technologies: DAOs, Web3, DeFi, NFTs, OpenZeppelin, Brownie\n",
    "\n",
    "Experience\n",
    "• Graduate Assistant In-person\n",
    "University of Windsor Sept 2022 - Present\n",
    "◦ Handling Labs: Teaching Masters in Applied Computing (MAC) students concepts of Advanced Computing Concepts\n",
    "using interactive Canva slides.\n",
    "◦ Projects: Assisted in developing practical projects related to ML model deployment and evaluation.\n",
    "◦ Debugging: Worked on building and debugging ML models to optimize performance and accuracy.\n",
    "• DL Fellow Remote\n",
    "Fellowship.ai Sept 2021 - Jan 2022\n",
    "◦ Conversational AI: Built an Athlete/Fitness coach bot using RASA. Blenderbot 2.0 was used to handle fallbacks\n",
    "RASA couldn’t handle.\n",
    "◦ Fallbacks: Semantic Document Search or SDS was leveraged in case both these bots weren’t able to convincingly answer\n",
    "a question.\n",
    "◦ Stable Pipelines: Designed and maintained stable pipelines for model training and evaluation, ensuring reproducible\n",
    "results.\n",
    "◦ Data Analytics: Used SQL, pandas, and Spark for data analytics and metric generation pipelines.\n",
    "• AI Solution Architect In-person\n",
    "BrainGrid Technologies Nov 2021 - Sept 2022\n",
    "◦ Optimizing Inference: Developed models on the TensorRT framework to reduce inference time loads resulting in\n",
    "increasing company’s efficiency to implement inference by 3%.\n",
    "◦ NVIDIA DGX: Led workshop for clients on NVIDIA’s DGX systems along with NGC Containers, received positive\n",
    "feedback on training with a business conversion around of 1%.\n",
    "◦ NVIDIA Jetson: Mentored clients on performing model inference using the Jetson Nano for edge use cases.\n",
    "◦ Systematic Debugging: Used a systematic approach to debug both data and system issues within ML models.\n",
    "\n",
    "Projects\n",
    "• EMO TalkGen (WIP): Enhancing Emotional Expressiveness in Talking Head Generation (Research). A research to enhance\n",
    "the emotion in Talking Head generation video using Diffusion Models. November 23 - Present\n",
    "• Automated Trading System: Developed an end-to-end automated trading system using DL and RL, achieving 79% trade\n",
    "accuracy. Tech: Python, Streamlit, Stable Baseline-3, OpenAI Gym, Selenium, TensorFlow, FBProphet. November 21 -\n",
    "Present\n",
    "• DL-based Gaming (Deep Learning, Computer Vision): Architected a DL model to analyze a game’s frames and predict\n",
    "the next move. Performed similarly to a newbie with an accuracy of 85%. Tech: Python, TensorFlow & OpenCV.\n",
    "• Action Recognition Tagging: Improved business revenue by 2% through accurate activity recognition in video frames using\n",
    "TensorFlow and OpenCV. Tech: Python, TensorFlow, OpenCV.\n",
    "• Conversational AI Chatbot: Created a chatbot for sports and fitness queries using Python, RASA, and Huggingface,\n",
    "improving user engagement. Tech: Python, RASA, Blenderbot, Huggingface\n",
    "• Autograder (Deep Learning, Computer Vision): An LSTM-CNN model to grade mathematics answer papers. Now\n",
    "using LLMs to grade the papers and enable automation Tech: Python, HuggingFace, Streamlit, LangChain\n",
    "\n",
    "Blogs/ Seminars & Tutorials\n",
    "• How does Orthogonalization relate to Machine Learning:\n",
    "• TF.data.experimental-service:\n",
    "• Auto Encoders using Tensorflow (SRM University, Chennai):\n",
    "• Reinforcement Learning:\n",
    "• YouTube:\n",
    "\"\"\"\n",
    "\n",
    "# Provided job description\n",
    "job_description = \"\"\"\n",
    "ATTENTION: LinkedIn is the only acceptable method to apply for this position. Limitless will contact the candidates selected. Please do not contact Limitless personnel via email or telephone. No other resumes will be considered using an alternative submission process.\n",
    "\n",
    "\n",
    "\n",
    "Our client is a well-established financial institution with a significant presence in North America. We are seeking a highly skilled Machine Learning and Artificial Intelligence Engineer to join their dynamic team. As a Machine Learning and AI Engineer, you will design, develop, and deploy state-of-the-art AI and machine learning models and algorithms. You will work closely with data scientists, software engineers, and domain experts to transform data into actionable insights and innovative solutions.\n",
    "\n",
    "\n",
    "\n",
    "Responsibilities:\n",
    "\n",
    "Design, implement, and evaluate machine learning and AI models and algorithms to solve complex problems.\n",
    "Gather, preprocess, and analyze large datasets to prepare them for model training and testing.\n",
    "Fine-tune and optimize algorithms for performance, scalability, and accuracy.\n",
    "Deploy AI and machine learning models into production environments, ensuring efficient operation and maintenance.\n",
    "Stay current with the latest research and advancements in AI and machine learning, and apply new techniques to existing and new projects.\n",
    "Work with cross-functional teams to understand business requirements and deliver tailored AI and machine learning solutions.\n",
    "Document processes, methodologies, and insights to support transparency and knowledge sharing within the team.\n",
    "\n",
    "\n",
    "Qualifications:\n",
    "\n",
    "Bachelor’s or Master’s degree in Computer Science, Data Science, Engineering, or a related field. A Ph.D. is a plus.\n",
    "Proven experience as a Machine Learning and AI Engineer or a similar role.\n",
    "Proficiency in Python and familiarity with libraries such as TensorFlow, PyTorch, and Scikit-Learn.\n",
    "Strong understanding of AI and machine learning algorithms, including deep learning, supervised, and unsupervised learning techniques.\n",
    "Experience with data preprocessing, feature engineering, model evaluation, and deployment.\n",
    "Knowledge of big data technologies (e.g., Hadoop, Spark) and cloud platforms (e.g., AWS, Azure) is a plus.\n",
    "Excellent problem-solving abilities and a strong analytical mindset.\n",
    "Ability to communicate complex technical concepts to non-technical stakeholders.\n",
    "Collaborative attitude and ability to work effectively\n",
    "\n",
    "\n",
    "Note: Position is for Limitless Staffing's client that will remain undisclosed until applicant is selected for interview.\n",
    "\"\"\"\n",
    "\n",
    "# Load pre-trained Sentence Transformer model\n",
    "model = SentenceTransformer('all-MiniLM-L6-v2', similarity_fn_name=SimilarityFunction.COSINE)\n",
    "\n",
    "# Encode the resume and job description\n",
    "resume_embedding = model.encode(resume_text)  # Encoding the resume\n",
    "# job_description_embedding = model.encode(job_description)  # Encoding the job description\n",
    "\n",
    "# Calculate cosine similarity\n",
    "# similarity_score = cosine_similarity([resume_embedding], [job_description_embedding])[0][0]\n",
    "\n",
    "#Display the similarity score\n",
    "\n",
    "# print(f\"Similarity Score: {similarity_score:.4f}\")\n",
    "\n",
    "# For multiple job descriptions, you can repeat the process and rank them by similarity score\n",
    "\n",
    "job_descriptions = jds  # Add more job descriptions as needed\n",
    "job_embeddings = model.encode(job_descriptions)  # Encoding all job descriptions\n",
    "\n",
    "# Calculate similarities for all job descriptions\n",
    "\n",
    "similarity_scores = model.similarity([resume_embedding], job_embeddings)[0]\n",
    "print(f\"Similarity Score: {similarity_scores}\")\n",
    "\n",
    "# Rank and filter the top k most suitable jobs\n",
    "\n",
    "k = 13  # Number of top jobs to select\n",
    "top_k_indices = np.argsort(similarity_scores)\n",
    "top_k_jobs = [job_descriptions[i] for i in top_k_indices]\n",
    "top_k_scores = [similarity_scores[i] for i in top_k_indices]\n",
    "\n",
    "#Display the top k most suitable jobs\n",
    "\n",
    "top_k_df = pd.DataFrame({\n",
    "'Job Description': top_k_jobs,\n",
    "'Similarity Score': top_k_scores\n",
    "})"
   ]
  },
  {
   "cell_type": "code",
   "execution_count": null,
   "id": "67346f1f-37ea-4e53-91d8-ba30538a9377",
   "metadata": {},
   "outputs": [],
   "source": []
  },
  {
   "cell_type": "code",
   "execution_count": 11,
   "id": "7f3abfe9-a23b-4a1d-9243-31f88297c24d",
   "metadata": {},
   "outputs": [
    {
     "data": {
      "text/plain": [
       "tensor([0.3644, 0.4424, 0.2495, 0.3400, 0.3511, 0.2308, 0.3742, 0.5389, 0.3129,\n",
       "        0.3644, 0.2495, 0.4424, 0.3400, 0.3511, 0.3742, 0.5389, 0.2308, 0.3129,\n",
       "        0.2443, 0.2645, 0.2645, 0.3175, 0.3175, 0.3175, 0.2779, 0.2163, 0.2738,\n",
       "        0.2791])"
      ]
     },
     "execution_count": 11,
     "metadata": {},
     "output_type": "execute_result"
    }
   ],
   "source": [
    "similarity_scores"
   ]
  },
  {
   "cell_type": "code",
   "execution_count": 12,
   "id": "509be147-1efb-485e-b1e8-5659424e3164",
   "metadata": {},
   "outputs": [
    {
     "data": {
      "text/plain": [
       "tensor([25,  5, 16, 18,  2, 10, 19, 20, 26, 24, 27,  8, 17, 22, 23, 21, 12,  3,\n",
       "        13,  4,  9,  0, 14,  6, 11,  1,  7, 15])"
      ]
     },
     "execution_count": 12,
     "metadata": {},
     "output_type": "execute_result"
    }
   ],
   "source": [
    "np.argsort(similarity_scores)"
   ]
  },
  {
   "cell_type": "code",
   "execution_count": 14,
   "id": "d9150802-1e86-4c6e-8ca0-a2fb9b1cd1ff",
   "metadata": {},
   "outputs": [
    {
     "data": {
      "text/html": [
       "<div>\n",
       "<style scoped>\n",
       "    .dataframe tbody tr th:only-of-type {\n",
       "        vertical-align: middle;\n",
       "    }\n",
       "\n",
       "    .dataframe tbody tr th {\n",
       "        vertical-align: top;\n",
       "    }\n",
       "\n",
       "    .dataframe thead th {\n",
       "        text-align: right;\n",
       "    }\n",
       "</style>\n",
       "<table border=\"1\" class=\"dataframe\">\n",
       "  <thead>\n",
       "    <tr style=\"text-align: right;\">\n",
       "      <th></th>\n",
       "      <th>Job Description</th>\n",
       "      <th>Similarity Score</th>\n",
       "    </tr>\n",
       "  </thead>\n",
       "  <tbody>\n",
       "    <tr>\n",
       "      <th>15</th>\n",
       "      <td>**The role of a Telco Field Engineer at Canoni...</td>\n",
       "      <td>tensor(0.3175)</td>\n",
       "    </tr>\n",
       "    <tr>\n",
       "      <th>16</th>\n",
       "      <td>**Overview**\\n------------\\n\\n\\n“Where's my ta...</td>\n",
       "      <td>tensor(0.3400)</td>\n",
       "    </tr>\n",
       "    <tr>\n",
       "      <th>17</th>\n",
       "      <td>**Overview**\\n------------\\n\\n\\n“Where's my ta...</td>\n",
       "      <td>tensor(0.3400)</td>\n",
       "    </tr>\n",
       "    <tr>\n",
       "      <th>18</th>\n",
       "      <td>**Date Posted:** 05/14/2024  \\n\\n**Req ID:**37...</td>\n",
       "      <td>tensor(0.3511)</td>\n",
       "    </tr>\n",
       "    <tr>\n",
       "      <th>19</th>\n",
       "      <td>**Date Posted:** 05/14/2024  \\n\\n**Req ID:**37...</td>\n",
       "      <td>tensor(0.3511)</td>\n",
       "    </tr>\n",
       "    <tr>\n",
       "      <th>20</th>\n",
       "      <td>Introduction  \\n\\nAt IBM , work is more than a...</td>\n",
       "      <td>tensor(0.3644)</td>\n",
       "    </tr>\n",
       "    <tr>\n",
       "      <th>21</th>\n",
       "      <td>Introduction  \\n\\nAt IBM , work is more than a...</td>\n",
       "      <td>tensor(0.3644)</td>\n",
       "    </tr>\n",
       "    <tr>\n",
       "      <th>22</th>\n",
       "      <td>Job Requisition ID #\\n24WD79384\\nPosition Over...</td>\n",
       "      <td>tensor(0.3742)</td>\n",
       "    </tr>\n",
       "    <tr>\n",
       "      <th>23</th>\n",
       "      <td>Job Requisition ID #\\n24WD79384\\nPosition Over...</td>\n",
       "      <td>tensor(0.3742)</td>\n",
       "    </tr>\n",
       "    <tr>\n",
       "      <th>24</th>\n",
       "      <td>### **About Behavox**\\n\\n\\n\\nBehavox is shapin...</td>\n",
       "      <td>tensor(0.4424)</td>\n",
       "    </tr>\n",
       "    <tr>\n",
       "      <th>25</th>\n",
       "      <td>### **About Behavox**\\n\\n\\n\\nBehavox is shapin...</td>\n",
       "      <td>tensor(0.4424)</td>\n",
       "    </tr>\n",
       "    <tr>\n",
       "      <th>26</th>\n",
       "      <td>33 Dundas Street West Toronto Ontario,M5G 3C2\\...</td>\n",
       "      <td>tensor(0.5389)</td>\n",
       "    </tr>\n",
       "    <tr>\n",
       "      <th>27</th>\n",
       "      <td>33 Dundas Street West Toronto Ontario,M5G 3C2\\...</td>\n",
       "      <td>tensor(0.5389)</td>\n",
       "    </tr>\n",
       "  </tbody>\n",
       "</table>\n",
       "</div>"
      ],
      "text/plain": [
       "                                      Job Description Similarity Score\n",
       "15  **The role of a Telco Field Engineer at Canoni...   tensor(0.3175)\n",
       "16  **Overview**\\n------------\\n\\n\\n“Where's my ta...   tensor(0.3400)\n",
       "17  **Overview**\\n------------\\n\\n\\n“Where's my ta...   tensor(0.3400)\n",
       "18  **Date Posted:** 05/14/2024  \\n\\n**Req ID:**37...   tensor(0.3511)\n",
       "19  **Date Posted:** 05/14/2024  \\n\\n**Req ID:**37...   tensor(0.3511)\n",
       "20  Introduction  \\n\\nAt IBM , work is more than a...   tensor(0.3644)\n",
       "21  Introduction  \\n\\nAt IBM , work is more than a...   tensor(0.3644)\n",
       "22  Job Requisition ID #\\n24WD79384\\nPosition Over...   tensor(0.3742)\n",
       "23  Job Requisition ID #\\n24WD79384\\nPosition Over...   tensor(0.3742)\n",
       "24  ### **About Behavox**\\n\\n\\n\\nBehavox is shapin...   tensor(0.4424)\n",
       "25  ### **About Behavox**\\n\\n\\n\\nBehavox is shapin...   tensor(0.4424)\n",
       "26  33 Dundas Street West Toronto Ontario,M5G 3C2\\...   tensor(0.5389)\n",
       "27  33 Dundas Street West Toronto Ontario,M5G 3C2\\...   tensor(0.5389)"
      ]
     },
     "execution_count": 14,
     "metadata": {},
     "output_type": "execute_result"
    }
   ],
   "source": [
    "top_k_df.tail(k)"
   ]
  },
  {
   "cell_type": "code",
   "execution_count": 16,
   "id": "22249405-0851-4319-801d-be3ea72be77f",
   "metadata": {},
   "outputs": [
    {
     "name": "stdout",
     "output_type": "stream",
     "text": [
      "33 Dundas Street West Toronto Ontario,M5G 3C2\n",
      "  \n",
      "\n",
      "Senior Manager, Generative Artificial Intelligence\n",
      "\n",
      "\n",
      "Take your career to a new level by joining the Data and Analytics Centre of Excellence (DACoE), whose mission is to drive top-tier growth, profit, and customer experience in North American Personal & Business Banking through data and analytics. We transform information into insight, arm partners with facts, and drive the business forward.\n",
      "\n",
      "**The Team**\n",
      "\n",
      "\n",
      "We enable and accelerate our partners on their data science and AI journeys. Accelerating our teams across BMO on their path to value at scale. We help each other in times of need, and we are proud of our work. We are data practitioners, research scientists, visionaries, thought leaders, multipliers, coders, and much more. Above all, we are a global team of diverse folks who enjoy working together to create smart solutions which have an impact across the enterprise.\n",
      "\n",
      "**What’s In It For You**\n",
      "\n",
      "\n",
      "As the Senior manager of GenAI, you will be at the forefront of shaping the next generation of AI-driven solutions. You’ll be playing a pivotal role in driving innovation and pushing the boundaries of what’s possible with AI, contributing to groundbreaking projects and shaping the direction of the field,\n",
      "\n",
      "\n",
      "You’ll have access to cutting-edge technologies, resources and training opportunities allowing you to stay at the forefront of AI advancements and continuously expand your skill set. You’ll work alongside a diverse team of talented individuals, collaborating on multidisciplinary projects and sharing and knowledge and insights to foster a culture of innovation and learning. You will get a leadership team that cares for your career and works to find the right opportunities for your growth.\n",
      "\n",
      "**Responsibilities**\n",
      "\n",
      "* Act as a thought leader and advocate for GenAI, sharing knowledge and insights to business stakeholders including senior executives.\n",
      "* Leads discovery process with stakeholders to identify business requirements and expected outcomes and design GenAI prototypes and POCs to demonstrate solution feasibility and value.\n",
      "* Design and develop GenAI solutions that include data ingestion, pre-processing, search and retrieval, Retrieval Augmented Generation(RAG), MML model development, fine-tuning and prompt engineering\n",
      "* Working closely with other members of data science, ML/AI Ops, technology teams in the design, development, and implementation of the GenAI model solutions\n",
      "* Collaborate closely with product teams, business stakeholders, ML/AI Ops, machine learning engineers and software engineers to ensure smooth integration of GenAI models into production systems.\n",
      "* Write and maintain comprehensive documentation of modeling process and procedures for model governance and knowledge sharing.\n",
      "* Broader work or accountabilities may be assigned as needed and based on your career growth ambition.\n",
      "\n",
      "**Qualifications**\n",
      "\n",
      "* Bachelor's / Master’s in Computer Science, Mathematics or Statistics, Computational linguistics, Engineering, or a related field.\n",
      "* 1+ years of professional hands-on experience leveraging large sets of structured and unstructured data to develop data-driven tactical and strategic analytics and insights using ML, NLP, computer vision solutions.\n",
      "* Demonstrated 1+ years hands-on experience with Python, Hugging Face, TensorFlow, Keras, PyTorch, Spark or similar statistical tools. Expert in python programming.\n",
      "* 1+ years hands-on experience developing natural language processing (NLP) models, ideally with transformer architectures.\n",
      "* 1+ years of experience with implementing information search and retrieval at scale, using a range of solutions ranging from keyword search to semantic search using embeddings.\n",
      "* Knowledge of developing or tuning Large Language Models (LLM) and Generative AI (GAI)\n",
      "* Knowledge of NLP, LLMs (extractive and generative), fine-tuning and LLM model development. Familiar with higher level trends in LLMs and open-source platforms\n",
      "\n",
      "\n",
      "**Compensation and Benefits:**\n",
      "\n",
      "\n",
      "$100,800.00 - $187,200.00\n",
      "\n",
      "**Pay Type:**\n",
      "\n",
      "\n",
      "Salaried\n",
      "\n",
      "\n",
      "The above represents BMO Financial Group’s pay range and type.\n",
      "\n",
      "\n",
      "Salaries will vary based on factors such as location, skills, experience, education, and qualifications for the role, and may include a commission structure. Salaries for part-time roles will be pro-rated based on number of hours regularly worked. For commission roles, the salary listed above represents BMO Financial Group’s expected target for the first year in this position.\n",
      "\n",
      "\n",
      "BMO Financial Group’s total compensation package will vary based on the pay type of the position and may include performance-based incentives, discretionary bonuses, as well as other perks and rewards. BMO also offers health insurance, tuition reimbursement, accident and life insurance, and retirement savings plans. To view more details of our benefits, please visit: https://jobs.bmo.com/global/en/Total-Rewards\n",
      "\n",
      "\n",
      "**We’re here to help**\n",
      "\n",
      "\n",
      "At BMO we are driven by a shared Purpose: Boldly Grow the Good in business and life. It calls on us to create lasting, positive change for our customers, our communities and our people. By working together, innovating and pushing boundaries, we transform lives and businesses, and power economic growth around the world.\n",
      "\n",
      "\n",
      "As a member of the BMO team you are valued, respected and heard, and you have more ways to grow and make an impact. We strive to help you make an impact from day one – for yourself and our customers. We’ll support you with the tools and resources you need to reach new milestones, as you help our customers reach theirs. From in-depth training and coaching, to manager support and network-building opportunities, we’ll help you gain valuable experience, and broaden your skillset.\n",
      "\n",
      "\n",
      "To find out more visit us at https://jobs.bmo.com/ca/en\n",
      "\n",
      "\n",
      "BMO is committed to an inclusive, equitable and accessible workplace. By learning from each other’s differences, we gain strength through our people and our perspectives. Accommodations are available on request for candidates taking part in all aspects of the selection process. To request accommodation, please contact your recruiter.\n",
      "\n",
      "\n",
      "Note to Recruiters: BMO does not accept unsolicited resumes from any source other than directly from a candidate. Any unsolicited resumes sent to BMO, directly or indirectly, will be considered BMO property. BMO will not pay a fee for any placement resulting from the receipt of an unsolicited resume. A recruiting agency must first have a valid, written and fully executed agency agreement contract for service to submit resumes.\n"
     ]
    }
   ],
   "source": [
    "print(top_k_df.tail(k)['Job Description'][::-1][27])"
   ]
  },
  {
   "cell_type": "code",
   "execution_count": 18,
   "id": "aa94068f-5ad0-4c22-a5a9-8e949f7b13dd",
   "metadata": {},
   "outputs": [
    {
     "data": {
      "text/plain": [
       "'Let\\'s think step by step about who the first man on the moon was!\\n\\nStep 1: NASA sent a mission to the moon...\\n\\n* The Apollo program, which ran from 1961 to 1972, was tasked with landing humans on the moon.\\n\\nStep 2: The mission included several manned spaceflights...\\n\\n* Between 1969 and 1972, six manned missions were sent to orbit around the moon (Apollo 7 to Apollo 10). These flights tested equipment, spacecraft systems, and astronaut skills.\\n\\nStep 3: One of these missions was specifically designed for a lunar landing...\\n\\n* Apollo 11, launched on July 16, 1969, was the first mission to land humans on the moon. The crew consisted of three astronauts:\\n\\n\\t+ Neil Armstrong (Commander)\\n\\t+ Edwin \"Buzz\" Aldrin (Lunar Module Pilot)\\n\\t+ Michael Collins (Command Module Pilot)\\n\\nStep 4: The lunar module Eagle landed on the moon...\\n\\n* On July 20, 1969, at 20:17 UTC (Coordinated Universal Time), the Eagle lunar module touched down on the moon\\'s surface in the Sea of Tranquility.\\n\\nStep 5: Neil Armstrong became the first person to set foot on the moon...\\n\\n* At 02:56 UTC on July 21, 1969, Armstrong stepped out of the lunar module and famously declared, \"That\\'s one small step for man, one giant leap for mankind.\"\\n\\nSo, to summarize, the first man on the moon was Neil Armstrong!'"
      ]
     },
     "execution_count": 18,
     "metadata": {},
     "output_type": "execute_result"
    }
   ],
   "source": [
    "from langchain_community.llms import Ollama\n",
    "\n",
    "llm = Ollama(model=\"llama3\")\n",
    "llm.invoke(\"The first man on the moon was ... think step by step\")"
   ]
  },
  {
   "cell_type": "code",
   "execution_count": null,
   "id": "0942760a-b9ce-45aa-a197-aab4eed1cdf3",
   "metadata": {},
   "outputs": [],
   "source": []
  }
 ],
 "metadata": {
  "kernelspec": {
   "display_name": "Python 3 (ipykernel)",
   "language": "python",
   "name": "python3"
  },
  "language_info": {
   "codemirror_mode": {
    "name": "ipython",
    "version": 3
   },
   "file_extension": ".py",
   "mimetype": "text/x-python",
   "name": "python",
   "nbconvert_exporter": "python",
   "pygments_lexer": "ipython3",
   "version": "3.10.12"
  }
 },
 "nbformat": 4,
 "nbformat_minor": 5
}
