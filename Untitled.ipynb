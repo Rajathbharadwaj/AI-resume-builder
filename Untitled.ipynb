{
 "cells": [
  {
   "cell_type": "code",
   "execution_count": 1,
   "id": "936db611-14dd-4bec-a431-ad72a3bfddbf",
   "metadata": {},
   "outputs": [
    {
     "name": "stdout",
     "output_type": "stream",
     "text": [
      "Failed to fetch search results\n"
     ]
    }
   ],
   "source": [
    "import requests\n",
    "from bs4 import BeautifulSoup\n",
    "\n",
    "def extract_job_links(search_query):\n",
    "    base_url = \"https://ca.indeed.com/\"\n",
    "    search_url = f\"{base_url}/jobs?q={search_query.replace(' ', '+')}\"\n",
    "    headers = {\n",
    "        'User-Agent': 'Mozilla/5.0 (Windows NT 10.0; Win64; x64) AppleWebKit/537.36 (KHTML, like Gecko) Chrome/58.0.3029.110 Safari/537.3'\n",
    "    }\n",
    "    \n",
    "    response = requests.get(search_url, headers=headers)\n",
    "    if response.status_code == 200:\n",
    "        soup = BeautifulSoup(response.content, 'html.parser')\n",
    "        job_links = []\n",
    "        for link in soup.find_all('a', class_='jobtitle turnstileLink'):\n",
    "            job_links.append(base_url + link.get('href'))\n",
    "        return job_links\n",
    "    else:\n",
    "        print(\"Failed to fetch search results\")\n",
    "        return []\n",
    "\n",
    "search_query = \"ML Engineer\"\n",
    "job_links = extract_job_links(search_query)\n",
    "for link in job_links:\n",
    "    print(link)\n"
   ]
  },
  {
   "cell_type": "code",
   "execution_count": 17,
   "id": "c0253611-2189-4a03-adc9-527e5ecc210d",
   "metadata": {},
   "outputs": [],
   "source": [
    "base_url = \"https://ca.indeed.com/\"\n",
    "search_url = f\"{base_url}/jobs?q={search_query.replace(' ', '+')}\""
   ]
  },
  {
   "cell_type": "code",
   "execution_count": 18,
   "id": "8dc8fc37-a059-4969-bfbc-6e45c7dd0956",
   "metadata": {},
   "outputs": [],
   "source": [
    "headers = {\n",
    "    'User-Agent': 'Mozilla/5.0 (Windows NT 10.0; Win64; x64) AppleWebKit/537.36 (KHTML, like Gecko) Chrome/58.0.3029.110 Safari/537.3'\n",
    "}\n",
    "    \n",
    "response = requests.get(base_url, )"
   ]
  },
  {
   "cell_type": "code",
   "execution_count": 19,
   "id": "e5963795-e230-40b9-a766-8d182bf5c2c8",
   "metadata": {},
   "outputs": [
    {
     "data": {
      "text/plain": [
       "403"
      ]
     },
     "execution_count": 19,
     "metadata": {},
     "output_type": "execute_result"
    }
   ],
   "source": [
    "response.status_code"
   ]
  },
  {
   "cell_type": "code",
   "execution_count": 21,
   "id": "0f3bfb5b-d5cc-4a62-bce6-78d6083d7cbe",
   "metadata": {},
   "outputs": [
    {
     "name": "stdout",
     "output_type": "stream",
     "text": [
      "Failed to fetch search results with user-agent: Mozilla/5.0 (Windows NT 10.0; Win64; x64) AppleWebKit/537.36 (KHTML, like Gecko) Chrome/91.0.4472.124 Safari/537.36\n",
      "Failed to fetch search results with user-agent: Mozilla/5.0 (Macintosh; Intel Mac OS X 10_15_7) AppleWebKit/537.36 (KHTML, like Gecko) Chrome/91.0.4472.124 Safari/537.36\n",
      "Failed to fetch search results with user-agent: Mozilla/5.0 (Windows NT 10.0; Win64; x64) AppleWebKit/537.36 (KHTML, like Gecko) Chrome/91.0.4472.124 Safari/537.36 Edg/91.0.864.67\n"
     ]
    }
   ],
   "source": [
    "import requests\n",
    "from bs4 import BeautifulSoup\n",
    "import time\n",
    "import random\n",
    "\n",
    "def extract_job_links(search_query):\n",
    "    base_url = \"https://ca.indeed.com/\"\n",
    "    search_url = f\"{base_url}/jobs?q={search_query.replace(' ', '+')}\"\n",
    "    user_agents = [\n",
    "        'Mozilla/5.0 (Windows NT 10.0; Win64; x64) AppleWebKit/537.36 (KHTML, like Gecko) Chrome/91.0.4472.124 Safari/537.36',\n",
    "        'Mozilla/5.0 (Macintosh; Intel Mac OS X 10_15_7) AppleWebKit/537.36 (KHTML, like Gecko) Chrome/91.0.4472.124 Safari/537.36',\n",
    "        'Mozilla/5.0 (Windows NT 10.0; Win64; x64) AppleWebKit/537.36 (KHTML, like Gecko) Chrome/91.0.4472.124 Safari/537.36 Edg/91.0.864.67',\n",
    "        # Add more user agents as needed\n",
    "    ]\n",
    "    \n",
    "    job_links = []\n",
    "    for user_agent in user_agents:\n",
    "        headers = {'User-Agent': user_agent}\n",
    "        response = requests.get(search_url, headers=headers)\n",
    "        if response.status_code == 200:\n",
    "            soup = BeautifulSoup(response.content, 'html.parser')\n",
    "            for link in soup.find_all('a', class_='jobtitle turnstileLink'):\n",
    "                job_links.append(base_url + link.get('href'))\n",
    "            break  # Exit loop if successful\n",
    "        else:\n",
    "            print(f\"Failed to fetch search results with user-agent: {user_agent}\")\n",
    "\n",
    "        # Add a random delay between requests to avoid being detected as a bot\n",
    "        time.sleep(random.uniform(1, 5))\n",
    "\n",
    "    return job_links\n",
    "\n",
    "search_query = \"ML Engineer\"\n",
    "job_links = extract_job_links(search_query)\n",
    "for link in job_links:\n",
    "    print(link)\n"
   ]
  },
  {
   "cell_type": "code",
   "execution_count": 26,
   "id": "8b02e212-c47c-49e4-b2ae-38a7051b218b",
   "metadata": {},
   "outputs": [],
   "source": [
    "from selenium import webdriver\n",
    "from selenium.webdriver.chrome.service import Service\n",
    "from selenium.webdriver.common.by import By\n",
    "from selenium.webdriver.chrome.options import Options\n",
    "import time\n",
    "from webdriver_manager.chrome import ChromeDriverManager\n",
    "\n",
    "def extract_job_links(search_query):\n",
    "    base_url = \"https://www.indeed.com\"\n",
    "    search_url = f\"{base_url}/jobs?q={search_query.replace(' ', '+')}\"\n",
    "    options = Options()\n",
    "    options.add_argument(\"--headless\")  # Run Chrome in headless mode\n",
    "    options.add_argument(\"--no-sandbox\")\n",
    "    options.add_argument(\"--disable-dev-shm-usage\")\n",
    "    # service = Service('/path/to/chromedriver')  # Set path to chromedriver\n",
    "    driver = webdriver.Chrome(service=Service(ChromeDriverManager().install()))\n",
    "\n",
    "    job_links = []\n",
    "    try:\n",
    "        driver.get(search_url)\n",
    "        time.sleep(5)  # Let the page load\n",
    "\n",
    "        # Find all job links\n",
    "        elements = driver.find_elements(By.XPATH, \"//a[@class='tapItem fs-unmask result jobTitle jobLink']\")\n",
    "        for element in elements:\n",
    "            job_links.append(element.get_attribute(\"href\"))\n",
    "    except Exception as e:\n",
    "        print(f\"Error: {e}\")\n",
    "    finally:\n",
    "        driver.quit()\n",
    "\n",
    "    return job_links\n",
    "\n",
    "search_query = \"ML Engineer\"\n",
    "job_links = extract_job_links(search_query)\n",
    "for link in job_links:\n",
    "    print(link)\n"
   ]
  },
  {
   "cell_type": "code",
   "execution_count": 27,
   "id": "4bffb2ff-e173-48e6-bf60-62b84d065ff2",
   "metadata": {},
   "outputs": [
    {
     "data": {
      "text/plain": [
       "[]"
      ]
     },
     "execution_count": 27,
     "metadata": {},
     "output_type": "execute_result"
    }
   ],
   "source": [
    "job_links"
   ]
  },
  {
   "cell_type": "code",
   "execution_count": 1,
   "id": "f9c1aece-1ca0-46f3-9bbc-cd9fd6684d12",
   "metadata": {},
   "outputs": [],
   "source": [
    "from selenium import webdriver\n",
    "from selenium.webdriver.chrome.service import Service\n",
    "from selenium.webdriver.common.by import By\n",
    "from selenium.webdriver.chrome.options import Options\n",
    "import time\n",
    "from webdriver_manager.chrome import ChromeDriverManager\n"
   ]
  },
  {
   "cell_type": "code",
   "execution_count": 3,
   "id": "82f28899-57b1-4cb9-a329-53320136a992",
   "metadata": {},
   "outputs": [],
   "source": [
    "    search_query = \"ML Engineer\"\n",
    "    base_url = \"https://www.indeed.com\"\n",
    "    search_url = f\"{base_url}/jobs?q={search_query.replace(' ', '+')}\"\n",
    "    options = Options()\n",
    "    options.add_argument(\"--headless\")  # Run Chrome in headless mode\n",
    "    options.add_argument(\"--no-sandbox\")\n",
    "    options.add_argument(\"--disable-dev-shm-usage\")\n",
    "    # service = Service('/path/to/chromedriver')  # Set path to chromedriver\n",
    "    driver = webdriver.Chrome(service=Service(ChromeDriverManager().install()))"
   ]
  },
  {
   "cell_type": "code",
   "execution_count": 4,
   "id": "46599915-662f-427d-a1a7-4d2a044a3c93",
   "metadata": {},
   "outputs": [],
   "source": [
    "driver.get(search_url)"
   ]
  },
  {
   "cell_type": "code",
   "execution_count": 6,
   "id": "00ca3024-a6f4-47b4-b4bc-be003948e0e6",
   "metadata": {},
   "outputs": [],
   "source": [
    "elements = driver.find_elements(By.XPATH, \"//a[@class='tapItem fs-unmask result jobTitle jobLink']\")"
   ]
  },
  {
   "cell_type": "code",
   "execution_count": 7,
   "id": "8a756e02-f9d0-4cae-9a16-13e74b7724bf",
   "metadata": {},
   "outputs": [],
   "source": [
    "for element in elements:\n",
    "            job_links.append(element.get_attribute(\"href\"))"
   ]
  },
  {
   "cell_type": "code",
   "execution_count": 8,
   "id": "3fd2e0fa-ac43-4b2b-bd36-0174cbcd2ef9",
   "metadata": {},
   "outputs": [
    {
     "data": {
      "text/plain": [
       "[]"
      ]
     },
     "execution_count": 8,
     "metadata": {},
     "output_type": "execute_result"
    }
   ],
   "source": [
    "elements"
   ]
  },
  {
   "cell_type": "code",
   "execution_count": 12,
   "id": "7a903598-8cde-4c39-82af-62223655ffd1",
   "metadata": {},
   "outputs": [],
   "source": [
    "elements = driver.find_elements(By.CLASS_NAME, \"mosaic-zone\")"
   ]
  },
  {
   "cell_type": "code",
   "execution_count": 13,
   "id": "4dff6077-1472-40d8-85d5-9b5335d994ee",
   "metadata": {},
   "outputs": [
    {
     "data": {
      "text/plain": [
       "[<selenium.webdriver.remote.webelement.WebElement (session=\"01b3326a7c0ab3b75fee50f8d09b7ec6\", element=\"f.75E6E2831AEC7D6D38ACF4C059B40144.d.6751F0971A7F87925AAA15CFD9131E2C.e.689\")>,\n",
       " <selenium.webdriver.remote.webelement.WebElement (session=\"01b3326a7c0ab3b75fee50f8d09b7ec6\", element=\"f.75E6E2831AEC7D6D38ACF4C059B40144.d.6751F0971A7F87925AAA15CFD9131E2C.e.719\")>,\n",
       " <selenium.webdriver.remote.webelement.WebElement (session=\"01b3326a7c0ab3b75fee50f8d09b7ec6\", element=\"f.75E6E2831AEC7D6D38ACF4C059B40144.d.6751F0971A7F87925AAA15CFD9131E2C.e.725\")>,\n",
       " <selenium.webdriver.remote.webelement.WebElement (session=\"01b3326a7c0ab3b75fee50f8d09b7ec6\", element=\"f.75E6E2831AEC7D6D38ACF4C059B40144.d.6751F0971A7F87925AAA15CFD9131E2C.e.726\")>,\n",
       " <selenium.webdriver.remote.webelement.WebElement (session=\"01b3326a7c0ab3b75fee50f8d09b7ec6\", element=\"f.75E6E2831AEC7D6D38ACF4C059B40144.d.6751F0971A7F87925AAA15CFD9131E2C.e.3385\")>,\n",
       " <selenium.webdriver.remote.webelement.WebElement (session=\"01b3326a7c0ab3b75fee50f8d09b7ec6\", element=\"f.75E6E2831AEC7D6D38ACF4C059B40144.d.6751F0971A7F87925AAA15CFD9131E2C.e.731\")>,\n",
       " <selenium.webdriver.remote.webelement.WebElement (session=\"01b3326a7c0ab3b75fee50f8d09b7ec6\", element=\"f.75E6E2831AEC7D6D38ACF4C059B40144.d.6751F0971A7F87925AAA15CFD9131E2C.e.163\")>,\n",
       " <selenium.webdriver.remote.webelement.WebElement (session=\"01b3326a7c0ab3b75fee50f8d09b7ec6\", element=\"f.75E6E2831AEC7D6D38ACF4C059B40144.d.6751F0971A7F87925AAA15CFD9131E2C.e.3386\")>,\n",
       " <selenium.webdriver.remote.webelement.WebElement (session=\"01b3326a7c0ab3b75fee50f8d09b7ec6\", element=\"f.75E6E2831AEC7D6D38ACF4C059B40144.d.6751F0971A7F87925AAA15CFD9131E2C.e.733\")>,\n",
       " <selenium.webdriver.remote.webelement.WebElement (session=\"01b3326a7c0ab3b75fee50f8d09b7ec6\", element=\"f.75E6E2831AEC7D6D38ACF4C059B40144.d.6751F0971A7F87925AAA15CFD9131E2C.e.734\")>,\n",
       " <selenium.webdriver.remote.webelement.WebElement (session=\"01b3326a7c0ab3b75fee50f8d09b7ec6\", element=\"f.75E6E2831AEC7D6D38ACF4C059B40144.d.6751F0971A7F87925AAA15CFD9131E2C.e.736\")>,\n",
       " <selenium.webdriver.remote.webelement.WebElement (session=\"01b3326a7c0ab3b75fee50f8d09b7ec6\", element=\"f.75E6E2831AEC7D6D38ACF4C059B40144.d.6751F0971A7F87925AAA15CFD9131E2C.e.737\")>,\n",
       " <selenium.webdriver.remote.webelement.WebElement (session=\"01b3326a7c0ab3b75fee50f8d09b7ec6\", element=\"f.75E6E2831AEC7D6D38ACF4C059B40144.d.6751F0971A7F87925AAA15CFD9131E2C.e.1848\")>,\n",
       " <selenium.webdriver.remote.webelement.WebElement (session=\"01b3326a7c0ab3b75fee50f8d09b7ec6\", element=\"f.75E6E2831AEC7D6D38ACF4C059B40144.d.6751F0971A7F87925AAA15CFD9131E2C.e.1851\")>,\n",
       " <selenium.webdriver.remote.webelement.WebElement (session=\"01b3326a7c0ab3b75fee50f8d09b7ec6\", element=\"f.75E6E2831AEC7D6D38ACF4C059B40144.d.6751F0971A7F87925AAA15CFD9131E2C.e.728\")>,\n",
       " <selenium.webdriver.remote.webelement.WebElement (session=\"01b3326a7c0ab3b75fee50f8d09b7ec6\", element=\"f.75E6E2831AEC7D6D38ACF4C059B40144.d.6751F0971A7F87925AAA15CFD9131E2C.e.721\")>]"
      ]
     },
     "execution_count": 13,
     "metadata": {},
     "output_type": "execute_result"
    }
   ],
   "source": [
    "elements"
   ]
  },
  {
   "cell_type": "code",
   "execution_count": 17,
   "id": "39edbbf0-ca43-4155-9f2c-bdb2c8e6700b",
   "metadata": {},
   "outputs": [
    {
     "ename": "NoSuchElementException",
     "evalue": "Message: no such element: Unable to locate element: {\"method\":\"tag name\",\"selector\":\"a\"}\n  (Session info: chrome=122.0.6261.129); For documentation on this error, please visit: https://www.selenium.dev/documentation/webdriver/troubleshooting/errors#no-such-element-exception\nStacktrace:\n0   chromedriver                        0x0000000101094524 chromedriver + 3966244\n1   chromedriver                        0x000000010108cab0 chromedriver + 3934896\n2   chromedriver                        0x0000000100d0fda0 chromedriver + 277920\n3   chromedriver                        0x0000000100d52394 chromedriver + 549780\n4   chromedriver                        0x0000000100d488a8 chromedriver + 510120\n5   chromedriver                        0x0000000100d8abf0 chromedriver + 781296\n6   chromedriver                        0x0000000100d46fb0 chromedriver + 503728\n7   chromedriver                        0x0000000100d47a28 chromedriver + 506408\n8   chromedriver                        0x000000010105970c chromedriver + 3725068\n9   chromedriver                        0x000000010105dc00 chromedriver + 3742720\n10  chromedriver                        0x00000001010421f4 chromedriver + 3629556\n11  chromedriver                        0x000000010105e6fc chromedriver + 3745532\n12  chromedriver                        0x000000010103556c chromedriver + 3577196\n13  chromedriver                        0x000000010107cf5c chromedriver + 3870556\n14  chromedriver                        0x000000010107d100 chromedriver + 3870976\n15  chromedriver                        0x000000010108c720 chromedriver + 3933984\n16  libsystem_pthread.dylib             0x000000018d192034 _pthread_start + 136\n17  libsystem_pthread.dylib             0x000000018d18ce3c thread_start + 8\n",
     "output_type": "error",
     "traceback": [
      "\u001b[0;31m---------------------------------------------------------------------------\u001b[0m",
      "\u001b[0;31mNoSuchElementException\u001b[0m                    Traceback (most recent call last)",
      "Cell \u001b[0;32mIn[17], line 2\u001b[0m\n\u001b[1;32m      1\u001b[0m \u001b[38;5;28;01mfor\u001b[39;00m ele \u001b[38;5;129;01min\u001b[39;00m elements:\n\u001b[0;32m----> 2\u001b[0m     \u001b[38;5;28mprint\u001b[39m(\u001b[43mele\u001b[49m\u001b[38;5;241;43m.\u001b[39;49m\u001b[43mfind_element\u001b[49m\u001b[43m(\u001b[49m\u001b[43mBy\u001b[49m\u001b[38;5;241;43m.\u001b[39;49m\u001b[43mTAG_NAME\u001b[49m\u001b[43m,\u001b[49m\u001b[43m \u001b[49m\u001b[38;5;124;43m\"\u001b[39;49m\u001b[38;5;124;43ma\u001b[39;49m\u001b[38;5;124;43m\"\u001b[39;49m\u001b[43m)\u001b[49m)\n",
      "File \u001b[0;32m~/miniconda3/envs/lc/lib/python3.10/site-packages/selenium/webdriver/remote/webelement.py:416\u001b[0m, in \u001b[0;36mWebElement.find_element\u001b[0;34m(self, by, value)\u001b[0m\n\u001b[1;32m    413\u001b[0m     by \u001b[38;5;241m=\u001b[39m By\u001b[38;5;241m.\u001b[39mCSS_SELECTOR\n\u001b[1;32m    414\u001b[0m     value \u001b[38;5;241m=\u001b[39m \u001b[38;5;124mf\u001b[39m\u001b[38;5;124m'\u001b[39m\u001b[38;5;124m[name=\u001b[39m\u001b[38;5;124m\"\u001b[39m\u001b[38;5;132;01m{\u001b[39;00mvalue\u001b[38;5;132;01m}\u001b[39;00m\u001b[38;5;124m\"\u001b[39m\u001b[38;5;124m]\u001b[39m\u001b[38;5;124m'\u001b[39m\n\u001b[0;32m--> 416\u001b[0m \u001b[38;5;28;01mreturn\u001b[39;00m \u001b[38;5;28;43mself\u001b[39;49m\u001b[38;5;241;43m.\u001b[39;49m\u001b[43m_execute\u001b[49m\u001b[43m(\u001b[49m\u001b[43mCommand\u001b[49m\u001b[38;5;241;43m.\u001b[39;49m\u001b[43mFIND_CHILD_ELEMENT\u001b[49m\u001b[43m,\u001b[49m\u001b[43m \u001b[49m\u001b[43m{\u001b[49m\u001b[38;5;124;43m\"\u001b[39;49m\u001b[38;5;124;43musing\u001b[39;49m\u001b[38;5;124;43m\"\u001b[39;49m\u001b[43m:\u001b[49m\u001b[43m \u001b[49m\u001b[43mby\u001b[49m\u001b[43m,\u001b[49m\u001b[43m \u001b[49m\u001b[38;5;124;43m\"\u001b[39;49m\u001b[38;5;124;43mvalue\u001b[39;49m\u001b[38;5;124;43m\"\u001b[39;49m\u001b[43m:\u001b[49m\u001b[43m \u001b[49m\u001b[43mvalue\u001b[49m\u001b[43m}\u001b[49m\u001b[43m)\u001b[49m[\u001b[38;5;124m\"\u001b[39m\u001b[38;5;124mvalue\u001b[39m\u001b[38;5;124m\"\u001b[39m]\n",
      "File \u001b[0;32m~/miniconda3/envs/lc/lib/python3.10/site-packages/selenium/webdriver/remote/webelement.py:394\u001b[0m, in \u001b[0;36mWebElement._execute\u001b[0;34m(self, command, params)\u001b[0m\n\u001b[1;32m    392\u001b[0m     params \u001b[38;5;241m=\u001b[39m {}\n\u001b[1;32m    393\u001b[0m params[\u001b[38;5;124m\"\u001b[39m\u001b[38;5;124mid\u001b[39m\u001b[38;5;124m\"\u001b[39m] \u001b[38;5;241m=\u001b[39m \u001b[38;5;28mself\u001b[39m\u001b[38;5;241m.\u001b[39m_id\n\u001b[0;32m--> 394\u001b[0m \u001b[38;5;28;01mreturn\u001b[39;00m \u001b[38;5;28;43mself\u001b[39;49m\u001b[38;5;241;43m.\u001b[39;49m\u001b[43m_parent\u001b[49m\u001b[38;5;241;43m.\u001b[39;49m\u001b[43mexecute\u001b[49m\u001b[43m(\u001b[49m\u001b[43mcommand\u001b[49m\u001b[43m,\u001b[49m\u001b[43m \u001b[49m\u001b[43mparams\u001b[49m\u001b[43m)\u001b[49m\n",
      "File \u001b[0;32m~/miniconda3/envs/lc/lib/python3.10/site-packages/selenium/webdriver/remote/webdriver.py:344\u001b[0m, in \u001b[0;36mWebDriver.execute\u001b[0;34m(self, driver_command, params)\u001b[0m\n\u001b[1;32m    342\u001b[0m response \u001b[38;5;241m=\u001b[39m \u001b[38;5;28mself\u001b[39m\u001b[38;5;241m.\u001b[39mcommand_executor\u001b[38;5;241m.\u001b[39mexecute(driver_command, params)\n\u001b[1;32m    343\u001b[0m \u001b[38;5;28;01mif\u001b[39;00m response:\n\u001b[0;32m--> 344\u001b[0m     \u001b[38;5;28;43mself\u001b[39;49m\u001b[38;5;241;43m.\u001b[39;49m\u001b[43merror_handler\u001b[49m\u001b[38;5;241;43m.\u001b[39;49m\u001b[43mcheck_response\u001b[49m\u001b[43m(\u001b[49m\u001b[43mresponse\u001b[49m\u001b[43m)\u001b[49m\n\u001b[1;32m    345\u001b[0m     response[\u001b[38;5;124m\"\u001b[39m\u001b[38;5;124mvalue\u001b[39m\u001b[38;5;124m\"\u001b[39m] \u001b[38;5;241m=\u001b[39m \u001b[38;5;28mself\u001b[39m\u001b[38;5;241m.\u001b[39m_unwrap_value(response\u001b[38;5;241m.\u001b[39mget(\u001b[38;5;124m\"\u001b[39m\u001b[38;5;124mvalue\u001b[39m\u001b[38;5;124m\"\u001b[39m, \u001b[38;5;28;01mNone\u001b[39;00m))\n\u001b[1;32m    346\u001b[0m     \u001b[38;5;28;01mreturn\u001b[39;00m response\n",
      "File \u001b[0;32m~/miniconda3/envs/lc/lib/python3.10/site-packages/selenium/webdriver/remote/errorhandler.py:229\u001b[0m, in \u001b[0;36mErrorHandler.check_response\u001b[0;34m(self, response)\u001b[0m\n\u001b[1;32m    227\u001b[0m         alert_text \u001b[38;5;241m=\u001b[39m value[\u001b[38;5;124m\"\u001b[39m\u001b[38;5;124malert\u001b[39m\u001b[38;5;124m\"\u001b[39m]\u001b[38;5;241m.\u001b[39mget(\u001b[38;5;124m\"\u001b[39m\u001b[38;5;124mtext\u001b[39m\u001b[38;5;124m\"\u001b[39m)\n\u001b[1;32m    228\u001b[0m     \u001b[38;5;28;01mraise\u001b[39;00m exception_class(message, screen, stacktrace, alert_text)  \u001b[38;5;66;03m# type: ignore[call-arg]  # mypy is not smart enough here\u001b[39;00m\n\u001b[0;32m--> 229\u001b[0m \u001b[38;5;28;01mraise\u001b[39;00m exception_class(message, screen, stacktrace)\n",
      "\u001b[0;31mNoSuchElementException\u001b[0m: Message: no such element: Unable to locate element: {\"method\":\"tag name\",\"selector\":\"a\"}\n  (Session info: chrome=122.0.6261.129); For documentation on this error, please visit: https://www.selenium.dev/documentation/webdriver/troubleshooting/errors#no-such-element-exception\nStacktrace:\n0   chromedriver                        0x0000000101094524 chromedriver + 3966244\n1   chromedriver                        0x000000010108cab0 chromedriver + 3934896\n2   chromedriver                        0x0000000100d0fda0 chromedriver + 277920\n3   chromedriver                        0x0000000100d52394 chromedriver + 549780\n4   chromedriver                        0x0000000100d488a8 chromedriver + 510120\n5   chromedriver                        0x0000000100d8abf0 chromedriver + 781296\n6   chromedriver                        0x0000000100d46fb0 chromedriver + 503728\n7   chromedriver                        0x0000000100d47a28 chromedriver + 506408\n8   chromedriver                        0x000000010105970c chromedriver + 3725068\n9   chromedriver                        0x000000010105dc00 chromedriver + 3742720\n10  chromedriver                        0x00000001010421f4 chromedriver + 3629556\n11  chromedriver                        0x000000010105e6fc chromedriver + 3745532\n12  chromedriver                        0x000000010103556c chromedriver + 3577196\n13  chromedriver                        0x000000010107cf5c chromedriver + 3870556\n14  chromedriver                        0x000000010107d100 chromedriver + 3870976\n15  chromedriver                        0x000000010108c720 chromedriver + 3933984\n16  libsystem_pthread.dylib             0x000000018d192034 _pthread_start + 136\n17  libsystem_pthread.dylib             0x000000018d18ce3c thread_start + 8\n"
     ]
    }
   ],
   "source": [
    "for ele in elements:\n",
    "    print(ele.find_element(By.TAG_NAME, \"a\"))"
   ]
  },
  {
   "cell_type": "code",
   "execution_count": 39,
   "id": "932aeceb-f51f-40dd-9ef8-43c31e03e6d9",
   "metadata": {},
   "outputs": [
    {
     "data": {
      "text/plain": [
       "[]"
      ]
     },
     "execution_count": 39,
     "metadata": {},
     "output_type": "execute_result"
    }
   ],
   "source": [
    "elements"
   ]
  },
  {
   "cell_type": "code",
   "execution_count": 52,
   "id": "8417cf08-3b9e-460f-a78d-c74c2b0a5d85",
   "metadata": {},
   "outputs": [
    {
     "data": {
      "text/plain": [
       "'ML Engineer'"
      ]
     },
     "execution_count": 52,
     "metadata": {},
     "output_type": "execute_result"
    }
   ],
   "source": [
    "elements[0].find_element(By.CLASS_NAME, \"jobTitle\").text"
   ]
  },
  {
   "cell_type": "code",
   "execution_count": 67,
   "id": "f9a5d3a6-b98f-4068-85a0-4742b04bf572",
   "metadata": {},
   "outputs": [],
   "source": [
    "titles = driver.find_elements(By.CLASS_NAME, \"jobTitle\")"
   ]
  },
  {
   "cell_type": "code",
   "execution_count": 69,
   "id": "9bd91627-4199-41b6-a38a-328d2e4baaed",
   "metadata": {},
   "outputs": [
    {
     "name": "stdout",
     "output_type": "stream",
     "text": [
      "None\n"
     ]
    },
    {
     "ename": "ElementClickInterceptedException",
     "evalue": "Message: element click intercepted: Element <h2 class=\"jobTitle css-14z7akl eu4oa1w0\" tabindex=\"-1\">...</h2> is not clickable at point (294, 893). Other element would receive the click: <div class=\"gnav-CookiePrivacyNoticeBanner\">...</div>\n  (Session info: chrome=122.0.6261.129)\nStacktrace:\n0   chromedriver                        0x00000001011e0524 chromedriver + 3966244\n1   chromedriver                        0x00000001011d8ab0 chromedriver + 3934896\n2   chromedriver                        0x0000000100e5bda0 chromedriver + 277920\n3   chromedriver                        0x0000000100ea3e68 chromedriver + 573032\n4   chromedriver                        0x0000000100ea23ec chromedriver + 566252\n5   chromedriver                        0x0000000100ea056c chromedriver + 558444\n6   chromedriver                        0x0000000100e9fa9c chromedriver + 555676\n7   chromedriver                        0x0000000100e94e84 chromedriver + 511620\n8   chromedriver                        0x0000000100e948a8 chromedriver + 510120\n9   chromedriver                        0x0000000100ed6bf0 chromedriver + 781296\n10  chromedriver                        0x0000000100e92fb0 chromedriver + 503728\n11  chromedriver                        0x0000000100e93a28 chromedriver + 506408\n12  chromedriver                        0x00000001011a570c chromedriver + 3725068\n13  chromedriver                        0x00000001011a9c00 chromedriver + 3742720\n14  chromedriver                        0x000000010118e1f4 chromedriver + 3629556\n15  chromedriver                        0x00000001011aa6fc chromedriver + 3745532\n16  chromedriver                        0x000000010118156c chromedriver + 3577196\n17  chromedriver                        0x00000001011c8f5c chromedriver + 3870556\n18  chromedriver                        0x00000001011c9100 chromedriver + 3870976\n19  chromedriver                        0x00000001011d8720 chromedriver + 3933984\n20  libsystem_pthread.dylib             0x000000018d192034 _pthread_start + 136\n21  libsystem_pthread.dylib             0x000000018d18ce3c thread_start + 8\n",
     "output_type": "error",
     "traceback": [
      "\u001b[0;31m---------------------------------------------------------------------------\u001b[0m",
      "\u001b[0;31mElementClickInterceptedException\u001b[0m          Traceback (most recent call last)",
      "Cell \u001b[0;32mIn[69], line 2\u001b[0m\n\u001b[1;32m      1\u001b[0m \u001b[38;5;28;01mfor\u001b[39;00m title \u001b[38;5;129;01min\u001b[39;00m titles:\n\u001b[0;32m----> 2\u001b[0m     \u001b[38;5;28mprint\u001b[39m(\u001b[43mtitle\u001b[49m\u001b[38;5;241;43m.\u001b[39;49m\u001b[43mclick\u001b[49m\u001b[43m(\u001b[49m\u001b[43m)\u001b[49m)\n",
      "File \u001b[0;32m~/miniconda3/envs/lc/lib/python3.10/site-packages/selenium/webdriver/remote/webelement.py:93\u001b[0m, in \u001b[0;36mWebElement.click\u001b[0;34m(self)\u001b[0m\n\u001b[1;32m     91\u001b[0m \u001b[38;5;28;01mdef\u001b[39;00m \u001b[38;5;21mclick\u001b[39m(\u001b[38;5;28mself\u001b[39m) \u001b[38;5;241m-\u001b[39m\u001b[38;5;241m>\u001b[39m \u001b[38;5;28;01mNone\u001b[39;00m:\n\u001b[1;32m     92\u001b[0m \u001b[38;5;250m    \u001b[39m\u001b[38;5;124;03m\"\"\"Clicks the element.\"\"\"\u001b[39;00m\n\u001b[0;32m---> 93\u001b[0m     \u001b[38;5;28;43mself\u001b[39;49m\u001b[38;5;241;43m.\u001b[39;49m\u001b[43m_execute\u001b[49m\u001b[43m(\u001b[49m\u001b[43mCommand\u001b[49m\u001b[38;5;241;43m.\u001b[39;49m\u001b[43mCLICK_ELEMENT\u001b[49m\u001b[43m)\u001b[49m\n",
      "File \u001b[0;32m~/miniconda3/envs/lc/lib/python3.10/site-packages/selenium/webdriver/remote/webelement.py:394\u001b[0m, in \u001b[0;36mWebElement._execute\u001b[0;34m(self, command, params)\u001b[0m\n\u001b[1;32m    392\u001b[0m     params \u001b[38;5;241m=\u001b[39m {}\n\u001b[1;32m    393\u001b[0m params[\u001b[38;5;124m\"\u001b[39m\u001b[38;5;124mid\u001b[39m\u001b[38;5;124m\"\u001b[39m] \u001b[38;5;241m=\u001b[39m \u001b[38;5;28mself\u001b[39m\u001b[38;5;241m.\u001b[39m_id\n\u001b[0;32m--> 394\u001b[0m \u001b[38;5;28;01mreturn\u001b[39;00m \u001b[38;5;28;43mself\u001b[39;49m\u001b[38;5;241;43m.\u001b[39;49m\u001b[43m_parent\u001b[49m\u001b[38;5;241;43m.\u001b[39;49m\u001b[43mexecute\u001b[49m\u001b[43m(\u001b[49m\u001b[43mcommand\u001b[49m\u001b[43m,\u001b[49m\u001b[43m \u001b[49m\u001b[43mparams\u001b[49m\u001b[43m)\u001b[49m\n",
      "File \u001b[0;32m~/miniconda3/envs/lc/lib/python3.10/site-packages/selenium/webdriver/remote/webdriver.py:344\u001b[0m, in \u001b[0;36mWebDriver.execute\u001b[0;34m(self, driver_command, params)\u001b[0m\n\u001b[1;32m    342\u001b[0m response \u001b[38;5;241m=\u001b[39m \u001b[38;5;28mself\u001b[39m\u001b[38;5;241m.\u001b[39mcommand_executor\u001b[38;5;241m.\u001b[39mexecute(driver_command, params)\n\u001b[1;32m    343\u001b[0m \u001b[38;5;28;01mif\u001b[39;00m response:\n\u001b[0;32m--> 344\u001b[0m     \u001b[38;5;28;43mself\u001b[39;49m\u001b[38;5;241;43m.\u001b[39;49m\u001b[43merror_handler\u001b[49m\u001b[38;5;241;43m.\u001b[39;49m\u001b[43mcheck_response\u001b[49m\u001b[43m(\u001b[49m\u001b[43mresponse\u001b[49m\u001b[43m)\u001b[49m\n\u001b[1;32m    345\u001b[0m     response[\u001b[38;5;124m\"\u001b[39m\u001b[38;5;124mvalue\u001b[39m\u001b[38;5;124m\"\u001b[39m] \u001b[38;5;241m=\u001b[39m \u001b[38;5;28mself\u001b[39m\u001b[38;5;241m.\u001b[39m_unwrap_value(response\u001b[38;5;241m.\u001b[39mget(\u001b[38;5;124m\"\u001b[39m\u001b[38;5;124mvalue\u001b[39m\u001b[38;5;124m\"\u001b[39m, \u001b[38;5;28;01mNone\u001b[39;00m))\n\u001b[1;32m    346\u001b[0m     \u001b[38;5;28;01mreturn\u001b[39;00m response\n",
      "File \u001b[0;32m~/miniconda3/envs/lc/lib/python3.10/site-packages/selenium/webdriver/remote/errorhandler.py:229\u001b[0m, in \u001b[0;36mErrorHandler.check_response\u001b[0;34m(self, response)\u001b[0m\n\u001b[1;32m    227\u001b[0m         alert_text \u001b[38;5;241m=\u001b[39m value[\u001b[38;5;124m\"\u001b[39m\u001b[38;5;124malert\u001b[39m\u001b[38;5;124m\"\u001b[39m]\u001b[38;5;241m.\u001b[39mget(\u001b[38;5;124m\"\u001b[39m\u001b[38;5;124mtext\u001b[39m\u001b[38;5;124m\"\u001b[39m)\n\u001b[1;32m    228\u001b[0m     \u001b[38;5;28;01mraise\u001b[39;00m exception_class(message, screen, stacktrace, alert_text)  \u001b[38;5;66;03m# type: ignore[call-arg]  # mypy is not smart enough here\u001b[39;00m\n\u001b[0;32m--> 229\u001b[0m \u001b[38;5;28;01mraise\u001b[39;00m exception_class(message, screen, stacktrace)\n",
      "\u001b[0;31mElementClickInterceptedException\u001b[0m: Message: element click intercepted: Element <h2 class=\"jobTitle css-14z7akl eu4oa1w0\" tabindex=\"-1\">...</h2> is not clickable at point (294, 893). Other element would receive the click: <div class=\"gnav-CookiePrivacyNoticeBanner\">...</div>\n  (Session info: chrome=122.0.6261.129)\nStacktrace:\n0   chromedriver                        0x00000001011e0524 chromedriver + 3966244\n1   chromedriver                        0x00000001011d8ab0 chromedriver + 3934896\n2   chromedriver                        0x0000000100e5bda0 chromedriver + 277920\n3   chromedriver                        0x0000000100ea3e68 chromedriver + 573032\n4   chromedriver                        0x0000000100ea23ec chromedriver + 566252\n5   chromedriver                        0x0000000100ea056c chromedriver + 558444\n6   chromedriver                        0x0000000100e9fa9c chromedriver + 555676\n7   chromedriver                        0x0000000100e94e84 chromedriver + 511620\n8   chromedriver                        0x0000000100e948a8 chromedriver + 510120\n9   chromedriver                        0x0000000100ed6bf0 chromedriver + 781296\n10  chromedriver                        0x0000000100e92fb0 chromedriver + 503728\n11  chromedriver                        0x0000000100e93a28 chromedriver + 506408\n12  chromedriver                        0x00000001011a570c chromedriver + 3725068\n13  chromedriver                        0x00000001011a9c00 chromedriver + 3742720\n14  chromedriver                        0x000000010118e1f4 chromedriver + 3629556\n15  chromedriver                        0x00000001011aa6fc chromedriver + 3745532\n16  chromedriver                        0x000000010118156c chromedriver + 3577196\n17  chromedriver                        0x00000001011c8f5c chromedriver + 3870556\n18  chromedriver                        0x00000001011c9100 chromedriver + 3870976\n19  chromedriver                        0x00000001011d8720 chromedriver + 3933984\n20  libsystem_pthread.dylib             0x000000018d192034 _pthread_start + 136\n21  libsystem_pthread.dylib             0x000000018d18ce3c thread_start + 8\n"
     ]
    }
   ],
   "source": [
    "for title in titles:\n",
    "    print(title.click())"
   ]
  },
  {
   "cell_type": "code",
   "execution_count": 65,
   "id": "45543a79-d297-40a9-949f-d5c2aa210c43",
   "metadata": {},
   "outputs": [],
   "source": [
    "fjds = driver.find_elements(By.CLASS_NAME, \"jobsearch-jobDescriptionText\")"
   ]
  },
  {
   "cell_type": "code",
   "execution_count": 66,
   "id": "a312d5bc-0ab0-44d6-9059-13f7306c985b",
   "metadata": {},
   "outputs": [
    {
     "name": "stdout",
     "output_type": "stream",
     "text": [
      "Summary\n",
      "\n",
      "Posted: Apr 12, 2023\n",
      "\n",
      "Role Number:200474372\n",
      "\n",
      "“Hey Siri, let’s work together at Apple!“ The Siri team is looking for Machine Learning Engineers passionate about enabling natural Siri interactions and delivering such technology to users on a global scale. Build end-to-end model training and evaluation pipelines. Push the envelope on the latest research developments in speech and speaker recognition. Deploy machine-learned, on-device models that are aligned with the core values of Apple, ensuring the highest standards of quality, innovation, and respect for user privacy. And work with the people who created the intelligent assistant that helps millions of people around the world get things done through natural interactions with Siri. You should be creative, hard working, and ready to communicate and collaborate with multiple teams.\n",
      "\n",
      "Key Qualifications\n",
      "\n",
      "Key Qualifications\n",
      "Strong coding skills in Python, C/C++; Comfortable with frequent, incremental code testing and deployment\n",
      "Strong background in applied machine learning and deep learning; experience in speech, speaker, and/or language recognition a plus\n",
      "Proficiency in deep learning / machine learning frameworks (e.g., PyTorch, TensorFlow) and scripting languages (e.g., Python, bash), with strong software engineering fundamentals and an interest in optimizing and scaling systems globally\n",
      "Demonstrated strength in handling technical uncertainty and collaborating with partner teams to solve complex machine learning modeling problems\n",
      "\n",
      "\n",
      "Description\n",
      "\n",
      "Description\n",
      "\n",
      "You will be part of a team whose focus is on applied machine learning, on building and deploying models that constantly advance the state-of-the-art. But that is only half the story! In our team, we own products and user experiences end-to-end. We measure the impact of our deployed models not just on offline test sets, but also on production traffic. We optimize error rates on existing data. We also define new metrics and apply them to the data that best represents the next feature we ship. And we are sometimes constrained by the limits of on-device computation - that is where your ability to innovate will be most impactful. You will collaborate with many dynamic, cross-functional teams consisting of software engineers and machine learning engineers/scientists. The ideal candidate will excel in both academic rigor and engineering efficacy, staying up-to-date with the latest research advancements as well as delivering reliable and robust models to all devices for all users around the world. If you are passionate about building outstanding products and using the full spectrum of your skills to extend the core technology that lets Siri, personalize, and interact in new and exciting ways, then we cannot wait to hear from you.\n",
      "\n",
      "Education & Experience\n",
      "\n",
      "Education & Experience\n",
      "\n",
      "Ph. D. in a Machine Learning or related field, or M.S. with 3+ experiences in the area of Speech/Language Processing or Machine Learning\n",
      "\n",
      "Additional Requirements\n",
      "\n",
      "Additional Requirements\n",
      "\n",
      "Pay & Benefits\n",
      "\n",
      "Pay & Benefits\n",
      "At Apple, base pay is one part of our total compensation package and is determined within a range. This provides the opportunity to progress as you grow and develop within a role. The base pay range for this role is between $131,500.00 and $243,300.00, and your base pay will depend on your skills, qualifications, experience, and location.\n",
      "\n",
      "Apple employees also have the opportunity to become an Apple shareholder through participation in Apple’s discretionary employee stock programs. Apple employees are eligible for discretionary restricted stock unit awards, and can purchase Apple stock at a discount if voluntarily participating in Apple’s Employee Stock Purchase Plan. You’ll also receive benefits including: Comprehensive medical and dental coverage, retirement benefits, a range of discounted products and free services, and for formal education related to advancing your career at Apple, reimbursement for certain educational expenses - including tuition. Additionally, this role might be eligible for discretionary bonuses or commission payments as well as relocation. Learn more about Apple Benefits.\n",
      "\n",
      "Note: Apple benefit, compensation and employee stock programs are subject to eligibility requirements and other terms of the applicable plan or program.\n",
      "\n",
      "Apple is an equal opportunity employer that is committed to inclusion and diversity. We take affirmative action to ensure equal opportunity for all applicants without regard to race, color, religion, sex, sexual orientation, gender identity, national origin, disability, Veteran status, or other legally protected characteristics.\n"
     ]
    }
   ],
   "source": [
    "for fjd in fjds:\n",
    "    print(fjd.text)"
   ]
  },
  {
   "cell_type": "code",
   "execution_count": 27,
   "id": "bb10dd20-7733-4c57-b5dc-2e6d7b29ab32",
   "metadata": {},
   "outputs": [
    {
     "ename": "Error",
     "evalue": "It looks like you are using Playwright Sync API inside the asyncio loop.\nPlease use the Async API instead.",
     "output_type": "error",
     "traceback": [
      "\u001b[0;31m---------------------------------------------------------------------------\u001b[0m",
      "\u001b[0;31mError\u001b[0m                                     Traceback (most recent call last)",
      "Cell \u001b[0;32mIn[27], line 38\u001b[0m\n\u001b[1;32m     34\u001b[0m     context\u001b[38;5;241m.\u001b[39mclose()\n\u001b[1;32m     35\u001b[0m     browser\u001b[38;5;241m.\u001b[39mclose()\n\u001b[0;32m---> 38\u001b[0m \u001b[38;5;28;01mwith\u001b[39;00m sync_playwright() \u001b[38;5;28;01mas\u001b[39;00m playwright:\n\u001b[1;32m     39\u001b[0m     run(playwright)\n",
      "File \u001b[0;32m~/miniconda3/envs/lc/lib/python3.10/site-packages/playwright/sync_api/_context_manager.py:47\u001b[0m, in \u001b[0;36mPlaywrightContextManager.__enter__\u001b[0;34m(self)\u001b[0m\n\u001b[1;32m     45\u001b[0m             \u001b[38;5;28mself\u001b[39m\u001b[38;5;241m.\u001b[39m_own_loop \u001b[38;5;241m=\u001b[39m \u001b[38;5;28;01mTrue\u001b[39;00m\n\u001b[1;32m     46\u001b[0m         \u001b[38;5;28;01mif\u001b[39;00m \u001b[38;5;28mself\u001b[39m\u001b[38;5;241m.\u001b[39m_loop\u001b[38;5;241m.\u001b[39mis_running():\n\u001b[0;32m---> 47\u001b[0m             \u001b[38;5;28;01mraise\u001b[39;00m Error(\n\u001b[1;32m     48\u001b[0m \u001b[38;5;250m                \u001b[39m\u001b[38;5;124;03m\"\"\"It looks like you are using Playwright Sync API inside the asyncio loop.\u001b[39;00m\n\u001b[1;32m     49\u001b[0m \u001b[38;5;124;03mPlease use the Async API instead.\"\"\"\u001b[39;00m\n\u001b[1;32m     50\u001b[0m             )\n\u001b[1;32m     52\u001b[0m         \u001b[38;5;66;03m# Create a new fiber for the protocol dispatcher. It will be pumping events\u001b[39;00m\n\u001b[1;32m     53\u001b[0m         \u001b[38;5;66;03m# until the end of times. We will pass control to that fiber every time we\u001b[39;00m\n\u001b[1;32m     54\u001b[0m         \u001b[38;5;66;03m# block while waiting for a response.\u001b[39;00m\n\u001b[1;32m     55\u001b[0m         \u001b[38;5;28;01mdef\u001b[39;00m \u001b[38;5;21mgreenlet_main\u001b[39m() \u001b[38;5;241m-\u001b[39m\u001b[38;5;241m>\u001b[39m \u001b[38;5;28;01mNone\u001b[39;00m:\n",
      "\u001b[0;31mError\u001b[0m: It looks like you are using Playwright Sync API inside the asyncio loop.\nPlease use the Async API instead."
     ]
    }
   ],
   "source": [
    "from playwright.sync_api import Playwright, sync_playwright, expect\n",
    "\n",
    "\n",
    "def run(playwright: Playwright) -> None:\n",
    "    browser = playwright.chromium.launch(headless=False)\n",
    "    context = browser.new_context()\n",
    "    page = context.new_page()\n",
    "    page.goto(\"https://jobs.lever.co/refuel/32fcc718-e5de-4c30-b044-69631328bd0a/apply\")\n",
    "    page.get_by_label(\"Resume/CV ATTACH RESUME/CVCouldn't auto-read resume.Analyzing resume...Success!\").click()\n",
    "    page.get_by_label(\"Resume/CV ATTACH RESUME/CVCouldn't auto-read resume.Analyzing resume...Success!\").click()\n",
    "    page.get_by_label(\"Resume/CV ATTACH RESUME/CVCouldn't auto-read resume.Analyzing resume...Success!\").set_input_files(\"Rajath_CV_0_2 (1) (1).pdf\")\n",
    "    page.get_by_label(\"Current location No location found. Try entering a different locationLoading\").click()\n",
    "    page.frame_locator(\"iframe[title=\\\"Widget containing checkbox for hCaptcha security challenge\\\"] >> nth=1\").frame_locator(\"iframe[title=\\\"Main content of the hCaptcha challenge\\\"]\").get_by_role(\"button\", name=\"Skip Challenge\").click()\n",
    "    page.frame_locator(\"iframe[title=\\\"Widget containing checkbox for hCaptcha security challenge\\\"] >> nth=1\").frame_locator(\"iframe[title=\\\"Main content of the hCaptcha challenge\\\"]\").get_by_role(\"button\", name=\"Skip Challenge\").click()\n",
    "    page.locator(\"html\").click()\n",
    "    page.frame_locator(\"iframe[title=\\\"Widget containing checkbox for hCaptcha security challenge\\\"] >> nth=1\").frame_locator(\"iframe[title=\\\"Main content of the hCaptcha challenge\\\"]\").locator(\"canvas\").click(position={\"x\":249,\"y\":279})\n",
    "    page.frame_locator(\"iframe[title=\\\"Widget containing checkbox for hCaptcha security challenge\\\"] >> nth=1\").frame_locator(\"iframe[title=\\\"Main content of the hCaptcha challenge\\\"]\").locator(\"canvas\").click(position={\"x\":398,\"y\":428})\n",
    "    page.frame_locator(\"iframe[title=\\\"Widget containing checkbox for hCaptcha security challenge\\\"] >> nth=1\").frame_locator(\"iframe[title=\\\"Main content of the hCaptcha challenge\\\"]\").locator(\"canvas\").click(position={\"x\":267,\"y\":182})\n",
    "    page.frame_locator(\"iframe[title=\\\"Widget containing checkbox for hCaptcha security challenge\\\"] >> nth=1\").frame_locator(\"iframe[title=\\\"Main content of the hCaptcha challenge\\\"]\").get_by_role(\"button\", name=\"Next Challenge\").click()\n",
    "    page.frame_locator(\"iframe[title=\\\"Widget containing checkbox for hCaptcha security challenge\\\"] >> nth=1\").frame_locator(\"iframe[title=\\\"Main content of the hCaptcha challenge\\\"]\").locator(\"canvas\").click(position={\"x\":207,\"y\":269})\n",
    "    page.frame_locator(\"iframe[title=\\\"Widget containing checkbox for hCaptcha security challenge\\\"] >> nth=1\").frame_locator(\"iframe[title=\\\"Main content of the hCaptcha challenge\\\"]\").get_by_role(\"button\", name=\"Verify Answers\").click()\n",
    "    page.get_by_label(\"Current location No location found. Try entering a different locationLoading\").click()\n",
    "    page.get_by_label(\"Current location No location found. Try entering a different locationLoading\").fill(\"Canada\")\n",
    "    page.get_by_label(\"Current location No location found. Try entering a different locationLoading\").click()\n",
    "    page.locator(\"#application-form\").click()\n",
    "    page.get_by_label(\"LinkedIn URL\").click()\n",
    "    page.get_by_label(\"Current location No location found. Try entering a different locationLoading\").click()\n",
    "    page.get_by_label(\"LinkedIn URL\").click()\n",
    "    page.get_by_label(\"Twitter URL\").click()\n",
    "    page.get_by_label(\"Portfolio URL\").click()\n",
    "    page.get_by_role(\"button\", name=\"Submit application\").click()\n",
    "\n",
    "    # ---------------------\n",
    "    context.close()\n",
    "    browser.close()\n",
    "\n",
    "\n",
    "with sync_playwright() as playwright:\n",
    "    run(playwright)\n"
   ]
  },
  {
   "cell_type": "code",
   "execution_count": 19,
   "id": "48235d6a-819e-4556-b89f-eb38462a13d5",
   "metadata": {},
   "outputs": [],
   "source": [
    "from playwright.sync_api import Playwright, sync_playwright, expect\n"
   ]
  },
  {
   "cell_type": "code",
   "execution_count": 21,
   "id": "fb8e8eed-fbb4-40e8-a824-8e0d319dcbe5",
   "metadata": {},
   "outputs": [
    {
     "ename": "AttributeError",
     "evalue": "'property' object has no attribute 'launch'",
     "output_type": "error",
     "traceback": [
      "\u001b[0;31m---------------------------------------------------------------------------\u001b[0m",
      "\u001b[0;31mAttributeError\u001b[0m                            Traceback (most recent call last)",
      "Cell \u001b[0;32mIn[21], line 1\u001b[0m\n\u001b[0;32m----> 1\u001b[0m browser \u001b[38;5;241m=\u001b[39m \u001b[43mPlaywright\u001b[49m\u001b[38;5;241;43m.\u001b[39;49m\u001b[43mchromium\u001b[49m\u001b[38;5;241;43m.\u001b[39;49m\u001b[43mlaunch\u001b[49m(headless\u001b[38;5;241m=\u001b[39m\u001b[38;5;28;01mFalse\u001b[39;00m)\n\u001b[1;32m      2\u001b[0m context \u001b[38;5;241m=\u001b[39m browser\u001b[38;5;241m.\u001b[39mnew_context()\n",
      "\u001b[0;31mAttributeError\u001b[0m: 'property' object has no attribute 'launch'"
     ]
    }
   ],
   "source": [
    "    browser = Playwright.chromium.launch(headless=False)\n",
    "    context = browser.new_context()"
   ]
  },
  {
   "cell_type": "code",
   "execution_count": 25,
   "id": "d235e525-a38f-4cce-850a-ce6ea65f3ca9",
   "metadata": {},
   "outputs": [],
   "source": [
    "from playwright.async_api import async_playwright\n"
   ]
  },
  {
   "cell_type": "code",
   "execution_count": 26,
   "id": "d7a3710d-445f-4282-b679-f75db043d13c",
   "metadata": {},
   "outputs": [
    {
     "ename": "Error",
     "evalue": "It looks like you are using Playwright Sync API inside the asyncio loop.\nPlease use the Async API instead.",
     "output_type": "error",
     "traceback": [
      "\u001b[0;31m---------------------------------------------------------------------------\u001b[0m",
      "\u001b[0;31mError\u001b[0m                                     Traceback (most recent call last)",
      "Cell \u001b[0;32mIn[26], line 1\u001b[0m\n\u001b[0;32m----> 1\u001b[0m p \u001b[38;5;241m=\u001b[39m \u001b[43msync_playwright\u001b[49m\u001b[43m(\u001b[49m\u001b[43m)\u001b[49m\u001b[38;5;241;43m.\u001b[39;49m\u001b[43mstart\u001b[49m\u001b[43m(\u001b[49m\u001b[43m)\u001b[49m\n\u001b[1;32m      2\u001b[0m browser \u001b[38;5;241m=\u001b[39m p\u001b[38;5;241m.\u001b[39mchromium\u001b[38;5;241m.\u001b[39mlaunch(headless\u001b[38;5;241m=\u001b[39m\u001b[38;5;28;01mFalse\u001b[39;00m)\n\u001b[1;32m      3\u001b[0m context \u001b[38;5;241m=\u001b[39m browser\u001b[38;5;241m.\u001b[39mnew_context()\n",
      "File \u001b[0;32m~/miniconda3/envs/lc/lib/python3.10/site-packages/playwright/sync_api/_context_manager.py:84\u001b[0m, in \u001b[0;36mPlaywrightContextManager.start\u001b[0;34m(self)\u001b[0m\n\u001b[1;32m     83\u001b[0m \u001b[38;5;28;01mdef\u001b[39;00m \u001b[38;5;21mstart\u001b[39m(\u001b[38;5;28mself\u001b[39m) \u001b[38;5;241m-\u001b[39m\u001b[38;5;241m>\u001b[39m SyncPlaywright:\n\u001b[0;32m---> 84\u001b[0m     \u001b[38;5;28;01mreturn\u001b[39;00m \u001b[38;5;28;43mself\u001b[39;49m\u001b[38;5;241;43m.\u001b[39;49m\u001b[38;5;21;43m__enter__\u001b[39;49m\u001b[43m(\u001b[49m\u001b[43m)\u001b[49m\n",
      "File \u001b[0;32m~/miniconda3/envs/lc/lib/python3.10/site-packages/playwright/sync_api/_context_manager.py:47\u001b[0m, in \u001b[0;36mPlaywrightContextManager.__enter__\u001b[0;34m(self)\u001b[0m\n\u001b[1;32m     45\u001b[0m             \u001b[38;5;28mself\u001b[39m\u001b[38;5;241m.\u001b[39m_own_loop \u001b[38;5;241m=\u001b[39m \u001b[38;5;28;01mTrue\u001b[39;00m\n\u001b[1;32m     46\u001b[0m         \u001b[38;5;28;01mif\u001b[39;00m \u001b[38;5;28mself\u001b[39m\u001b[38;5;241m.\u001b[39m_loop\u001b[38;5;241m.\u001b[39mis_running():\n\u001b[0;32m---> 47\u001b[0m             \u001b[38;5;28;01mraise\u001b[39;00m Error(\n\u001b[1;32m     48\u001b[0m \u001b[38;5;250m                \u001b[39m\u001b[38;5;124;03m\"\"\"It looks like you are using Playwright Sync API inside the asyncio loop.\u001b[39;00m\n\u001b[1;32m     49\u001b[0m \u001b[38;5;124;03mPlease use the Async API instead.\"\"\"\u001b[39;00m\n\u001b[1;32m     50\u001b[0m             )\n\u001b[1;32m     52\u001b[0m         \u001b[38;5;66;03m# Create a new fiber for the protocol dispatcher. It will be pumping events\u001b[39;00m\n\u001b[1;32m     53\u001b[0m         \u001b[38;5;66;03m# until the end of times. We will pass control to that fiber every time we\u001b[39;00m\n\u001b[1;32m     54\u001b[0m         \u001b[38;5;66;03m# block while waiting for a response.\u001b[39;00m\n\u001b[1;32m     55\u001b[0m         \u001b[38;5;28;01mdef\u001b[39;00m \u001b[38;5;21mgreenlet_main\u001b[39m() \u001b[38;5;241m-\u001b[39m\u001b[38;5;241m>\u001b[39m \u001b[38;5;28;01mNone\u001b[39;00m:\n",
      "\u001b[0;31mError\u001b[0m: It looks like you are using Playwright Sync API inside the asyncio loop.\nPlease use the Async API instead."
     ]
    }
   ],
   "source": [
    "p = sync_playwright().start()\n",
    "browser = p.chromium.launch(headless=False)\n",
    "context = browser.new_context()\n",
    "page = context.new_page()\n",
    "page.goto('https://jobs.lever.co/refuel/32fcc718-e5de-4c30-b044-69631328bd0a/apply')"
   ]
  },
  {
   "cell_type": "code",
   "execution_count": 29,
   "id": "9466c81a-98c0-4b22-bf26-e1fc49e3d79f",
   "metadata": {},
   "outputs": [],
   "source": [
    "from playwright.async_api import async_playwright\n",
    "\n",
    "async with async_playwright() as p:\n",
    "    browser = await p.chromium.launch(headless=False)\n",
    "    page = await browser.new_page()\n",
    "    "
   ]
  },
  {
   "cell_type": "code",
   "execution_count": 1,
   "id": "26148b76-cefc-4d0f-82ab-5ceee0b62e26",
   "metadata": {},
   "outputs": [],
   "source": [
    "from selenium import webdriver\n",
    "from selenium.webdriver.chrome.service import Service\n",
    "from selenium.webdriver.common.by import By\n",
    "from selenium.webdriver.chrome.options import Options\n",
    "import time\n",
    "from webdriver_manager.chrome import ChromeDriverManager"
   ]
  },
  {
   "cell_type": "code",
   "execution_count": 2,
   "id": "aa43debb-abf5-4e45-8980-31761d383f71",
   "metadata": {},
   "outputs": [],
   "source": [
    "driver = webdriver.Chrome(service=Service(ChromeDriverManager().install()))"
   ]
  },
  {
   "cell_type": "code",
   "execution_count": 3,
   "id": "25f0f1f3-3417-4bff-9737-5b6568db1bbd",
   "metadata": {},
   "outputs": [],
   "source": [
    "driver.get(\"https://jobs.lever.co/refuel/32fcc718-e5de-4c30-b044-69631328bd0a/apply\")"
   ]
  },
  {
   "cell_type": "code",
   "execution_count": 11,
   "id": "ad3ea8b9-5655-4068-a04b-f277aa699c4f",
   "metadata": {},
   "outputs": [],
   "source": [
    "pdfButton = driver.find_element(By.ID, \"resume-upload-input\")"
   ]
  },
  {
   "cell_type": "code",
   "execution_count": 12,
   "id": "49b8890e-66ca-48a6-8125-d86fcf8da3c1",
   "metadata": {},
   "outputs": [],
   "source": [
    "pdf_path = \"https://rajathbharadwaj.github.io/Updates/resume.pdf\""
   ]
  },
  {
   "cell_type": "code",
   "execution_count": 13,
   "id": "f870e567-03ec-41ae-b0c3-cf4d804bf2e4",
   "metadata": {},
   "outputs": [
    {
     "ename": "InvalidArgumentException",
     "evalue": "Message: invalid argument: File not found : https://rajathbharadwaj.github.io/Updates/resume.pdf\n  (Session info: chrome=122.0.6261.129)\nStacktrace:\n0   chromedriver                        0x0000000104750524 chromedriver + 3966244\n1   chromedriver                        0x0000000104748ab0 chromedriver + 3934896\n2   chromedriver                        0x00000001043cbda0 chromedriver + 277920\n3   chromedriver                        0x0000000104407d30 chromedriver + 523568\n4   chromedriver                        0x00000001044048a8 chromedriver + 510120\n5   chromedriver                        0x0000000104446bf0 chromedriver + 781296\n6   chromedriver                        0x0000000104402fb0 chromedriver + 503728\n7   chromedriver                        0x0000000104403a28 chromedriver + 506408\n8   chromedriver                        0x000000010471570c chromedriver + 3725068\n9   chromedriver                        0x0000000104719c00 chromedriver + 3742720\n10  chromedriver                        0x00000001046fe1f4 chromedriver + 3629556\n11  chromedriver                        0x000000010471a6fc chromedriver + 3745532\n12  chromedriver                        0x00000001046f156c chromedriver + 3577196\n13  chromedriver                        0x0000000104738f5c chromedriver + 3870556\n14  chromedriver                        0x0000000104739100 chromedriver + 3870976\n15  chromedriver                        0x0000000104748720 chromedriver + 3933984\n16  libsystem_pthread.dylib             0x000000018d192034 _pthread_start + 136\n17  libsystem_pthread.dylib             0x000000018d18ce3c thread_start + 8\n",
     "output_type": "error",
     "traceback": [
      "\u001b[0;31m---------------------------------------------------------------------------\u001b[0m",
      "\u001b[0;31mInvalidArgumentException\u001b[0m                  Traceback (most recent call last)",
      "Cell \u001b[0;32mIn[13], line 1\u001b[0m\n\u001b[0;32m----> 1\u001b[0m \u001b[43mpdfButton\u001b[49m\u001b[38;5;241;43m.\u001b[39;49m\u001b[43msend_keys\u001b[49m\u001b[43m(\u001b[49m\u001b[43mpdf_path\u001b[49m\u001b[43m)\u001b[49m\n",
      "File \u001b[0;32m~/miniconda3/envs/lc/lib/python3.10/site-packages/selenium/webdriver/remote/webelement.py:230\u001b[0m, in \u001b[0;36mWebElement.send_keys\u001b[0;34m(self, *value)\u001b[0m\n\u001b[1;32m    227\u001b[0m             remote_files\u001b[38;5;241m.\u001b[39mappend(\u001b[38;5;28mself\u001b[39m\u001b[38;5;241m.\u001b[39m_upload(file))\n\u001b[1;32m    228\u001b[0m         value \u001b[38;5;241m=\u001b[39m \u001b[38;5;124m\"\u001b[39m\u001b[38;5;130;01m\\n\u001b[39;00m\u001b[38;5;124m\"\u001b[39m\u001b[38;5;241m.\u001b[39mjoin(remote_files)\n\u001b[0;32m--> 230\u001b[0m \u001b[38;5;28;43mself\u001b[39;49m\u001b[38;5;241;43m.\u001b[39;49m\u001b[43m_execute\u001b[49m\u001b[43m(\u001b[49m\n\u001b[1;32m    231\u001b[0m \u001b[43m    \u001b[49m\u001b[43mCommand\u001b[49m\u001b[38;5;241;43m.\u001b[39;49m\u001b[43mSEND_KEYS_TO_ELEMENT\u001b[49m\u001b[43m,\u001b[49m\u001b[43m \u001b[49m\u001b[43m{\u001b[49m\u001b[38;5;124;43m\"\u001b[39;49m\u001b[38;5;124;43mtext\u001b[39;49m\u001b[38;5;124;43m\"\u001b[39;49m\u001b[43m:\u001b[49m\u001b[43m \u001b[49m\u001b[38;5;124;43m\"\u001b[39;49m\u001b[38;5;124;43m\"\u001b[39;49m\u001b[38;5;241;43m.\u001b[39;49m\u001b[43mjoin\u001b[49m\u001b[43m(\u001b[49m\u001b[43mkeys_to_typing\u001b[49m\u001b[43m(\u001b[49m\u001b[43mvalue\u001b[49m\u001b[43m)\u001b[49m\u001b[43m)\u001b[49m\u001b[43m,\u001b[49m\u001b[43m \u001b[49m\u001b[38;5;124;43m\"\u001b[39;49m\u001b[38;5;124;43mvalue\u001b[39;49m\u001b[38;5;124;43m\"\u001b[39;49m\u001b[43m:\u001b[49m\u001b[43m \u001b[49m\u001b[43mkeys_to_typing\u001b[49m\u001b[43m(\u001b[49m\u001b[43mvalue\u001b[49m\u001b[43m)\u001b[49m\u001b[43m}\u001b[49m\n\u001b[1;32m    232\u001b[0m \u001b[43m\u001b[49m\u001b[43m)\u001b[49m\n",
      "File \u001b[0;32m~/miniconda3/envs/lc/lib/python3.10/site-packages/selenium/webdriver/remote/webelement.py:394\u001b[0m, in \u001b[0;36mWebElement._execute\u001b[0;34m(self, command, params)\u001b[0m\n\u001b[1;32m    392\u001b[0m     params \u001b[38;5;241m=\u001b[39m {}\n\u001b[1;32m    393\u001b[0m params[\u001b[38;5;124m\"\u001b[39m\u001b[38;5;124mid\u001b[39m\u001b[38;5;124m\"\u001b[39m] \u001b[38;5;241m=\u001b[39m \u001b[38;5;28mself\u001b[39m\u001b[38;5;241m.\u001b[39m_id\n\u001b[0;32m--> 394\u001b[0m \u001b[38;5;28;01mreturn\u001b[39;00m \u001b[38;5;28;43mself\u001b[39;49m\u001b[38;5;241;43m.\u001b[39;49m\u001b[43m_parent\u001b[49m\u001b[38;5;241;43m.\u001b[39;49m\u001b[43mexecute\u001b[49m\u001b[43m(\u001b[49m\u001b[43mcommand\u001b[49m\u001b[43m,\u001b[49m\u001b[43m \u001b[49m\u001b[43mparams\u001b[49m\u001b[43m)\u001b[49m\n",
      "File \u001b[0;32m~/miniconda3/envs/lc/lib/python3.10/site-packages/selenium/webdriver/remote/webdriver.py:344\u001b[0m, in \u001b[0;36mWebDriver.execute\u001b[0;34m(self, driver_command, params)\u001b[0m\n\u001b[1;32m    342\u001b[0m response \u001b[38;5;241m=\u001b[39m \u001b[38;5;28mself\u001b[39m\u001b[38;5;241m.\u001b[39mcommand_executor\u001b[38;5;241m.\u001b[39mexecute(driver_command, params)\n\u001b[1;32m    343\u001b[0m \u001b[38;5;28;01mif\u001b[39;00m response:\n\u001b[0;32m--> 344\u001b[0m     \u001b[38;5;28;43mself\u001b[39;49m\u001b[38;5;241;43m.\u001b[39;49m\u001b[43merror_handler\u001b[49m\u001b[38;5;241;43m.\u001b[39;49m\u001b[43mcheck_response\u001b[49m\u001b[43m(\u001b[49m\u001b[43mresponse\u001b[49m\u001b[43m)\u001b[49m\n\u001b[1;32m    345\u001b[0m     response[\u001b[38;5;124m\"\u001b[39m\u001b[38;5;124mvalue\u001b[39m\u001b[38;5;124m\"\u001b[39m] \u001b[38;5;241m=\u001b[39m \u001b[38;5;28mself\u001b[39m\u001b[38;5;241m.\u001b[39m_unwrap_value(response\u001b[38;5;241m.\u001b[39mget(\u001b[38;5;124m\"\u001b[39m\u001b[38;5;124mvalue\u001b[39m\u001b[38;5;124m\"\u001b[39m, \u001b[38;5;28;01mNone\u001b[39;00m))\n\u001b[1;32m    346\u001b[0m     \u001b[38;5;28;01mreturn\u001b[39;00m response\n",
      "File \u001b[0;32m~/miniconda3/envs/lc/lib/python3.10/site-packages/selenium/webdriver/remote/errorhandler.py:229\u001b[0m, in \u001b[0;36mErrorHandler.check_response\u001b[0;34m(self, response)\u001b[0m\n\u001b[1;32m    227\u001b[0m         alert_text \u001b[38;5;241m=\u001b[39m value[\u001b[38;5;124m\"\u001b[39m\u001b[38;5;124malert\u001b[39m\u001b[38;5;124m\"\u001b[39m]\u001b[38;5;241m.\u001b[39mget(\u001b[38;5;124m\"\u001b[39m\u001b[38;5;124mtext\u001b[39m\u001b[38;5;124m\"\u001b[39m)\n\u001b[1;32m    228\u001b[0m     \u001b[38;5;28;01mraise\u001b[39;00m exception_class(message, screen, stacktrace, alert_text)  \u001b[38;5;66;03m# type: ignore[call-arg]  # mypy is not smart enough here\u001b[39;00m\n\u001b[0;32m--> 229\u001b[0m \u001b[38;5;28;01mraise\u001b[39;00m exception_class(message, screen, stacktrace)\n",
      "\u001b[0;31mInvalidArgumentException\u001b[0m: Message: invalid argument: File not found : https://rajathbharadwaj.github.io/Updates/resume.pdf\n  (Session info: chrome=122.0.6261.129)\nStacktrace:\n0   chromedriver                        0x0000000104750524 chromedriver + 3966244\n1   chromedriver                        0x0000000104748ab0 chromedriver + 3934896\n2   chromedriver                        0x00000001043cbda0 chromedriver + 277920\n3   chromedriver                        0x0000000104407d30 chromedriver + 523568\n4   chromedriver                        0x00000001044048a8 chromedriver + 510120\n5   chromedriver                        0x0000000104446bf0 chromedriver + 781296\n6   chromedriver                        0x0000000104402fb0 chromedriver + 503728\n7   chromedriver                        0x0000000104403a28 chromedriver + 506408\n8   chromedriver                        0x000000010471570c chromedriver + 3725068\n9   chromedriver                        0x0000000104719c00 chromedriver + 3742720\n10  chromedriver                        0x00000001046fe1f4 chromedriver + 3629556\n11  chromedriver                        0x000000010471a6fc chromedriver + 3745532\n12  chromedriver                        0x00000001046f156c chromedriver + 3577196\n13  chromedriver                        0x0000000104738f5c chromedriver + 3870556\n14  chromedriver                        0x0000000104739100 chromedriver + 3870976\n15  chromedriver                        0x0000000104748720 chromedriver + 3933984\n16  libsystem_pthread.dylib             0x000000018d192034 _pthread_start + 136\n17  libsystem_pthread.dylib             0x000000018d18ce3c thread_start + 8\n"
     ]
    }
   ],
   "source": [
    "pdfButton.send_keys(pdf_path)"
   ]
  },
  {
   "cell_type": "code",
   "execution_count": 3,
   "id": "2ed73209-3e49-4487-ae85-7573b618c12c",
   "metadata": {},
   "outputs": [],
   "source": [
    "import pandas as pd\n"
   ]
  },
  {
   "cell_type": "code",
   "execution_count": 4,
   "id": "54bca1ea-3e9c-4ba4-b799-5814da4ec992",
   "metadata": {},
   "outputs": [],
   "source": [
    "jobs_csv = pd.read_csv(\"jobs.csv\")"
   ]
  },
  {
   "cell_type": "code",
   "execution_count": 5,
   "id": "adc92894-6156-4731-a6e7-e2e438ecf8f7",
   "metadata": {},
   "outputs": [
    {
     "data": {
      "text/plain": [
       "Index(['site', 'job_url', 'job_url_direct', 'title', 'company', 'location',\n",
       "       'job_type', 'date_posted', 'interval', 'min_amount', 'max_amount',\n",
       "       'currency', 'is_remote', 'emails', 'description', 'company_url',\n",
       "       'company_url_direct', 'company_addresses', 'company_industry',\n",
       "       'company_num_employees', 'company_revenue', 'company_description',\n",
       "       'logo_photo_url', 'banner_photo_url', 'ceo_name', 'ceo_photo_url'],\n",
       "      dtype='object')"
      ]
     },
     "execution_count": 5,
     "metadata": {},
     "output_type": "execute_result"
    }
   ],
   "source": [
    "jobs_csv.columns\n"
   ]
  },
  {
   "cell_type": "code",
   "execution_count": 12,
   "id": "a13a8507-515d-4e30-b058-23fc963e69f9",
   "metadata": {},
   "outputs": [],
   "source": [
    "import numpy as np\n"
   ]
  },
  {
   "cell_type": "code",
   "execution_count": 15,
   "id": "40a18426-299c-4c16-b02c-1a8ca61a3741",
   "metadata": {},
   "outputs": [
    {
     "data": {
      "text/plain": [
       "array([nan, nan, nan, nan, nan, nan, nan, nan, nan, nan, nan, nan, nan,\n",
       "       nan, nan,\n",
       "       'https://recruiting.southernglazers.com/job/Dallas-Developer-TX-75254/1134793000/?feedId=364800&utm_source=Indeed&utm_campaign=SWS_Indeed',\n",
       "       'https://www.comeet.com/jobs/oscarmike/55.00E/full-stack-developer-sr/69.442?coref=1.11.p44_9F1',\n",
       "       'http://www.indeed.com/job/lead-software-engineer-emerging-payments-139bf349e8ab8716',\n",
       "       'http://www.indeed.com/job/software-engineer-iii-java-aws-777c6ac86584a4de',\n",
       "       'https://click.appcast.io/track/iy9zfqv-org?cs=5c&jg=1yfx&bid=lUf2CslKyPxm6i440ZgUYA==',\n",
       "       'https://www1.jobdiva.com/candidates/myjobs/openjob_outside.jsp?a=3ojdnwdfdyu9is17c26kmw5xp055kn09c7xibs4vm0yvz1o7t3tdvn5vt8ucm9eg&SearchString=&StatesString=&source=indeed.com&id=26613989&compid=-1',\n",
       "       'https://careers.brocksolutions.com//Careers.aspx?req=CTR-SUPP-DAL-24-1&type=JOBDESCR',\n",
       "       'http://www.indeed.com/job/ai-consultant-c1d630dbce81effd',\n",
       "       'https://jsv3.recruitics.com/redirect?rx_cid=3436&rx_jobId=R-01232015-1&rx_url=https%3A%2F%2Fjobs.thermofisher.com%2Fglobal%2Fen%2Fjob%2FR-01232015%2FEngineer-III-Systems-Design%3Frx_a%3D0%26rx_c%3D%26rx_ch%3Djobp4p%26rx_group%3D123525%26rx_job%3DR-01232015-1%26rx_medium%3Dcpc%26rx_r%3Dnone%26rx_source%3Dindeed%26rx_ts%3D20240323T020802Z%26rx_vp%3Dcpc%26utm_medium%3Dppc%26utm_source%3Drecruitics_indeedorganic',\n",
       "       'https://workforcenow.adp.com/mascsr/default/mdf/recruitment/recruitment.html?cid=58758dfc-14f0-4c27-ab28-426c1122d8c0&ccId=19000101_000001&jobId=494219&source=IN&lang=en_US',\n",
       "       'https://galtmedical.applytojob.com/apply/aFMcOxrYBw/Automation-Engineer?source=INDE&~',\n",
       "       'http://www.indeed.com/job/senior-software-engineer-d028715ff239061d',\n",
       "       'https://click.appcast.io/track/ixj0rcb-org?cs=5c&jg=1yfx&bid=lUf2CslKyPxm6i440ZgUYA==',\n",
       "       'https://d.hodes.com/r/tp2?e=se&tv=pixel_tracker&aid=jpmorgan&p=web&se_ca=indeed&se_ac=click&se_la=20106953&u=https%3A%2F%2Fjpmc.fa.oraclecloud.com%2FhcmUI%2FCandidateExperience%2Fen%2Fsites%2FCX_1001%2Fjob%2F210501820%3Futm_medium%3Dsymphonytalent-jobads%26utm_campaign%3DNAMR%2520Priority%2520-%2520Texas%26utm_content%3DPrincipal%2520Software%2520Engineer-%2520Public%2520Cloud%26utm_term%3D210501820%26utm_source%3DIndeed&se_pr=d378060057c4b216&se_va=26983&tr_af=organic&ti_id=2245_210501820',\n",
       "       'https://www.lockheedmartinjobs.com/job/grand-prairie/staff-robotics-automation-engineer-dallas-tx-or-orlando-fl/694/54733810176',\n",
       "       'https://careers.micron.com/careers/job/19449010?utm_source=indeed&domain=micron.com',\n",
       "       nan, nan, nan, nan, nan, nan, nan, nan, nan, nan, nan, nan, nan,\n",
       "       nan, nan, nan, nan, nan, nan, nan, nan, nan, nan, nan, nan, nan,\n",
       "       nan, nan, nan, nan, nan, nan, nan, nan, nan, nan, nan, nan, nan,\n",
       "       nan], dtype=object)"
      ]
     },
     "execution_count": 15,
     "metadata": {},
     "output_type": "execute_result"
    }
   ],
   "source": [
    "jobs_csv[\"job_url_direct\"].values"
   ]
  },
  {
   "cell_type": "code",
   "execution_count": null,
   "id": "2a0ee171-3caf-4a45-9024-24390ff3a132",
   "metadata": {},
   "outputs": [],
   "source": []
  }
 ],
 "metadata": {
  "kernelspec": {
   "display_name": "Python 3 (ipykernel)",
   "language": "python",
   "name": "python3"
  },
  "language_info": {
   "codemirror_mode": {
    "name": "ipython",
    "version": 3
   },
   "file_extension": ".py",
   "mimetype": "text/x-python",
   "name": "python",
   "nbconvert_exporter": "python",
   "pygments_lexer": "ipython3",
   "version": "3.10.12"
  }
 },
 "nbformat": 4,
 "nbformat_minor": 5
}
